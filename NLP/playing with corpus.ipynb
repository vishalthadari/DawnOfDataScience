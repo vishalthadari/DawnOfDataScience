{
 "cells": [
  {
   "cell_type": "markdown",
   "metadata": {},
   "source": [
    "**Gutenberg Corpus contain lot of books lets load and play with it**"
   ]
  },
  {
   "cell_type": "code",
   "execution_count": 22,
   "metadata": {},
   "outputs": [],
   "source": [
    "import nltk\n",
    "from nltk.corpus import gutenberg\n",
    "from nltk import FreqDist\n"
   ]
  },
  {
   "cell_type": "markdown",
   "metadata": {},
   "source": [
    "**Firstly lets check what fields are present in gultenberg**"
   ]
  },
  {
   "cell_type": "code",
   "execution_count": 23,
   "metadata": {},
   "outputs": [
    {
     "data": {
      "text/plain": [
       "['austen-emma.txt',\n",
       " 'austen-persuasion.txt',\n",
       " 'austen-sense.txt',\n",
       " 'bible-kjv.txt',\n",
       " 'blake-poems.txt',\n",
       " 'bryant-stories.txt',\n",
       " 'burgess-busterbrown.txt',\n",
       " 'carroll-alice.txt',\n",
       " 'chesterton-ball.txt',\n",
       " 'chesterton-brown.txt',\n",
       " 'chesterton-thursday.txt',\n",
       " 'edgeworth-parents.txt',\n",
       " 'melville-moby_dick.txt',\n",
       " 'milton-paradise.txt',\n",
       " 'shakespeare-caesar.txt',\n",
       " 'shakespeare-hamlet.txt',\n",
       " 'shakespeare-macbeth.txt',\n",
       " 'whitman-leaves.txt']"
      ]
     },
     "execution_count": 23,
     "metadata": {},
     "output_type": "execute_result"
    }
   ],
   "source": [
    "nltk.corpus.gutenberg.fileids()"
   ]
  },
  {
   "cell_type": "markdown",
   "metadata": {},
   "source": [
    "**Pick any .txt file and check how many words it contains**"
   ]
  },
  {
   "cell_type": "code",
   "execution_count": 24,
   "metadata": {},
   "outputs": [
    {
     "data": {
      "text/plain": [
       "192427"
      ]
     },
     "execution_count": 24,
     "metadata": {},
     "output_type": "execute_result"
    }
   ],
   "source": [
    "emma = nltk.corpus.gutenberg.words('austen-emma.txt')\n",
    "len(emma)"
   ]
  },
  {
   "cell_type": "markdown",
   "metadata": {},
   "source": [
    "**How the Words looks like**"
   ]
  },
  {
   "cell_type": "code",
   "execution_count": 25,
   "metadata": {},
   "outputs": [
    {
     "name": "stdout",
     "output_type": "stream",
     "text": [
      "['[', 'Emma', 'by', 'Jane', 'Austen', '1816', ']', ...]\n"
     ]
    }
   ],
   "source": [
    "emma = nltk.corpus.gutenberg.words('austen-emma.txt')\n",
    "print(emma)"
   ]
  },
  {
   "cell_type": "markdown",
   "metadata": {},
   "source": [
    "**How the raw text looks like**"
   ]
  },
  {
   "cell_type": "code",
   "execution_count": 35,
   "metadata": {},
   "outputs": [
    {
     "name": "stdout",
     "output_type": "stream",
     "text": [
      "[Emma by Jane Austen 1816]\n",
      "\n",
      "VOLUME I\n",
      "\n",
      "CHAPTER I\n",
      "\n",
      "\n",
      "\n",
      "[Persuasion by Jane Austen 1818]\n",
      "\n",
      "\n",
      "Chapter 1\n",
      "\n",
      "\n",
      "Sir\n",
      "[Sense and Sensibility by Jane Austen 1811]\n",
      "\n",
      "CHAPT\n",
      "[The King James Bible]\n",
      "\n",
      "The Old Testament of the K\n",
      "[Poems by William Blake 1789]\n",
      "\n",
      " \n",
      "SONGS OF INNOCENC\n",
      "[Stories to Tell to Children by Sara Cone Bryant 1\n",
      "[The Adventures of Buster Bear by Thornton W. Burg\n",
      "[Alice's Adventures in Wonderland by Lewis Carroll\n",
      "[The Ball and The Cross by G.K. Chesterton 1909]\n",
      "\n",
      "\n",
      "[The Wisdom of Father Brown by G. K. Chesterton 19\n",
      "[The Man Who Was Thursday by G. K. Chesterton 1908\n",
      "[The Parent's Assistant, by Maria Edgeworth]\r\n",
      "\r\n",
      "\r\n",
      "\n",
      "[Moby Dick by Herman Melville 1851]\r\n",
      "\r\n",
      "\r\n",
      "ETYMOLOGY\n",
      "[Paradise Lost by John Milton 1667] \n",
      " \n",
      " \n",
      "Book I \n",
      " \n",
      "[The Tragedie of Julius Caesar by William Shakespe\n",
      "[The Tragedie of Hamlet by William Shakespeare 159\n",
      "[The Tragedie of Macbeth by William Shakespeare 16\n",
      "[Leaves of Grass by Walt Whitman 1855]\n",
      "\n",
      "\n",
      "Come, sai\n"
     ]
    }
   ],
   "source": [
    "for w in gutenberg.fileids():\n",
    "    show=gutenberg.raw(w)\n",
    "    print(show[:50])\n",
    "\n",
    "\n",
    "    "
   ]
  },
  {
   "cell_type": "markdown",
   "metadata": {},
   "source": [
    "it will show the error of exceeding the file but output will  look like this"
   ]
  },
  {
   "cell_type": "markdown",
   "metadata": {},
   "source": [
    "**How sents Look like**"
   ]
  },
  {
   "cell_type": "code",
   "execution_count": 36,
   "metadata": {},
   "outputs": [
    {
     "name": "stdout",
     "output_type": "stream",
     "text": [
      "[['[', 'Emma', 'by', 'Jane', 'Austen', '1816', ']'], ['VOLUME', 'I'], ['CHAPTER', 'I'], ['Emma', 'Woodhouse', ',', 'handsome', ',', 'clever', ',', 'and', 'rich', ',', 'with', 'a', 'comfortable', 'home', 'and', 'happy', 'disposition', ',', 'seemed', 'to', 'unite', 'some', 'of', 'the', 'best', 'blessings', 'of', 'existence', ';', 'and', 'had', 'lived', 'nearly', 'twenty', '-', 'one', 'years', 'in', 'the', 'world', 'with', 'very', 'little', 'to', 'distress', 'or', 'vex', 'her', '.'], ['She', 'was', 'the', 'youngest', 'of', 'the', 'two', 'daughters', 'of', 'a', 'most', 'affectionate', ',', 'indulgent', 'father', ';', 'and', 'had', ',', 'in', 'consequence', 'of', 'her', 'sister', \"'\", 's', 'marriage', ',', 'been', 'mistress', 'of', 'his', 'house', 'from', 'a', 'very', 'early', 'period', '.'], ['Her', 'mother', 'had', 'died', 'too', 'long', 'ago', 'for', 'her', 'to', 'have', 'more', 'than', 'an', 'indistinct', 'remembrance', 'of', 'her', 'caresses', ';', 'and', 'her', 'place', 'had', 'been', 'supplied', 'by', 'an', 'excellent', 'woman', 'as', 'governess', ',', 'who', 'had', 'fallen', 'little', 'short', 'of', 'a', 'mother', 'in', 'affection', '.'], ['Sixteen', 'years', 'had', 'Miss', 'Taylor', 'been', 'in', 'Mr', '.', 'Woodhouse', \"'\", 's', 'family', ',', 'less', 'as', 'a', 'governess', 'than', 'a', 'friend', ',', 'very', 'fond', 'of', 'both', 'daughters', ',', 'but', 'particularly', 'of', 'Emma', '.'], ['Between', '_them_', 'it', 'was', 'more', 'the', 'intimacy', 'of', 'sisters', '.'], ['Even', 'before', 'Miss', 'Taylor', 'had', 'ceased', 'to', 'hold', 'the', 'nominal', 'office', 'of', 'governess', ',', 'the', 'mildness', 'of', 'her', 'temper', 'had', 'hardly', 'allowed', 'her', 'to', 'impose', 'any', 'restraint', ';', 'and', 'the', 'shadow', 'of', 'authority', 'being', 'now', 'long', 'passed', 'away', ',', 'they', 'had', 'been', 'living', 'together', 'as', 'friend', 'and', 'friend', 'very', 'mutually', 'attached', ',', 'and', 'Emma', 'doing', 'just', 'what', 'she', 'liked', ';', 'highly', 'esteeming', 'Miss', 'Taylor', \"'\", 's', 'judgment', ',', 'but', 'directed', 'chiefly', 'by', 'her', 'own', '.'], ['The', 'real', 'evils', ',', 'indeed', ',', 'of', 'Emma', \"'\", 's', 'situation', 'were', 'the', 'power', 'of', 'having', 'rather', 'too', 'much', 'her', 'own', 'way', ',', 'and', 'a', 'disposition', 'to', 'think', 'a', 'little', 'too', 'well', 'of', 'herself', ';', 'these', 'were', 'the', 'disadvantages', 'which', 'threatened', 'alloy', 'to', 'her', 'many', 'enjoyments', '.'], ['The', 'danger', ',', 'however', ',', 'was', 'at', 'present', 'so', 'unperceived', ',', 'that', 'they', 'did', 'not', 'by', 'any', 'means', 'rank', 'as', 'misfortunes', 'with', 'her', '.'], ['Sorrow', 'came', '--', 'a', 'gentle', 'sorrow', '--', 'but', 'not', 'at', 'all', 'in', 'the', 'shape', 'of', 'any', 'disagreeable', 'consciousness', '.--', 'Miss', 'Taylor', 'married', '.'], ['It', 'was', 'Miss', 'Taylor', \"'\", 's', 'loss', 'which', 'first', 'brought', 'grief', '.'], ['It', 'was', 'on', 'the', 'wedding', '-', 'day', 'of', 'this', 'beloved', 'friend', 'that', 'Emma', 'first', 'sat', 'in', 'mournful', 'thought', 'of', 'any', 'continuance', '.'], ['The', 'wedding', 'over', ',', 'and', 'the', 'bride', '-', 'people', 'gone', ',', 'her', 'father', 'and', 'herself', 'were', 'left', 'to', 'dine', 'together', ',', 'with', 'no', 'prospect', 'of', 'a', 'third', 'to', 'cheer', 'a', 'long', 'evening', '.'], ['Her', 'father', 'composed', 'himself', 'to', 'sleep', 'after', 'dinner', ',', 'as', 'usual', ',', 'and', 'she', 'had', 'then', 'only', 'to', 'sit', 'and', 'think', 'of', 'what', 'she', 'had', 'lost', '.'], ['The', 'event', 'had', 'every', 'promise', 'of', 'happiness', 'for', 'her', 'friend', '.'], ['Mr', '.', 'Weston', 'was', 'a', 'man', 'of', 'unexceptionable', 'character', ',', 'easy', 'fortune', ',', 'suitable', 'age', ',', 'and', 'pleasant', 'manners', ';', 'and', 'there', 'was', 'some', 'satisfaction', 'in', 'considering', 'with', 'what', 'self', '-', 'denying', ',', 'generous', 'friendship', 'she', 'had', 'always', 'wished', 'and', 'promoted', 'the', 'match', ';', 'but', 'it', 'was', 'a', 'black', 'morning', \"'\", 's', 'work', 'for', 'her', '.'], ['The', 'want', 'of', 'Miss', 'Taylor', 'would', 'be', 'felt', 'every', 'hour', 'of', 'every', 'day', '.'], ['She', 'recalled', 'her', 'past', 'kindness', '--', 'the', 'kindness', ',', 'the', 'affection', 'of', 'sixteen', 'years', '--', 'how', 'she', 'had', 'taught', 'and', 'how', 'she', 'had', 'played', 'with', 'her', 'from', 'five', 'years', 'old', '--', 'how', 'she', 'had', 'devoted', 'all', 'her', 'powers', 'to', 'attach', 'and', 'amuse', 'her', 'in', 'health', '--', 'and', 'how', 'nursed', 'her', 'through', 'the', 'various', 'illnesses', 'of', 'childhood', '.'], ['A', 'large', 'debt', 'of', 'gratitude', 'was', 'owing', 'here', ';', 'but', 'the', 'intercourse', 'of', 'the', 'last', 'seven', 'years', ',', 'the', 'equal', 'footing', 'and', 'perfect', 'unreserve', 'which', 'had', 'soon', 'followed', 'Isabella', \"'\", 's', 'marriage', ',', 'on', 'their', 'being', 'left', 'to', 'each', 'other', ',', 'was', 'yet', 'a', 'dearer', ',', 'tenderer', 'recollection', '.'], ['She', 'had', 'been', 'a', 'friend', 'and', 'companion', 'such', 'as', 'few', 'possessed', ':', 'intelligent', ',', 'well', '-', 'informed', ',', 'useful', ',', 'gentle', ',', 'knowing', 'all', 'the', 'ways', 'of', 'the', 'family', ',', 'interested', 'in', 'all', 'its', 'concerns', ',', 'and', 'peculiarly', 'interested', 'in', 'herself', ',', 'in', 'every', 'pleasure', ',', 'every', 'scheme', 'of', 'hers', '--', 'one', 'to', 'whom', 'she', 'could', 'speak', 'every', 'thought', 'as', 'it', 'arose', ',', 'and', 'who', 'had', 'such', 'an', 'affection', 'for', 'her', 'as', 'could', 'never', 'find', 'fault', '.'], ['How', 'was', 'she', 'to', 'bear', 'the', 'change', '?--', 'It', 'was', 'true', 'that', 'her', 'friend', 'was', 'going', 'only', 'half', 'a', 'mile', 'from', 'them', ';', 'but', 'Emma', 'was', 'aware', 'that', 'great', 'must', 'be', 'the', 'difference', 'between', 'a', 'Mrs', '.', 'Weston', ',', 'only', 'half', 'a', 'mile', 'from', 'them', ',', 'and', 'a', 'Miss', 'Taylor', 'in', 'the', 'house', ';', 'and', 'with', 'all', 'her', 'advantages', ',', 'natural', 'and', 'domestic', ',', 'she', 'was', 'now', 'in', 'great', 'danger', 'of', 'suffering', 'from', 'intellectual', 'solitude', '.'], ['She', 'dearly', 'loved', 'her', 'father', ',', 'but', 'he', 'was', 'no', 'companion', 'for', 'her', '.'], ['He', 'could', 'not', 'meet', 'her', 'in', 'conversation', ',', 'rational', 'or', 'playful', '.'], ['The', 'evil', 'of', 'the', 'actual', 'disparity', 'in', 'their', 'ages', '(', 'and', 'Mr', '.', 'Woodhouse', 'had', 'not', 'married', 'early', ')', 'was', 'much', 'increased', 'by', 'his', 'constitution', 'and', 'habits', ';', 'for', 'having', 'been', 'a', 'valetudinarian', 'all', 'his', 'life', ',', 'without', 'activity', 'of', 'mind', 'or', 'body', ',', 'he', 'was', 'a', 'much', 'older', 'man', 'in', 'ways', 'than', 'in', 'years', ';', 'and', 'though', 'everywhere', 'beloved', 'for', 'the', 'friendliness', 'of', 'his', 'heart', 'and', 'his', 'amiable', 'temper', ',', 'his', 'talents', 'could', 'not', 'have', 'recommended', 'him', 'at', 'any', 'time', '.'], ['Her', 'sister', ',', 'though', 'comparatively', 'but', 'little', 'removed', 'by', 'matrimony', ',', 'being', 'settled', 'in', 'London', ',', 'only', 'sixteen', 'miles', 'off', ',', 'was', 'much', 'beyond', 'her', 'daily', 'reach', ';', 'and', 'many', 'a', 'long', 'October', 'and', 'November', 'evening', 'must', 'be', 'struggled', 'through', 'at', 'Hartfield', ',', 'before', 'Christmas', 'brought', 'the', 'next', 'visit', 'from', 'Isabella', 'and', 'her', 'husband', ',', 'and', 'their', 'little', 'children', ',', 'to', 'fill', 'the', 'house', ',', 'and', 'give', 'her', 'pleasant', 'society', 'again', '.'], ['Highbury', ',', 'the', 'large', 'and', 'populous', 'village', ',', 'almost', 'amounting', 'to', 'a', 'town', ',', 'to', 'which', 'Hartfield', ',', 'in', 'spite', 'of', 'its', 'separate', 'lawn', ',', 'and', 'shrubberies', ',', 'and', 'name', ',', 'did', 'really', 'belong', ',', 'afforded', 'her', 'no', 'equals', '.'], ['The', 'Woodhouses', 'were', 'first', 'in', 'consequence', 'there', '.'], ['All', 'looked', 'up', 'to', 'them', '.'], ['She', 'had', 'many', 'acquaintance', 'in', 'the', 'place', ',', 'for', 'her', 'father', 'was', 'universally', 'civil', ',', 'but', 'not', 'one', 'among', 'them', 'who', 'could', 'be', 'accepted', 'in', 'lieu', 'of', 'Miss', 'Taylor', 'for', 'even', 'half', 'a', 'day', '.'], ['It', 'was', 'a', 'melancholy', 'change', ';', 'and', 'Emma', 'could', 'not', 'but', 'sigh', 'over', 'it', ',', 'and', 'wish', 'for', 'impossible', 'things', ',', 'till', 'her', 'father', 'awoke', ',', 'and', 'made', 'it', 'necessary', 'to', 'be', 'cheerful', '.'], ['His', 'spirits', 'required', 'support', '.'], ['He', 'was', 'a', 'nervous', 'man', ',', 'easily', 'depressed', ';', 'fond', 'of', 'every', 'body', 'that', 'he', 'was', 'used', 'to', ',', 'and', 'hating', 'to', 'part', 'with', 'them', ';', 'hating', 'change', 'of', 'every', 'kind', '.'], ['Matrimony', ',', 'as', 'the', 'origin', 'of', 'change', ',', 'was', 'always', 'disagreeable', ';', 'and', 'he', 'was', 'by', 'no', 'means', 'yet', 'reconciled', 'to', 'his', 'own', 'daughter', \"'\", 's', 'marrying', ',', 'nor', 'could', 'ever', 'speak', 'of', 'her', 'but', 'with', 'compassion', ',', 'though', 'it', 'had', 'been', 'entirely', 'a', 'match', 'of', 'affection', ',', 'when', 'he', 'was', 'now', 'obliged', 'to', 'part', 'with', 'Miss', 'Taylor', 'too', ';', 'and', 'from', 'his', 'habits', 'of', 'gentle', 'selfishness', ',', 'and', 'of', 'being', 'never', 'able', 'to', 'suppose', 'that', 'other', 'people', 'could', 'feel', 'differently', 'from', 'himself', ',', 'he', 'was', 'very', 'much', 'disposed', 'to', 'think', 'Miss', 'Taylor', 'had', 'done', 'as', 'sad', 'a', 'thing', 'for', 'herself', 'as', 'for', 'them', ',', 'and', 'would', 'have', 'been', 'a', 'great', 'deal', 'happier', 'if', 'she', 'had', 'spent', 'all', 'the', 'rest', 'of', 'her', 'life', 'at', 'Hartfield', '.'], ['Emma', 'smiled', 'and', 'chatted', 'as', 'cheerfully', 'as', 'she', 'could', ',', 'to', 'keep', 'him', 'from', 'such', 'thoughts', ';', 'but', 'when', 'tea', 'came', ',', 'it', 'was', 'impossible', 'for', 'him', 'not', 'to', 'say', 'exactly', 'as', 'he', 'had', 'said', 'at', 'dinner', ','], ['\"', 'Poor', 'Miss', 'Taylor', '!--', 'I', 'wish', 'she', 'were', 'here', 'again', '.'], ['What', 'a', 'pity', 'it', 'is', 'that', 'Mr', '.', 'Weston', 'ever', 'thought', 'of', 'her', '!\"'], ['\"', 'I', 'cannot', 'agree', 'with', 'you', ',', 'papa', ';', 'you', 'know', 'I', 'cannot', '.'], ['Mr', '.', 'Weston', 'is', 'such', 'a', 'good', '-', 'humoured', ',', 'pleasant', ',', 'excellent', 'man', ',', 'that', 'he', 'thoroughly', 'deserves', 'a', 'good', 'wife', ';--', 'and', 'you', 'would', 'not', 'have', 'had', 'Miss', 'Taylor', 'live', 'with', 'us', 'for', 'ever', ',', 'and', 'bear', 'all', 'my', 'odd', 'humours', ',', 'when', 'she', 'might', 'have', 'a', 'house', 'of', 'her', 'own', '?\"'], ['\"', 'A', 'house', 'of', 'her', 'own', '!--', 'But', 'where', 'is', 'the', 'advantage', 'of', 'a', 'house', 'of', 'her', 'own', '?'], ['This', 'is', 'three', 'times', 'as', 'large', '.--', 'And', 'you', 'have', 'never', 'any', 'odd', 'humours', ',', 'my', 'dear', '.\"'], ['\"', 'How', 'often', 'we', 'shall', 'be', 'going', 'to', 'see', 'them', ',', 'and', 'they', 'coming', 'to', 'see', 'us', '!--', 'We', 'shall', 'be', 'always', 'meeting', '!'], ['_We_', 'must', 'begin', ';', 'we', 'must', 'go', 'and', 'pay', 'wedding', 'visit', 'very', 'soon', '.\"'], ['\"', 'My', 'dear', ',', 'how', 'am', 'I', 'to', 'get', 'so', 'far', '?'], ['Randalls', 'is', 'such', 'a', 'distance', '.'], ['I', 'could', 'not', 'walk', 'half', 'so', 'far', '.\"'], ['\"', 'No', ',', 'papa', ',', 'nobody', 'thought', 'of', 'your', 'walking', '.'], ['We', 'must', 'go', 'in', 'the', 'carriage', ',', 'to', 'be', 'sure', '.\"'], ['\"', 'The', 'carriage', '!']]\n",
      "[['[', 'Persuasion', 'by', 'Jane', 'Austen', '1818', ']'], ['Chapter', '1'], ['Sir', 'Walter', 'Elliot', ',', 'of', 'Kellynch', 'Hall', ',', 'in', 'Somersetshire', ',', 'was', 'a', 'man', 'who', ',', 'for', 'his', 'own', 'amusement', ',', 'never', 'took', 'up', 'any', 'book', 'but', 'the', 'Baronetage', ';', 'there', 'he', 'found', 'occupation', 'for', 'an', 'idle', 'hour', ',', 'and', 'consolation', 'in', 'a', 'distressed', 'one', ';', 'there', 'his', 'faculties', 'were', 'roused', 'into', 'admiration', 'and', 'respect', ',', 'by', 'contemplating', 'the', 'limited', 'remnant', 'of', 'the', 'earliest', 'patents', ';', 'there', 'any', 'unwelcome', 'sensations', ',', 'arising', 'from', 'domestic', 'affairs', 'changed', 'naturally', 'into', 'pity', 'and', 'contempt', 'as', 'he', 'turned', 'over', 'the', 'almost', 'endless', 'creations', 'of', 'the', 'last', 'century', ';', 'and', 'there', ',', 'if', 'every', 'other', 'leaf', 'were', 'powerless', ',', 'he', 'could', 'read', 'his', 'own', 'history', 'with', 'an', 'interest', 'which', 'never', 'failed', '.'], ['This', 'was', 'the', 'page', 'at', 'which', 'the', 'favourite', 'volume', 'always', 'opened', ':'], ['\"', 'ELLIOT', 'OF', 'KELLYNCH', 'HALL', '.'], ['\"', 'Walter', 'Elliot', ',', 'born', 'March', '1', ',', '1760', ',', 'married', ',', 'July', '15', ',', '1784', ',', 'Elizabeth', ',', 'daughter', 'of', 'James', 'Stevenson', ',', 'Esq', '.'], ['of', 'South', 'Park', ',', 'in', 'the', 'county', 'of', 'Gloucester', ',', 'by', 'which', 'lady', '(', 'who', 'died', '1800', ')', 'he', 'has', 'issue', 'Elizabeth', ',', 'born', 'June', '1', ',', '1785', ';', 'Anne', ',', 'born', 'August', '9', ',', '1787', ';', 'a', 'still', '-', 'born', 'son', ',', 'November', '5', ',', '1789', ';', 'Mary', ',', 'born', 'November', '20', ',', '1791', '.\"'], ['Precisely', 'such', 'had', 'the', 'paragraph', 'originally', 'stood', 'from', 'the', 'printer', \"'\", 's', 'hands', ';', 'but', 'Sir', 'Walter', 'had', 'improved', 'it', 'by', 'adding', ',', 'for', 'the', 'information', 'of', 'himself', 'and', 'his', 'family', ',', 'these', 'words', ',', 'after', 'the', 'date', 'of', 'Mary', \"'\", 's', 'birth', '--', '\"', 'Married', ',', 'December', '16', ',', '1810', ',', 'Charles', ',', 'son', 'and', 'heir', 'of', 'Charles', 'Musgrove', ',', 'Esq', '.'], ['of', 'Uppercross', ',', 'in', 'the', 'county', 'of', 'Somerset', ',\"', 'and', 'by', 'inserting', 'most', 'accurately', 'the', 'day', 'of', 'the', 'month', 'on', 'which', 'he', 'had', 'lost', 'his', 'wife', '.'], ['Then', 'followed', 'the', 'history', 'and', 'rise', 'of', 'the', 'ancient', 'and', 'respectable', 'family', ',', 'in', 'the', 'usual', 'terms', ';', 'how', 'it', 'had', 'been', 'first', 'settled', 'in', 'Cheshire', ';', 'how', 'mentioned', 'in', 'Dugdale', ',', 'serving', 'the', 'office', 'of', 'high', 'sheriff', ',', 'representing', 'a', 'borough', 'in', 'three', 'successive', 'parliaments', ',', 'exertions', 'of', 'loyalty', ',', 'and', 'dignity', 'of', 'baronet', ',', 'in', 'the', 'first', 'year', 'of', 'Charles', 'II', ',', 'with', 'all', 'the', 'Marys', 'and', 'Elizabeths', 'they', 'had', 'married', ';', 'forming', 'altogether', 'two', 'handsome', 'duodecimo', 'pages', ',', 'and', 'concluding', 'with', 'the', 'arms', 'and', 'motto', ':--\"', 'Principal', 'seat', ',', 'Kellynch', 'Hall', ',', 'in', 'the', 'county', 'of', 'Somerset', ',\"', 'and', 'Sir', 'Walter', \"'\", 's', 'handwriting', 'again', 'in', 'this', 'finale', ':--'], ['\"', 'Heir', 'presumptive', ',', 'William', 'Walter', 'Elliot', ',', 'Esq', '.,', 'great', 'grandson', 'of', 'the', 'second', 'Sir', 'Walter', '.\"'], ['Vanity', 'was', 'the', 'beginning', 'and', 'the', 'end', 'of', 'Sir', 'Walter', 'Elliot', \"'\", 's', 'character', ';', 'vanity', 'of', 'person', 'and', 'of', 'situation', '.'], ['He', 'had', 'been', 'remarkably', 'handsome', 'in', 'his', 'youth', ';', 'and', ',', 'at', 'fifty', '-', 'four', ',', 'was', 'still', 'a', 'very', 'fine', 'man', '.'], ['Few', 'women', 'could', 'think', 'more', 'of', 'their', 'personal', 'appearance', 'than', 'he', 'did', ',', 'nor', 'could', 'the', 'valet', 'of', 'any', 'new', 'made', 'lord', 'be', 'more', 'delighted', 'with', 'the', 'place', 'he', 'held', 'in', 'society', '.'], ['He', 'considered', 'the', 'blessing', 'of', 'beauty', 'as', 'inferior', 'only', 'to', 'the', 'blessing', 'of', 'a', 'baronetcy', ';', 'and', 'the', 'Sir', 'Walter', 'Elliot', ',', 'who', 'united', 'these', 'gifts', ',', 'was', 'the', 'constant', 'object', 'of', 'his', 'warmest', 'respect', 'and', 'devotion', '.'], ['His', 'good', 'looks', 'and', 'his', 'rank', 'had', 'one', 'fair', 'claim', 'on', 'his', 'attachment', ';', 'since', 'to', 'them', 'he', 'must', 'have', 'owed', 'a', 'wife', 'of', 'very', 'superior', 'character', 'to', 'any', 'thing', 'deserved', 'by', 'his', 'own', '.'], ['Lady', 'Elliot', 'had', 'been', 'an', 'excellent', 'woman', ',', 'sensible', 'and', 'amiable', ';', 'whose', 'judgement', 'and', 'conduct', ',', 'if', 'they', 'might', 'be', 'pardoned', 'the', 'youthful', 'infatuation', 'which', 'made', 'her', 'Lady', 'Elliot', ',', 'had', 'never', 'required', 'indulgence', 'afterwards', '.--', 'She', 'had', 'humoured', ',', 'or', 'softened', ',', 'or', 'concealed', 'his', 'failings', ',', 'and', 'promoted', 'his', 'real', 'respectability', 'for', 'seventeen', 'years', ';', 'and', 'though', 'not', 'the', 'very', 'happiest', 'being', 'in', 'the', 'world', 'herself', ',', 'had', 'found', 'enough', 'in', 'her', 'duties', ',', 'her', 'friends', ',', 'and', 'her', 'children', ',', 'to', 'attach', 'her', 'to', 'life', ',', 'and', 'make', 'it', 'no', 'matter', 'of', 'indifference', 'to', 'her', 'when', 'she', 'was', 'called', 'on', 'to', 'quit', 'them', '.'], ['--', 'Three', 'girls', ',', 'the', 'two', 'eldest', 'sixteen', 'and', 'fourteen', ',', 'was', 'an', 'awful', 'legacy', 'for', 'a', 'mother', 'to', 'bequeath', ',', 'an', 'awful', 'charge', 'rather', ',', 'to', 'confide', 'to', 'the', 'authority', 'and', 'guidance', 'of', 'a', 'conceited', ',', 'silly', 'father', '.'], ['She', 'had', ',', 'however', ',', 'one', 'very', 'intimate', 'friend', ',', 'a', 'sensible', ',', 'deserving', 'woman', ',', 'who', 'had', 'been', 'brought', ',', 'by', 'strong', 'attachment', 'to', 'herself', ',', 'to', 'settle', 'close', 'by', 'her', ',', 'in', 'the', 'village', 'of', 'Kellynch', ';', 'and', 'on', 'her', 'kindness', 'and', 'advice', ',', 'Lady', 'Elliot', 'mainly', 'relied', 'for', 'the', 'best', 'help', 'and', 'maintenance', 'of', 'the', 'good', 'principles', 'and', 'instruction', 'which', 'she', 'had', 'been', 'anxiously', 'giving', 'her', 'daughters', '.'], ['This', 'friend', ',', 'and', 'Sir', 'Walter', ',', 'did', 'not', 'marry', ',', 'whatever', 'might', 'have', 'been', 'anticipated', 'on', 'that', 'head', 'by', 'their', 'acquaintance', '.'], ['Thirteen', 'years', 'had', 'passed', 'away', 'since', 'Lady', 'Elliot', \"'\", 's', 'death', ',', 'and', 'they', 'were', 'still', 'near', 'neighbours', 'and', 'intimate', 'friends', ',', 'and', 'one', 'remained', 'a', 'widower', ',', 'the', 'other', 'a', 'widow', '.'], ['That', 'Lady', 'Russell', ',', 'of', 'steady', 'age', 'and', 'character', ',', 'and', 'extremely', 'well', 'provided', 'for', ',', 'should', 'have', 'no', 'thought', 'of', 'a', 'second', 'marriage', ',', 'needs', 'no', 'apology', 'to', 'the', 'public', ',', 'which', 'is', 'rather', 'apt', 'to', 'be', 'unreasonably', 'discontented', 'when', 'a', 'woman', 'does', 'marry', 'again', ',', 'than', 'when', 'she', 'does', 'not', ';', 'but', 'Sir', 'Walter', \"'\", 's', 'continuing', 'in', 'singleness', 'requires', 'explanation', '.'], ['Be', 'it', 'known', 'then', ',', 'that', 'Sir', 'Walter', ',', 'like', 'a', 'good', 'father', ',', '(', 'having', 'met', 'with', 'one', 'or', 'two', 'private', 'disappointments', 'in', 'very', 'unreasonable', 'applications', '),', 'prided', 'himself', 'on', 'remaining', 'single', 'for', 'his', 'dear', 'daughters', \"'\", 'sake', '.'], ['For', 'one', 'daughter', ',', 'his', 'eldest', ',', 'he', 'would', 'really', 'have', 'given', 'up', 'any', 'thing', ',', 'which', 'he', 'had', 'not', 'been', 'very', 'much', 'tempted', 'to', 'do', '.'], ['Elizabeth', 'had', 'succeeded', ',', 'at', 'sixteen', ',', 'to', 'all', 'that', 'was', 'possible', ',', 'of', 'her', 'mother', \"'\", 's', 'rights', 'and', 'consequence', ';', 'and', 'being', 'very', 'handsome', ',', 'and', 'very', 'like', 'himself', ',', 'her', 'influence', 'had', 'always', 'been', 'great', ',', 'and', 'they', 'had', 'gone', 'on', 'together', 'most', 'happily', '.'], ['His', 'two', 'other', 'children', 'were', 'of', 'very', 'inferior', 'value', '.'], ['Mary', 'had', 'acquired', 'a', 'little', 'artificial', 'importance', ',', 'by', 'becoming', 'Mrs', 'Charles', 'Musgrove', ';', 'but', 'Anne', ',', 'with', 'an', 'elegance', 'of', 'mind', 'and', 'sweetness', 'of', 'character', ',', 'which', 'must', 'have', 'placed', 'her', 'high', 'with', 'any', 'people', 'of', 'real', 'understanding', ',', 'was', 'nobody', 'with', 'either', 'father', 'or', 'sister', ';', 'her', 'word', 'had', 'no', 'weight', ',', 'her', 'convenience', 'was', 'always', 'to', 'give', 'way', '--', 'she', 'was', 'only', 'Anne', '.'], ['To', 'Lady', 'Russell', ',', 'indeed', ',', 'she', 'was', 'a', 'most', 'dear', 'and', 'highly', 'valued', 'god', '-', 'daughter', ',', 'favourite', ',', 'and', 'friend', '.'], ['Lady', 'Russell', 'loved', 'them', 'all', ';', 'but', 'it', 'was', 'only', 'in', 'Anne', 'that', 'she', 'could', 'fancy', 'the', 'mother', 'to', 'revive', 'again', '.'], ['A', 'few', 'years', 'before', ',', 'Anne', 'Elliot', 'had', 'been', 'a', 'very', 'pretty', 'girl', ',', 'but', 'her', 'bloom', 'had', 'vanished', 'early', ';', 'and', 'as', 'even', 'in', 'its', 'height', ',', 'her', 'father', 'had', 'found', 'little', 'to', 'admire', 'in', 'her', ',', '(', 'so', 'totally', 'different', 'were', 'her', 'delicate', 'features', 'and', 'mild', 'dark', 'eyes', 'from', 'his', 'own', '),', 'there', 'could', 'be', 'nothing', 'in', 'them', ',', 'now', 'that', 'she', 'was', 'faded', 'and', 'thin', ',', 'to', 'excite', 'his', 'esteem', '.'], ['He', 'had', 'never', 'indulged', 'much', 'hope', ',', 'he', 'had', 'now', 'none', ',', 'of', 'ever', 'reading', 'her', 'name', 'in', 'any', 'other', 'page', 'of', 'his', 'favourite', 'work', '.'], ['All', 'equality', 'of', 'alliance', 'must', 'rest', 'with', 'Elizabeth', ',', 'for', 'Mary', 'had', 'merely', 'connected', 'herself', 'with', 'an', 'old', 'country', 'family', 'of', 'respectability', 'and', 'large', 'fortune', ',', 'and', 'had', 'therefore', 'given', 'all', 'the', 'honour', 'and', 'received', 'none', ':', 'Elizabeth', 'would', ',', 'one', 'day', 'or', 'other', ',', 'marry', 'suitably', '.'], ['It', 'sometimes', 'happens', 'that', 'a', 'woman', 'is', 'handsomer', 'at', 'twenty', '-', 'nine', 'than', 'she', 'was', 'ten', 'years', 'before', ';', 'and', ',', 'generally', 'speaking', ',', 'if', 'there', 'has', 'been', 'neither', 'ill', 'health', 'nor', 'anxiety', ',', 'it', 'is', 'a', 'time', 'of', 'life', 'at', 'which', 'scarcely', 'any', 'charm', 'is', 'lost', '.'], ['It', 'was', 'so', 'with', 'Elizabeth', ',', 'still', 'the', 'same', 'handsome', 'Miss', 'Elliot', 'that', 'she', 'had', 'begun', 'to', 'be', 'thirteen', 'years', 'ago', ',', 'and', 'Sir', 'Walter', 'might', 'be', 'excused', ',', 'therefore', ',', 'in', 'forgetting', 'her', 'age', ',', 'or', ',', 'at', 'least', ',', 'be', 'deemed', 'only', 'half', 'a', 'fool', ',', 'for', 'thinking', 'himself', 'and', 'Elizabeth', 'as', 'blooming', 'as', 'ever', ',', 'amidst', 'the', 'wreck', 'of', 'the', 'good', 'looks', 'of', 'everybody', 'else', ';', 'for', 'he', 'could', 'plainly', 'see', 'how', 'old', 'all', 'the', 'rest', 'of', 'his', 'family', 'and', 'acquaintance', 'were', 'growing', '.'], ['Anne', 'haggard', ',', 'Mary', 'coarse', ',', 'every', 'face', 'in', 'the', 'neighbourhood', 'worsting', ',', 'and', 'the', 'rapid', 'increase', 'of', 'the', 'crow', \"'\", 's', 'foot', 'about', 'Lady', 'Russell', \"'\", 's', 'temples', 'had', 'long', 'been', 'a', 'distress', 'to', 'him', '.'], ['Elizabeth', 'did', 'not', 'quite', 'equal', 'her', 'father', 'in', 'personal', 'contentment', '.'], ['Thirteen', 'years', 'had', 'seen', 'her', 'mistress', 'of', 'Kellynch', 'Hall', ',', 'presiding', 'and', 'directing', 'with', 'a', 'self', '-', 'possession', 'and', 'decision', 'which', 'could', 'never', 'have', 'given', 'the', 'idea', 'of', 'her', 'being', 'younger', 'than', 'she', 'was', '.'], ['For', 'thirteen', 'years', 'had', 'she', 'been', 'doing', 'the', 'honours', ',', 'and', 'laying', 'down', 'the', 'domestic', 'law', 'at', 'home', ',', 'and', 'leading', 'the', 'way', 'to', 'the', 'chaise', 'and', 'four', ',', 'and', 'walking', 'immediately', 'after', 'Lady', 'Russell', 'out', 'of', 'all', 'the', 'drawing', '-', 'rooms', 'and', 'dining', '-', 'rooms', 'in', 'the', 'country', '.'], ['Thirteen', 'winters', \"'\", 'revolving', 'frosts', 'had', 'seen', 'her', 'opening', 'every', 'ball', 'of', 'credit', 'which', 'a', 'scanty', 'neighbourhood', 'afforded', ',', 'and', 'thirteen', 'springs', 'shewn', 'their', 'blossoms', ',', 'as', 'she', 'travelled', 'up', 'to', 'London', 'with', 'her', 'father', ',', 'for', 'a', 'few', 'weeks', \"'\", 'annual', 'enjoyment', 'of', 'the', 'great', 'world', '.'], ['She', 'had', 'the', 'remembrance', 'of', 'all', 'this', ',', 'she', 'had', 'the', 'consciousness', 'of', 'being', 'nine', '-', 'and', '-', 'twenty', 'to', 'give', 'her', 'some', 'regrets', 'and', 'some', 'apprehensions', ';', 'she', 'was', 'fully', 'satisfied', 'of', 'being', 'still', 'quite', 'as', 'handsome', 'as', 'ever', ',', 'but', 'she', 'felt', 'her', 'approach', 'to', 'the', 'years', 'of', 'danger', ',', 'and', 'would', 'have', 'rejoiced', 'to', 'be', 'certain', 'of', 'being', 'properly', 'solicited', 'by', 'baronet', '-', 'blood', 'within', 'the', 'next', 'twelvemonth', 'or', 'two', '.'], ['Then', 'might', 'she', 'again', 'take', 'up', 'the', 'book', 'of', 'books', 'with', 'as', 'much', 'enjoyment', 'as', 'in', 'her', 'early', 'youth', ',', 'but', 'now', 'she', 'liked', 'it', 'not', '.'], ['Always', 'to', 'be', 'presented', 'with', 'the', 'date', 'of', 'her', 'own', 'birth', 'and', 'see', 'no', 'marriage', 'follow', 'but', 'that', 'of', 'a', 'youngest', 'sister', ',', 'made', 'the', 'book', 'an', 'evil', ';', 'and', 'more', 'than', 'once', ',', 'when', 'her', 'father', 'had', 'left', 'it', 'open', 'on', 'the', 'table', 'near', 'her', ',', 'had', 'she', 'closed', 'it', ',', 'with', 'averted', 'eyes', ',', 'and', 'pushed', 'it', 'away', '.'], ['She', 'had', 'had', 'a', 'disappointment', ',', 'moreover', ',', 'which', 'that', 'book', ',', 'and', 'especially', 'the', 'history', 'of', 'her', 'own', 'family', ',', 'must', 'ever', 'present', 'the', 'remembrance', 'of', '.'], ['The', 'heir', 'presumptive', ',', 'the', 'very', 'William', 'Walter', 'Elliot', ',', 'Esq', '.,', 'whose', 'rights', 'had', 'been', 'so', 'generously', 'supported', 'by', 'her', 'father', ',', 'had', 'disappointed', 'her', '.'], ['She', 'had', ',', 'while', 'a', 'very', 'young', 'girl', ',', 'as', 'soon', 'as', 'she', 'had', 'known', 'him', 'to', 'be', ',', 'in', 'the', 'event', 'of', 'her', 'having', 'no', 'brother', ',', 'the', 'future', 'baronet', ',', 'meant', 'to', 'marry', 'him', ',', 'and', 'her', 'father', 'had', 'always', 'meant', 'that', 'she', 'should', '.'], ['He', 'had', 'not', 'been', 'known', 'to', 'them', 'as', 'a', 'boy', ';', 'but', 'soon', 'after', 'Lady', 'Elliot', \"'\", 's', 'death', ',', 'Sir', 'Walter', 'had', 'sought', 'the', 'acquaintance', ',', 'and', 'though', 'his', 'overtures', 'had', 'not', 'been', 'met', 'with', 'any', 'warmth', ',', 'he', 'had', 'persevered', 'in', 'seeking', 'it', ',', 'making', 'allowance', 'for', 'the', 'modest', 'drawing', '-', 'back', 'of', 'youth', ';', 'and', ',', 'in', 'one', 'of', 'their', 'spring', 'excursions', 'to', 'London', ',', 'when', 'Elizabeth', 'was', 'in', 'her', 'first', 'bloom', ',', 'Mr', 'Elliot', 'had', 'been', 'forced', 'into', 'the', 'introduction', '.'], ['He', 'was', 'at', 'that', 'time', 'a', 'very', 'young', 'man', ',', 'just', 'engaged', 'in', 'the', 'study', 'of', 'the', 'law', ';', 'and', 'Elizabeth', 'found', 'him', 'extremely', 'agreeable', ',', 'and', 'every', 'plan', 'in', 'his', 'favour', 'was', 'confirmed', '.'], ['He', 'was', 'invited', 'to', 'Kellynch', 'Hall', ';', 'he', 'was', 'talked', 'of', 'and', 'expected', 'all', 'the', 'rest', 'of', 'the', 'year', ';', 'but', 'he', 'never', 'came', '.'], ['The', 'following', 'spring', 'he', 'was', 'seen', 'again', 'in', 'town', ',', 'found', 'equally', 'agreeable', ',', 'again', 'encouraged', ',', 'invited', ',', 'and', 'expected', ',', 'and', 'again', 'he', 'did', 'not', 'come', ';', 'and', 'the', 'next', 'tidings', 'were', 'that', 'he', 'was', 'married', '.'], ['Instead', 'of', 'pushing', 'his', 'fortune', 'in', 'the', 'line', 'marked', 'out', 'for', 'the', 'heir', 'of', 'the', 'house', 'of', 'Elliot', ',', 'he', 'had', 'purchased', 'independence', 'by', 'uniting', 'himself', 'to', 'a', 'rich', 'woman', 'of', 'inferior', 'birth', '.']]\n",
      "[['[', 'Sense', 'and', 'Sensibility', 'by', 'Jane', 'Austen', '1811', ']'], ['CHAPTER', '1'], ['The', 'family', 'of', 'Dashwood', 'had', 'long', 'been', 'settled', 'in', 'Sussex', '.'], ['Their', 'estate', 'was', 'large', ',', 'and', 'their', 'residence', 'was', 'at', 'Norland', 'Park', ',', 'in', 'the', 'centre', 'of', 'their', 'property', ',', 'where', ',', 'for', 'many', 'generations', ',', 'they', 'had', 'lived', 'in', 'so', 'respectable', 'a', 'manner', 'as', 'to', 'engage', 'the', 'general', 'good', 'opinion', 'of', 'their', 'surrounding', 'acquaintance', '.'], ['The', 'late', 'owner', 'of', 'this', 'estate', 'was', 'a', 'single', 'man', ',', 'who', 'lived', 'to', 'a', 'very', 'advanced', 'age', ',', 'and', 'who', 'for', 'many', 'years', 'of', 'his', 'life', ',', 'had', 'a', 'constant', 'companion', 'and', 'housekeeper', 'in', 'his', 'sister', '.'], ['But', 'her', 'death', ',', 'which', 'happened', 'ten', 'years', 'before', 'his', 'own', ',', 'produced', 'a', 'great', 'alteration', 'in', 'his', 'home', ';', 'for', 'to', 'supply', 'her', 'loss', ',', 'he', 'invited', 'and', 'received', 'into', 'his', 'house', 'the', 'family', 'of', 'his', 'nephew', 'Mr', '.', 'Henry', 'Dashwood', ',', 'the', 'legal', 'inheritor', 'of', 'the', 'Norland', 'estate', ',', 'and', 'the', 'person', 'to', 'whom', 'he', 'intended', 'to', 'bequeath', 'it', '.'], ['In', 'the', 'society', 'of', 'his', 'nephew', 'and', 'niece', ',', 'and', 'their', 'children', ',', 'the', 'old', 'Gentleman', \"'\", 's', 'days', 'were', 'comfortably', 'spent', '.'], ['His', 'attachment', 'to', 'them', 'all', 'increased', '.'], ['The', 'constant', 'attention', 'of', 'Mr', '.', 'and', 'Mrs', '.', 'Henry', 'Dashwood', 'to', 'his', 'wishes', ',', 'which', 'proceeded', 'not', 'merely', 'from', 'interest', ',', 'but', 'from', 'goodness', 'of', 'heart', ',', 'gave', 'him', 'every', 'degree', 'of', 'solid', 'comfort', 'which', 'his', 'age', 'could', 'receive', ';', 'and', 'the', 'cheerfulness', 'of', 'the', 'children', 'added', 'a', 'relish', 'to', 'his', 'existence', '.'], ['By', 'a', 'former', 'marriage', ',', 'Mr', '.', 'Henry', 'Dashwood', 'had', 'one', 'son', ':', 'by', 'his', 'present', 'lady', ',', 'three', 'daughters', '.'], ['The', 'son', ',', 'a', 'steady', 'respectable', 'young', 'man', ',', 'was', 'amply', 'provided', 'for', 'by', 'the', 'fortune', 'of', 'his', 'mother', ',', 'which', 'had', 'been', 'large', ',', 'and', 'half', 'of', 'which', 'devolved', 'on', 'him', 'on', 'his', 'coming', 'of', 'age', '.'], ['By', 'his', 'own', 'marriage', ',', 'likewise', ',', 'which', 'happened', 'soon', 'afterwards', ',', 'he', 'added', 'to', 'his', 'wealth', '.'], ['To', 'him', 'therefore', 'the', 'succession', 'to', 'the', 'Norland', 'estate', 'was', 'not', 'so', 'really', 'important', 'as', 'to', 'his', 'sisters', ';', 'for', 'their', 'fortune', ',', 'independent', 'of', 'what', 'might', 'arise', 'to', 'them', 'from', 'their', 'father', \"'\", 's', 'inheriting', 'that', 'property', ',', 'could', 'be', 'but', 'small', '.'], ['Their', 'mother', 'had', 'nothing', ',', 'and', 'their', 'father', 'only', 'seven', 'thousand', 'pounds', 'in', 'his', 'own', 'disposal', ';', 'for', 'the', 'remaining', 'moiety', 'of', 'his', 'first', 'wife', \"'\", 's', 'fortune', 'was', 'also', 'secured', 'to', 'her', 'child', ',', 'and', 'he', 'had', 'only', 'a', 'life', '-', 'interest', 'in', 'it', '.'], ['The', 'old', 'gentleman', 'died', ':', 'his', 'will', 'was', 'read', ',', 'and', 'like', 'almost', 'every', 'other', 'will', ',', 'gave', 'as', 'much', 'disappointment', 'as', 'pleasure', '.'], ['He', 'was', 'neither', 'so', 'unjust', ',', 'nor', 'so', 'ungrateful', ',', 'as', 'to', 'leave', 'his', 'estate', 'from', 'his', 'nephew', ';--', 'but', 'he', 'left', 'it', 'to', 'him', 'on', 'such', 'terms', 'as', 'destroyed', 'half', 'the', 'value', 'of', 'the', 'bequest', '.'], ['Mr', '.', 'Dashwood', 'had', 'wished', 'for', 'it', 'more', 'for', 'the', 'sake', 'of', 'his', 'wife', 'and', 'daughters', 'than', 'for', 'himself', 'or', 'his', 'son', ';--', 'but', 'to', 'his', 'son', ',', 'and', 'his', 'son', \"'\", 's', 'son', ',', 'a', 'child', 'of', 'four', 'years', 'old', ',', 'it', 'was', 'secured', ',', 'in', 'such', 'a', 'way', ',', 'as', 'to', 'leave', 'to', 'himself', 'no', 'power', 'of', 'providing', 'for', 'those', 'who', 'were', 'most', 'dear', 'to', 'him', ',', 'and', 'who', 'most', 'needed', 'a', 'provision', 'by', 'any', 'charge', 'on', 'the', 'estate', ',', 'or', 'by', 'any', 'sale', 'of', 'its', 'valuable', 'woods', '.'], ['The', 'whole', 'was', 'tied', 'up', 'for', 'the', 'benefit', 'of', 'this', 'child', ',', 'who', ',', 'in', 'occasional', 'visits', 'with', 'his', 'father', 'and', 'mother', 'at', 'Norland', ',', 'had', 'so', 'far', 'gained', 'on', 'the', 'affections', 'of', 'his', 'uncle', ',', 'by', 'such', 'attractions', 'as', 'are', 'by', 'no', 'means', 'unusual', 'in', 'children', 'of', 'two', 'or', 'three', 'years', 'old', ';', 'an', 'imperfect', 'articulation', ',', 'an', 'earnest', 'desire', 'of', 'having', 'his', 'own', 'way', ',', 'many', 'cunning', 'tricks', ',', 'and', 'a', 'great', 'deal', 'of', 'noise', ',', 'as', 'to', 'outweigh', 'all', 'the', 'value', 'of', 'all', 'the', 'attention', 'which', ',', 'for', 'years', ',', 'he', 'had', 'received', 'from', 'his', 'niece', 'and', 'her', 'daughters', '.'], ['He', 'meant', 'not', 'to', 'be', 'unkind', ',', 'however', ',', 'and', ',', 'as', 'a', 'mark', 'of', 'his', 'affection', 'for', 'the', 'three', 'girls', ',', 'he', 'left', 'them', 'a', 'thousand', 'pounds', 'a', '-', 'piece', '.'], ['Mr', '.', 'Dashwood', \"'\", 's', 'disappointment', 'was', ',', 'at', 'first', ',', 'severe', ';', 'but', 'his', 'temper', 'was', 'cheerful', 'and', 'sanguine', ';', 'and', 'he', 'might', 'reasonably', 'hope', 'to', 'live', 'many', 'years', ',', 'and', 'by', 'living', 'economically', ',', 'lay', 'by', 'a', 'considerable', 'sum', 'from', 'the', 'produce', 'of', 'an', 'estate', 'already', 'large', ',', 'and', 'capable', 'of', 'almost', 'immediate', 'improvement', '.'], ['But', 'the', 'fortune', ',', 'which', 'had', 'been', 'so', 'tardy', 'in', 'coming', ',', 'was', 'his', 'only', 'one', 'twelvemonth', '.'], ['He', 'survived', 'his', 'uncle', 'no', 'longer', ';', 'and', 'ten', 'thousand', 'pounds', ',', 'including', 'the', 'late', 'legacies', ',', 'was', 'all', 'that', 'remained', 'for', 'his', 'widow', 'and', 'daughters', '.'], ['His', 'son', 'was', 'sent', 'for', 'as', 'soon', 'as', 'his', 'danger', 'was', 'known', ',', 'and', 'to', 'him', 'Mr', '.', 'Dashwood', 'recommended', ',', 'with', 'all', 'the', 'strength', 'and', 'urgency', 'which', 'illness', 'could', 'command', ',', 'the', 'interest', 'of', 'his', 'mother', '-', 'in', '-', 'law', 'and', 'sisters', '.'], ['Mr', '.', 'John', 'Dashwood', 'had', 'not', 'the', 'strong', 'feelings', 'of', 'the', 'rest', 'of', 'the', 'family', ';', 'but', 'he', 'was', 'affected', 'by', 'a', 'recommendation', 'of', 'such', 'a', 'nature', 'at', 'such', 'a', 'time', ',', 'and', 'he', 'promised', 'to', 'do', 'every', 'thing', 'in', 'his', 'power', 'to', 'make', 'them', 'comfortable', '.'], ['His', 'father', 'was', 'rendered', 'easy', 'by', 'such', 'an', 'assurance', ',', 'and', 'Mr', '.', 'John', 'Dashwood', 'had', 'then', 'leisure', 'to', 'consider', 'how', 'much', 'there', 'might', 'prudently', 'be', 'in', 'his', 'power', 'to', 'do', 'for', 'them', '.'], ['He', 'was', 'not', 'an', 'ill', '-', 'disposed', 'young', 'man', ',', 'unless', 'to', 'be', 'rather', 'cold', 'hearted', 'and', 'rather', 'selfish', 'is', 'to', 'be', 'ill', '-', 'disposed', ':', 'but', 'he', 'was', ',', 'in', 'general', ',', 'well', 'respected', ';', 'for', 'he', 'conducted', 'himself', 'with', 'propriety', 'in', 'the', 'discharge', 'of', 'his', 'ordinary', 'duties', '.'], ['Had', 'he', 'married', 'a', 'more', 'amiable', 'woman', ',', 'he', 'might', 'have', 'been', 'made', 'still', 'more', 'respectable', 'than', 'he', 'was', ':--', 'he', 'might', 'even', 'have', 'been', 'made', 'amiable', 'himself', ';', 'for', 'he', 'was', 'very', 'young', 'when', 'he', 'married', ',', 'and', 'very', 'fond', 'of', 'his', 'wife', '.'], ['But', 'Mrs', '.', 'John', 'Dashwood', 'was', 'a', 'strong', 'caricature', 'of', 'himself', ';--', 'more', 'narrow', '-', 'minded', 'and', 'selfish', '.'], ['When', 'he', 'gave', 'his', 'promise', 'to', 'his', 'father', ',', 'he', 'meditated', 'within', 'himself', 'to', 'increase', 'the', 'fortunes', 'of', 'his', 'sisters', 'by', 'the', 'present', 'of', 'a', 'thousand', 'pounds', 'a', '-', 'piece', '.'], ['He', 'then', 'really', 'thought', 'himself', 'equal', 'to', 'it', '.'], ['The', 'prospect', 'of', 'four', 'thousand', 'a', '-', 'year', ',', 'in', 'addition', 'to', 'his', 'present', 'income', ',', 'besides', 'the', 'remaining', 'half', 'of', 'his', 'own', 'mother', \"'\", 's', 'fortune', ',', 'warmed', 'his', 'heart', ',', 'and', 'made', 'him', 'feel', 'capable', 'of', 'generosity', '.--', '\"', 'Yes', ',', 'he', 'would', 'give', 'them', 'three', 'thousand', 'pounds', ':', 'it', 'would', 'be', 'liberal', 'and', 'handsome', '!'], ['It', 'would', 'be', 'enough', 'to', 'make', 'them', 'completely', 'easy', '.'], ['Three', 'thousand', 'pounds', '!'], ['he', 'could', 'spare', 'so', 'considerable', 'a', 'sum', 'with', 'little', 'inconvenience', '.\"'], ['--', 'He', 'thought', 'of', 'it', 'all', 'day', 'long', ',', 'and', 'for', 'many', 'days', 'successively', ',', 'and', 'he', 'did', 'not', 'repent', '.'], ['No', 'sooner', 'was', 'his', 'father', \"'\", 's', 'funeral', 'over', ',', 'than', 'Mrs', '.', 'John', 'Dashwood', ',', 'without', 'sending', 'any', 'notice', 'of', 'her', 'intention', 'to', 'her', 'mother', '-', 'in', '-', 'law', ',', 'arrived', 'with', 'her', 'child', 'and', 'their', 'attendants', '.'], ['No', 'one', 'could', 'dispute', 'her', 'right', 'to', 'come', ';', 'the', 'house', 'was', 'her', 'husband', \"'\", 's', 'from', 'the', 'moment', 'of', 'his', 'father', \"'\", 's', 'decease', ';', 'but', 'the', 'indelicacy', 'of', 'her', 'conduct', 'was', 'so', 'much', 'the', 'greater', ',', 'and', 'to', 'a', 'woman', 'in', 'Mrs', '.', 'Dashwood', \"'\", 's', 'situation', ',', 'with', 'only', 'common', 'feelings', ',', 'must', 'have', 'been', 'highly', 'unpleasing', ';--', 'but', 'in', 'HER', 'mind', 'there', 'was', 'a', 'sense', 'of', 'honor', 'so', 'keen', ',', 'a', 'generosity', 'so', 'romantic', ',', 'that', 'any', 'offence', 'of', 'the', 'kind', ',', 'by', 'whomsoever', 'given', 'or', 'received', ',', 'was', 'to', 'her', 'a', 'source', 'of', 'immoveable', 'disgust', '.'], ['Mrs', '.', 'John', 'Dashwood', 'had', 'never', 'been', 'a', 'favourite', 'with', 'any', 'of', 'her', 'husband', \"'\", 's', 'family', ';', 'but', 'she', 'had', 'had', 'no', 'opportunity', ',', 'till', 'the', 'present', ',', 'of', 'shewing', 'them', 'with', 'how', 'little', 'attention', 'to', 'the', 'comfort', 'of', 'other', 'people', 'she', 'could', 'act', 'when', 'occasion', 'required', 'it', '.'], ['So', 'acutely', 'did', 'Mrs', '.', 'Dashwood', 'feel', 'this', 'ungracious', 'behaviour', ',', 'and', 'so', 'earnestly', 'did', 'she', 'despise', 'her', 'daughter', '-', 'in', '-', 'law', 'for', 'it', ',', 'that', ',', 'on', 'the', 'arrival', 'of', 'the', 'latter', ',', 'she', 'would', 'have', 'quitted', 'the', 'house', 'for', 'ever', ',', 'had', 'not', 'the', 'entreaty', 'of', 'her', 'eldest', 'girl', 'induced', 'her', 'first', 'to', 'reflect', 'on', 'the', 'propriety', 'of', 'going', ',', 'and', 'her', 'own', 'tender', 'love', 'for', 'all', 'her', 'three', 'children', 'determined', 'her', 'afterwards', 'to', 'stay', ',', 'and', 'for', 'their', 'sakes', 'avoid', 'a', 'breach', 'with', 'their', 'brother', '.'], ['Elinor', ',', 'this', 'eldest', 'daughter', ',', 'whose', 'advice', 'was', 'so', 'effectual', ',', 'possessed', 'a', 'strength', 'of', 'understanding', ',', 'and', 'coolness', 'of', 'judgment', ',', 'which', 'qualified', 'her', ',', 'though', 'only', 'nineteen', ',', 'to', 'be', 'the', 'counsellor', 'of', 'her', 'mother', ',', 'and', 'enabled', 'her', 'frequently', 'to', 'counteract', ',', 'to', 'the', 'advantage', 'of', 'them', 'all', ',', 'that', 'eagerness', 'of', 'mind', 'in', 'Mrs', '.', 'Dashwood', 'which', 'must', 'generally', 'have', 'led', 'to', 'imprudence', '.'], ['She', 'had', 'an', 'excellent', 'heart', ';--', 'her', 'disposition', 'was', 'affectionate', ',', 'and', 'her', 'feelings', 'were', 'strong', ';', 'but', 'she', 'knew', 'how', 'to', 'govern', 'them', ':', 'it', 'was', 'a', 'knowledge', 'which', 'her', 'mother', 'had', 'yet', 'to', 'learn', ';', 'and', 'which', 'one', 'of', 'her', 'sisters', 'had', 'resolved', 'never', 'to', 'be', 'taught', '.'], ['Marianne', \"'\", 's', 'abilities', 'were', ',', 'in', 'many', 'respects', ',', 'quite', 'equal', 'to', 'Elinor', \"'\", 's', '.'], ['She', 'was', 'sensible', 'and', 'clever', ';', 'but', 'eager', 'in', 'everything', ':', 'her', 'sorrows', ',', 'her', 'joys', ',', 'could', 'have', 'no', 'moderation', '.'], ['She', 'was', 'generous', ',', 'amiable', ',', 'interesting', ':', 'she', 'was', 'everything', 'but', 'prudent', '.'], ['The', 'resemblance', 'between', 'her', 'and', 'her', 'mother', 'was', 'strikingly', 'great', '.'], ['Elinor', 'saw', ',', 'with', 'concern', ',', 'the', 'excess', 'of', 'her', 'sister', \"'\", 's', 'sensibility', ';', 'but', 'by', 'Mrs', '.', 'Dashwood', 'it', 'was', 'valued', 'and', 'cherished', '.'], ['They', 'encouraged', 'each', 'other', 'now', 'in', 'the', 'violence', 'of', 'their', 'affliction', '.'], ['The', 'agony', 'of', 'grief', 'which', 'overpowered', 'them', 'at', 'first', ',', 'was', 'voluntarily', 'renewed', ',', 'was', 'sought', 'for', ',', 'was', 'created', 'again', 'and', 'again', '.'], ['They', 'gave', 'themselves', 'up', 'wholly', 'to', 'their', 'sorrow', ',', 'seeking', 'increase', 'of', 'wretchedness', 'in', 'every', 'reflection', 'that', 'could', 'afford', 'it', ',', 'and', 'resolved', 'against', 'ever', 'admitting', 'consolation', 'in', 'future', '.'], ['Elinor', ',', 'too', ',', 'was', 'deeply', 'afflicted', ';', 'but', 'still', 'she', 'could', 'struggle', ',', 'she', 'could', 'exert', 'herself', '.']]\n",
      "[['[', 'The', 'King', 'James', 'Bible', ']'], ['The', 'Old', 'Testament', 'of', 'the', 'King', 'James', 'Bible'], ['The', 'First', 'Book', 'of', 'Moses', ':', 'Called', 'Genesis'], ['1', ':', '1', 'In', 'the', 'beginning', 'God', 'created', 'the', 'heaven', 'and', 'the', 'earth', '.'], ['1', ':', '2', 'And', 'the', 'earth', 'was', 'without', 'form', ',', 'and', 'void', ';', 'and', 'darkness', 'was', 'upon', 'the', 'face', 'of', 'the', 'deep', '.'], ['And', 'the', 'Spirit', 'of', 'God', 'moved', 'upon', 'the', 'face', 'of', 'the', 'waters', '.'], ['1', ':', '3', 'And', 'God', 'said', ',', 'Let', 'there', 'be', 'light', ':', 'and', 'there', 'was', 'light', '.'], ['1', ':', '4', 'And', 'God', 'saw', 'the', 'light', ',', 'that', 'it', 'was', 'good', ':', 'and', 'God', 'divided', 'the', 'light', 'from', 'the', 'darkness', '.'], ['1', ':', '5', 'And', 'God', 'called', 'the', 'light', 'Day', ',', 'and', 'the', 'darkness', 'he', 'called', 'Night', '.'], ['And', 'the', 'evening', 'and', 'the', 'morning', 'were', 'the', 'first', 'day', '.'], ['1', ':', '6', 'And', 'God', 'said', ',', 'Let', 'there', 'be', 'a', 'firmament', 'in', 'the', 'midst', 'of', 'the', 'waters', ',', 'and', 'let', 'it', 'divide', 'the', 'waters', 'from', 'the', 'waters', '.'], ['1', ':', '7', 'And', 'God', 'made', 'the', 'firmament', ',', 'and', 'divided', 'the', 'waters', 'which', 'were', 'under', 'the', 'firmament', 'from', 'the', 'waters', 'which', 'were', 'above', 'the', 'firmament', ':', 'and', 'it', 'was', 'so', '.'], ['1', ':', '8', 'And', 'God', 'called', 'the', 'firmament', 'Heaven', '.'], ['And', 'the', 'evening', 'and', 'the', 'morning', 'were', 'the', 'second', 'day', '.'], ['1', ':', '9', 'And', 'God', 'said', ',', 'Let', 'the', 'waters', 'under', 'the', 'heaven', 'be', 'gathered', 'together', 'unto', 'one', 'place', ',', 'and', 'let', 'the', 'dry', 'land', 'appear', ':', 'and', 'it', 'was', 'so', '.'], ['1', ':', '10', 'And', 'God', 'called', 'the', 'dry', 'land', 'Earth', ';', 'and', 'the', 'gathering', 'together', 'of', 'the', 'waters', 'called', 'he', 'Seas', ':', 'and', 'God', 'saw', 'that', 'it', 'was', 'good', '.'], ['1', ':', '11', 'And', 'God', 'said', ',', 'Let', 'the', 'earth', 'bring', 'forth', 'grass', ',', 'the', 'herb', 'yielding', 'seed', ',', 'and', 'the', 'fruit', 'tree', 'yielding', 'fruit', 'after', 'his', 'kind', ',', 'whose', 'seed', 'is', 'in', 'itself', ',', 'upon', 'the', 'earth', ':', 'and', 'it', 'was', 'so', '.'], ['1', ':', '12', 'And', 'the', 'earth', 'brought', 'forth', 'grass', ',', 'and', 'herb', 'yielding', 'seed', 'after', 'his', 'kind', ',', 'and', 'the', 'tree', 'yielding', 'fruit', ',', 'whose', 'seed', 'was', 'in', 'itself', ',', 'after', 'his', 'kind', ':', 'and', 'God', 'saw', 'that', 'it', 'was', 'good', '.'], ['1', ':', '13', 'And', 'the', 'evening', 'and', 'the', 'morning', 'were', 'the', 'third', 'day', '.'], ['1', ':', '14', 'And', 'God', 'said', ',', 'Let', 'there', 'be', 'lights', 'in', 'the', 'firmament', 'of', 'the', 'heaven', 'to', 'divide', 'the', 'day', 'from', 'the', 'night', ';', 'and', 'let', 'them', 'be', 'for', 'signs', ',', 'and', 'for', 'seasons', ',', 'and', 'for', 'days', ',', 'and', 'years', ':', '1', ':', '15', 'And', 'let', 'them', 'be', 'for', 'lights', 'in', 'the', 'firmament', 'of', 'the', 'heaven', 'to', 'give', 'light', 'upon', 'the', 'earth', ':', 'and', 'it', 'was', 'so', '.'], ['1', ':', '16', 'And', 'God', 'made', 'two', 'great', 'lights', ';', 'the', 'greater', 'light', 'to', 'rule', 'the', 'day', ',', 'and', 'the', 'lesser', 'light', 'to', 'rule', 'the', 'night', ':', 'he', 'made', 'the', 'stars', 'also', '.'], ['1', ':', '17', 'And', 'God', 'set', 'them', 'in', 'the', 'firmament', 'of', 'the', 'heaven', 'to', 'give', 'light', 'upon', 'the', 'earth', ',', '1', ':', '18', 'And', 'to', 'rule', 'over', 'the', 'day', 'and', 'over', 'the', 'night', ',', 'and', 'to', 'divide', 'the', 'light', 'from', 'the', 'darkness', ':', 'and', 'God', 'saw', 'that', 'it', 'was', 'good', '.'], ['1', ':', '19', 'And', 'the', 'evening', 'and', 'the', 'morning', 'were', 'the', 'fourth', 'day', '.'], ['1', ':', '20', 'And', 'God', 'said', ',', 'Let', 'the', 'waters', 'bring', 'forth', 'abundantly', 'the', 'moving', 'creature', 'that', 'hath', 'life', ',', 'and', 'fowl', 'that', 'may', 'fly', 'above', 'the', 'earth', 'in', 'the', 'open', 'firmament', 'of', 'heaven', '.'], ['1', ':', '21', 'And', 'God', 'created', 'great', 'whales', ',', 'and', 'every', 'living', 'creature', 'that', 'moveth', ',', 'which', 'the', 'waters', 'brought', 'forth', 'abundantly', ',', 'after', 'their', 'kind', ',', 'and', 'every', 'winged', 'fowl', 'after', 'his', 'kind', ':', 'and', 'God', 'saw', 'that', 'it', 'was', 'good', '.'], ['1', ':', '22', 'And', 'God', 'blessed', 'them', ',', 'saying', ',', 'Be', 'fruitful', ',', 'and', 'multiply', ',', 'and', 'fill', 'the', 'waters', 'in', 'the', 'seas', ',', 'and', 'let', 'fowl', 'multiply', 'in', 'the', 'earth', '.'], ['1', ':', '23', 'And', 'the', 'evening', 'and', 'the', 'morning', 'were', 'the', 'fifth', 'day', '.'], ['1', ':', '24', 'And', 'God', 'said', ',', 'Let', 'the', 'earth', 'bring', 'forth', 'the', 'living', 'creature', 'after', 'his', 'kind', ',', 'cattle', ',', 'and', 'creeping', 'thing', ',', 'and', 'beast', 'of', 'the', 'earth', 'after', 'his', 'kind', ':', 'and', 'it', 'was', 'so', '.'], ['1', ':', '25', 'And', 'God', 'made', 'the', 'beast', 'of', 'the', 'earth', 'after', 'his', 'kind', ',', 'and', 'cattle', 'after', 'their', 'kind', ',', 'and', 'every', 'thing', 'that', 'creepeth', 'upon', 'the', 'earth', 'after', 'his', 'kind', ':', 'and', 'God', 'saw', 'that', 'it', 'was', 'good', '.'], ['1', ':', '26', 'And', 'God', 'said', ',', 'Let', 'us', 'make', 'man', 'in', 'our', 'image', ',', 'after', 'our', 'likeness', ':', 'and', 'let', 'them', 'have', 'dominion', 'over', 'the', 'fish', 'of', 'the', 'sea', ',', 'and', 'over', 'the', 'fowl', 'of', 'the', 'air', ',', 'and', 'over', 'the', 'cattle', ',', 'and', 'over', 'all', 'the', 'earth', ',', 'and', 'over', 'every', 'creeping', 'thing', 'that', 'creepeth', 'upon', 'the', 'earth', '.'], ['1', ':', '27', 'So', 'God', 'created', 'man', 'in', 'his', 'own', 'image', ',', 'in', 'the', 'image', 'of', 'God', 'created', 'he', 'him', ';', 'male', 'and', 'female', 'created', 'he', 'them', '.'], ['1', ':', '28', 'And', 'God', 'blessed', 'them', ',', 'and', 'God', 'said', 'unto', 'them', ',', 'Be', 'fruitful', ',', 'and', 'multiply', ',', 'and', 'replenish', 'the', 'earth', ',', 'and', 'subdue', 'it', ':', 'and', 'have', 'dominion', 'over', 'the', 'fish', 'of', 'the', 'sea', ',', 'and', 'over', 'the', 'fowl', 'of', 'the', 'air', ',', 'and', 'over', 'every', 'living', 'thing', 'that', 'moveth', 'upon', 'the', 'earth', '.'], ['1', ':', '29', 'And', 'God', 'said', ',', 'Behold', ',', 'I', 'have', 'given', 'you', 'every', 'herb', 'bearing', 'seed', ',', 'which', 'is', 'upon', 'the', 'face', 'of', 'all', 'the', 'earth', ',', 'and', 'every', 'tree', ',', 'in', 'the', 'which', 'is', 'the', 'fruit', 'of', 'a', 'tree', 'yielding', 'seed', ';', 'to', 'you', 'it', 'shall', 'be', 'for', 'meat', '.'], ['1', ':', '30', 'And', 'to', 'every', 'beast', 'of', 'the', 'earth', ',', 'and', 'to', 'every', 'fowl', 'of', 'the', 'air', ',', 'and', 'to', 'every', 'thing', 'that', 'creepeth', 'upon', 'the', 'earth', ',', 'wherein', 'there', 'is', 'life', ',', 'I', 'have', 'given', 'every', 'green', 'herb', 'for', 'meat', ':', 'and', 'it', 'was', 'so', '.'], ['1', ':', '31', 'And', 'God', 'saw', 'every', 'thing', 'that', 'he', 'had', 'made', ',', 'and', ',', 'behold', ',', 'it', 'was', 'very', 'good', '.'], ['And', 'the', 'evening', 'and', 'the', 'morning', 'were', 'the', 'sixth', 'day', '.'], ['2', ':', '1', 'Thus', 'the', 'heavens', 'and', 'the', 'earth', 'were', 'finished', ',', 'and', 'all', 'the', 'host', 'of', 'them', '.'], ['2', ':', '2', 'And', 'on', 'the', 'seventh', 'day', 'God', 'ended', 'his', 'work', 'which', 'he', 'had', 'made', ';', 'and', 'he', 'rested', 'on', 'the', 'seventh', 'day', 'from', 'all', 'his', 'work', 'which', 'he', 'had', 'made', '.'], ['2', ':', '3', 'And', 'God', 'blessed', 'the', 'seventh', 'day', ',', 'and', 'sanctified', 'it', ':', 'because', 'that', 'in', 'it', 'he', 'had', 'rested', 'from', 'all', 'his', 'work', 'which', 'God', 'created', 'and', 'made', '.'], ['2', ':', '4', 'These', 'are', 'the', 'generations', 'of', 'the', 'heavens', 'and', 'of', 'the', 'earth', 'when', 'they', 'were', 'created', ',', 'in', 'the', 'day', 'that', 'the', 'LORD', 'God', 'made', 'the', 'earth', 'and', 'the', 'heavens', ',', '2', ':', '5', 'And', 'every', 'plant', 'of', 'the', 'field', 'before', 'it', 'was', 'in', 'the', 'earth', ',', 'and', 'every', 'herb', 'of', 'the', 'field', 'before', 'it', 'grew', ':', 'for', 'the', 'LORD', 'God', 'had', 'not', 'caused', 'it', 'to', 'rain', 'upon', 'the', 'earth', ',', 'and', 'there', 'was', 'not', 'a', 'man', 'to', 'till', 'the', 'ground', '.'], ['2', ':', '6', 'But', 'there', 'went', 'up', 'a', 'mist', 'from', 'the', 'earth', ',', 'and', 'watered', 'the', 'whole', 'face', 'of', 'the', 'ground', '.'], ['2', ':', '7', 'And', 'the', 'LORD', 'God', 'formed', 'man', 'of', 'the', 'dust', 'of', 'the', 'ground', ',', 'and', 'breathed', 'into', 'his', 'nostrils', 'the', 'breath', 'of', 'life', ';', 'and', 'man', 'became', 'a', 'living', 'soul', '.'], ['2', ':', '8', 'And', 'the', 'LORD', 'God', 'planted', 'a', 'garden', 'eastward', 'in', 'Eden', ';', 'and', 'there', 'he', 'put', 'the', 'man', 'whom', 'he', 'had', 'formed', '.'], ['2', ':', '9', 'And', 'out', 'of', 'the', 'ground', 'made', 'the', 'LORD', 'God', 'to', 'grow', 'every', 'tree', 'that', 'is', 'pleasant', 'to', 'the', 'sight', ',', 'and', 'good', 'for', 'food', ';', 'the', 'tree', 'of', 'life', 'also', 'in', 'the', 'midst', 'of', 'the', 'garden', ',', 'and', 'the', 'tree', 'of', 'knowledge', 'of', 'good', 'and', 'evil', '.'], ['2', ':', '10', 'And', 'a', 'river', 'went', 'out', 'of', 'Eden', 'to', 'water', 'the', 'garden', ';', 'and', 'from', 'thence', 'it', 'was', 'parted', ',', 'and', 'became', 'into', 'four', 'heads', '.'], ['2', ':', '11', 'The', 'name', 'of', 'the', 'first', 'is', 'Pison', ':', 'that', 'is', 'it', 'which', 'compasseth', 'the', 'whole', 'land', 'of', 'Havilah', ',', 'where', 'there', 'is', 'gold', ';', '2', ':', '12', 'And', 'the', 'gold', 'of', 'that', 'land', 'is', 'good', ':', 'there', 'is', 'bdellium', 'and', 'the', 'onyx', 'stone', '.'], ['2', ':', '13', 'And', 'the', 'name', 'of', 'the', 'second', 'river', 'is', 'Gihon', ':', 'the', 'same', 'is', 'it', 'that', 'compasseth', 'the', 'whole', 'land', 'of', 'Ethiopia', '.'], ['2', ':', '14', 'And', 'the', 'name', 'of', 'the', 'third', 'river', 'is', 'Hiddekel', ':', 'that', 'is', 'it', 'which', 'goeth', 'toward', 'the', 'east', 'of', 'Assyria', '.'], ['And', 'the', 'fourth', 'river', 'is', 'Euphrates', '.'], ['2', ':', '15', 'And', 'the', 'LORD', 'God', 'took', 'the', 'man', ',', 'and', 'put', 'him', 'into', 'the', 'garden', 'of', 'Eden', 'to', 'dress', 'it', 'and', 'to', 'keep', 'it', '.']]\n",
      "[['[', 'Poems', 'by', 'William', 'Blake', '1789', ']'], ['SONGS', 'OF', 'INNOCENCE', 'AND', 'OF', 'EXPERIENCE', 'and', 'THE', 'BOOK', 'of', 'THEL'], ['SONGS', 'OF', 'INNOCENCE'], ['INTRODUCTION'], ['Piping', 'down', 'the', 'valleys', 'wild', ',', 'Piping', 'songs', 'of', 'pleasant', 'glee', ',', 'On', 'a', 'cloud', 'I', 'saw', 'a', 'child', ',', 'And', 'he', 'laughing', 'said', 'to', 'me', ':'], ['\"', 'Pipe', 'a', 'song', 'about', 'a', 'Lamb', '!\"'], ['So', 'I', 'piped', 'with', 'merry', 'cheer', '.'], ['\"', 'Piper', ',', 'pipe', 'that', 'song', 'again', ';\"', 'So', 'I', 'piped', ':', 'he', 'wept', 'to', 'hear', '.'], ['\"', 'Drop', 'thy', 'pipe', ',', 'thy', 'happy', 'pipe', ';', 'Sing', 'thy', 'songs', 'of', 'happy', 'cheer', ':!\"'], ['So', 'I', 'sang', 'the', 'same', 'again', ',', 'While', 'he', 'wept', 'with', 'joy', 'to', 'hear', '.'], ['\"', 'Piper', ',', 'sit', 'thee', 'down', 'and', 'write', 'In', 'a', 'book', ',', 'that', 'all', 'may', 'read', '.\"'], ['So', 'he', 'vanish', \"'\", 'd', 'from', 'my', 'sight', ';', 'And', 'I', 'pluck', \"'\", 'd', 'a', 'hollow', 'reed', ','], ['And', 'I', 'made', 'a', 'rural', 'pen', ',', 'And', 'I', 'stain', \"'\", 'd', 'the', 'water', 'clear', ',', 'And', 'I', 'wrote', 'my', 'happy', 'songs', 'Every', 'child', 'may', 'joy', 'to', 'hear', '.'], ['THE', 'SHEPHERD'], ['How', 'sweet', 'is', 'the', 'Shepherd', \"'\", 's', 'sweet', 'lot', '!'], ['From', 'the', 'morn', 'to', 'the', 'evening', 'he', 'stays', ';', 'He', 'shall', 'follow', 'his', 'sheep', 'all', 'the', 'day', ',', 'And', 'his', 'tongue', 'shall', 'be', 'filled', 'with', 'praise', '.'], ['For', 'he', 'hears', 'the', 'lambs', \"'\", 'innocent', 'call', ',', 'And', 'he', 'hears', 'the', 'ewes', \"'\", 'tender', 'reply', ';', 'He', 'is', 'watching', 'while', 'they', 'are', 'in', 'peace', ',', 'For', 'they', 'know', 'when', 'their', 'Shepherd', 'is', 'nigh', '.'], ['THE', 'ECHOING', 'GREEN'], ['The', 'sun', 'does', 'arise', ',', 'And', 'make', 'happy', 'the', 'skies', ';', 'The', 'merry', 'bells', 'ring', 'To', 'welcome', 'the', 'Spring', ';', 'The', 'skylark', 'and', 'thrush', ',', 'The', 'birds', 'of', 'the', 'bush', ',', 'Sing', 'louder', 'around', 'To', 'the', 'bells', \"'\", 'cheerful', 'sound', ';', 'While', 'our', 'sports', 'shall', 'be', 'seen', 'On', 'the', 'echoing', 'Green', '.'], ['Old', 'John', ',', 'with', 'white', 'hair', ',', 'Does', 'laugh', 'away', 'care', ',', 'Sitting', 'under', 'the', 'oak', ',', 'Among', 'the', 'old', 'folk', '.'], ['They', 'laugh', 'at', 'our', 'play', ',', 'And', 'soon', 'they', 'all', 'say', ',', '\"', 'Such', ',', 'such', 'were', 'the', 'joys', 'When', 'we', 'all', '--', 'girls', 'and', 'boys', '--', 'In', 'our', 'youth', '-', 'time', 'were', 'seen', 'On', 'the', 'echoing', 'Green', '.\"'], ['Till', 'the', 'little', 'ones', ',', 'weary', ',', 'No', 'more', 'can', 'be', 'merry', ':', 'The', 'sun', 'does', 'descend', ',', 'And', 'our', 'sports', 'have', 'an', 'end', '.'], ['Round', 'the', 'laps', 'of', 'their', 'mothers', 'Many', 'sisters', 'and', 'brothers', ',', 'Like', 'birds', 'in', 'their', 'nest', ',', 'Are', 'ready', 'for', 'rest', ',', 'And', 'sport', 'no', 'more', 'seen', 'On', 'the', 'darkening', 'green', '.'], ['THE', 'LAMB'], ['Little', 'Lamb', ',', 'who', 'make', 'thee', 'Dost', 'thou', 'know', 'who', 'made', 'thee', ',', 'Gave', 'thee', 'life', ',', 'and', 'bid', 'thee', 'feed', 'By', 'the', 'stream', 'and', 'o', \"'\", 'er', 'the', 'mead', ';', 'Gave', 'thee', 'clothing', 'of', 'delight', ',', 'Softest', 'clothing', ',', 'wolly', ',', 'bright', ';', 'Gave', 'thee', 'such', 'a', 'tender', 'voice', ',', 'Making', 'all', 'the', 'vales', 'rejoice', '?'], ['Little', 'Lamb', ',', 'who', 'made', 'thee', '?'], ['Dost', 'thou', 'know', 'who', 'made', 'thee', '?'], ['Little', 'Lamb', ',', 'I', \"'\", 'll', 'tell', 'thee', ';', 'Little', 'Lamb', ',', 'I', \"'\", 'll', 'tell', 'thee', ':', 'He', 'is', 'called', 'by', 'thy', 'name', ',', 'For', 'He', 'calls', 'Himself', 'a', 'Lamb', 'He', 'is', 'meek', ',', 'and', 'He', 'is', 'mild', ',', 'He', 'became', 'a', 'little', 'child', '.'], ['I', 'a', 'child', ',', 'and', 'thou', 'a', 'lamb', ',', 'We', 'are', 'called', 'by', 'His', 'name', '.'], ['Little', 'Lamb', ',', 'God', 'bless', 'thee', '!'], ['Little', 'Lamb', ',', 'God', 'bless', 'thee', '!'], ['THE', 'LITTLE', 'BLACK', 'BOY'], ['My', 'mother', 'bore', 'me', 'in', 'the', 'southern', 'wild', ',', 'And', 'I', 'am', 'black', ',', 'but', 'oh', 'my', 'soul', 'is', 'white', '!'], ['White', 'as', 'an', 'angel', 'is', 'the', 'English', 'child', ',', 'But', 'I', 'am', 'black', ',', 'as', 'if', 'bereaved', 'of', 'light', '.'], ['My', 'mother', 'taught', 'me', 'underneath', 'a', 'tree', ',', 'And', ',', 'sitting', 'down', 'before', 'the', 'heat', 'of', 'day', ',', 'She', 'took', 'me', 'on', 'her', 'lap', 'and', 'kissed', 'me', ',', 'And', ',', 'pointed', 'to', 'the', 'east', ',', 'began', 'to', 'say', ':'], ['\"', 'Look', 'on', 'the', 'rising', 'sun', ':', 'there', 'God', 'does', 'live', ',', 'And', 'gives', 'His', 'light', ',', 'and', 'gives', 'His', 'heat', 'away', ',', 'And', 'flowers', 'and', 'trees', 'and', 'beasts', 'and', 'men', 'receive', 'Comfort', 'in', 'morning', ',', 'joy', 'in', 'the', 'noonday', '.'], ['\"', 'And', 'we', 'are', 'put', 'on', 'earth', 'a', 'little', 'space', ',', 'That', 'we', 'may', 'learn', 'to', 'bear', 'the', 'beams', 'of', 'love', 'And', 'these', 'black', 'bodies', 'and', 'this', 'sunburnt', 'face', 'Is', 'but', 'a', 'cloud', ',', 'and', 'like', 'a', 'shady', 'grove', '.'], ['\"', 'For', 'when', 'our', 'souls', 'have', 'learn', \"'\", 'd', 'the', 'heat', 'to', 'bear', ',', 'The', 'cloud', 'will', 'vanish', ',', 'we', 'shall', 'hear', 'His', 'voice', ',', 'Saying', ',', \"'\", 'Come', 'out', 'from', 'the', 'grove', ',', 'my', 'love', 'and', 'care', 'And', 'round', 'my', 'golden', 'tent', 'like', 'lambs', 'rejoice', '\\',\"'], ['Thus', 'did', 'my', 'mother', 'say', ',', 'and', 'kissed', 'me', ';', 'And', 'thus', 'I', 'say', 'to', 'little', 'English', 'boy', '.'], ['When', 'I', 'from', 'black', 'and', 'he', 'from', 'white', 'cloud', 'free', ',', 'And', 'round', 'the', 'tent', 'of', 'God', 'like', 'lambs', 'we', 'joy'], ['I', \"'\", 'll', 'shade', 'him', 'from', 'the', 'heat', 'till', 'he', 'can', 'bear', 'To', 'lean', 'in', 'joy', 'upon', 'our', 'Father', \"'\", 's', 'knee', ';', 'And', 'then', 'I', \"'\", 'll', 'stand', 'and', 'stroke', 'his', 'silver', 'hair', ',', 'And', 'be', 'like', 'him', ',', 'and', 'he', 'will', 'then', 'love', 'me', '.'], ['THE', 'BLOSSOM'], ['Merry', ',', 'merry', 'sparrow', '!'], ['Under', 'leaves', 'so', 'green', 'A', 'happy', 'blossom', 'Sees', 'you', ',', 'swift', 'as', 'arrow', ',', 'Seek', 'your', 'cradle', 'narrow', ',', 'Near', 'my', 'bosom', '.'], ['Pretty', ',', 'pretty', 'robin', '!'], ['Under', 'leaves', 'so', 'green', 'A', 'happy', 'blossom', 'Hears', 'you', 'sobbing', ',', 'sobbing', ',', 'Pretty', ',', 'pretty', 'robin', ',', 'Near', 'my', 'bosom', '.'], ['THE', 'CHIMNEY', '-', 'SWEEPER'], ['When', 'my', 'mother', 'died', 'I', 'was', 'very', 'young', ',', 'And', 'my', 'father', 'sold', 'me', 'while', 'yet', 'my', 'tongue', 'Could', 'scarcely', 'cry', '\"', 'Weep', '!'], ['weep', '!'], ['weep', '!']]\n",
      "[['[', 'Stories', 'to', 'Tell', 'to', 'Children', 'by', 'Sara', 'Cone', 'Bryant', '1918', ']'], ['TWO', 'LITTLE', 'RIDDLES', 'IN', 'RHYME'], ['There', \"'\", 's', 'a', 'garden', 'that', 'I', 'ken', ',', 'Full', 'of', 'little', 'gentlemen', ';', 'Little', 'caps', 'of', 'blue', 'they', 'wear', ',', 'And', 'green', 'ribbons', ',', 'very', 'fair', '.'], ['(', 'Flax', '.)'], ['From', 'house', 'to', 'house', 'he', 'goes', ',', 'A', 'messenger', 'small', 'and', 'slight', ',', 'And', 'whether', 'it', 'rains', 'or', 'snows', ',', 'He', 'sleeps', 'outside', 'in', 'the', 'night', '.'], ['(', 'The', 'path', '.)'], ['THE', 'LITTLE', 'YELLOW', 'TULIP'], ['Once', 'there', 'was', 'a', 'little', 'yellow', 'Tulip', ',', 'and', 'she', 'lived', 'down', 'in', 'a', 'little', 'dark', 'house', 'under', 'the', 'ground', '.'], ['One', 'day', 'she', 'was', 'sitting', 'there', ',', 'all', 'by', 'herself', ',', 'and', 'it', 'was', 'very', 'still', '.'], ['Suddenly', ',', 'she', 'heard', 'a', 'little', '_tap', ',', 'tap', ',', 'tap_', ',', 'at', 'the', 'door', '.'], ['\"', 'Who', 'is', 'that', '?\"'], ['she', 'said', '.'], ['\"', 'It', \"'\", 's', 'the', 'Rain', ',', 'and', 'I', 'want', 'to', 'come', 'in', ',\"', 'said', 'a', 'soft', ',', 'sad', ',', 'little', 'voice', '.'], ['\"', 'No', ',', 'you', 'can', \"'\", 't', 'come', 'in', ',\"', 'the', 'little', 'Tulip', 'said', '.'], ['By', 'and', 'by', 'she', 'heard', 'another', 'little', '_tap', ',', 'tap', ',', 'tap_', 'on', 'the', 'window', '-', 'pane', '.'], ['\"', 'Who', 'is', 'there', '?\"'], ['she', 'said', '.'], ['The', 'same', 'soft', 'little', 'voice', 'answered', ',', '\"', 'It', \"'\", 's', 'the', 'Rain', ',', 'and', 'I', 'want', 'to', 'come', 'in', '!\"'], ['\"', 'No', ',', 'you', 'can', \"'\", 't', 'come', 'in', ',\"', 'said', 'the', 'little', 'Tulip', '.'], ['Then', 'it', 'was', 'very', 'still', 'for', 'a', 'long', 'time', '.'], ['At', 'last', ',', 'there', 'came', 'a', 'little', 'rustling', ',', 'whispering', 'sound', ',', 'all', 'round', 'the', 'window', ':', '_rustle', ',', 'whisper', ',', 'whisper_', '.'], ['\"', 'Who', 'is', 'there', '?\"'], ['said', 'the', 'little', 'Tulip', '.'], ['\"', 'It', \"'\", 's', 'the', 'Sunshine', ',\"', 'said', 'a', 'little', ',', 'soft', ',', 'cheery', 'voice', ',', '\"', 'and', 'I', 'want', 'to', 'come', 'in', '!\"'], ['\"', 'N', '--', 'no', ',\"', 'said', 'the', 'little', 'Tulip', ',', '\"', 'you', 'can', \"'\", 't', 'come', 'in', '.\"'], ['And', 'she', 'sat', 'still', 'again', '.'], ['Pretty', 'soon', 'she', 'heard', 'the', 'sweet', 'little', 'rustling', 'noise', 'at', 'the', 'keyhole', '.'], ['\"', 'Who', 'is', 'there', '?\"'], ['she', 'said', '.'], ['\"', 'It', \"'\", 's', 'the', 'Sunshine', ',\"', 'said', 'the', 'cheery', 'little', 'voice', ',', '\"', 'and', 'I', 'want', 'to', 'come', 'in', ',', 'I', 'want', 'to', 'come', 'in', '!\"'], ['\"', 'No', ',', 'no', ',\"', 'said', 'the', 'little', 'Tulip', ',', '\"', 'you', 'cannot', 'come', 'in', '.\"'], ['By', 'and', 'by', ',', 'as', 'she', 'sat', 'so', 'still', ',', 'she', 'heard', '_tap', ',', 'tap', ',', 'tap_', ',', 'and', '_rustle', ',', 'whisper', ',', 'rustle_', ',', 'up', 'and', 'down', 'the', 'window', '-', 'pane', ',', 'and', 'on', 'the', 'door', 'and', 'at', 'the', 'keyhole', '.'], ['\"', '_Who', 'is', 'there', '?', '_', '\"', 'she', 'said', '.'], ['\"', 'It', \"'\", 's', 'the', 'Rain', 'and', 'the', 'Sun', ',', 'the', 'Rain', 'and', 'the', 'Sun', ',\"', 'said', 'two', 'little', 'voices', ',', 'together', ',', '\"', 'and', 'we', 'want', 'to', 'come', 'in', '!'], ['We', 'want', 'to', 'come', 'in', '!'], ['We', 'want', 'to', 'come', 'in', '!\"'], ['\"', 'Dear', ',', 'dear', '!\"'], ['said', 'the', 'little', 'Tulip', ',', '\"', 'if', 'there', 'are', 'two', 'of', 'you', ',', 'I', 's', \"'\", 'pose', 'I', 'shall', 'have', 'to', 'let', 'you', 'in', '.\"'], ['So', 'she', 'opened', 'the', 'door', 'a', 'little', 'wee', 'crack', ',', 'and', 'in', 'they', 'came', '.'], ['And', 'one', 'took', 'one', 'of', 'her', 'little', 'hands', ',', 'and', 'the', 'other', 'took', 'her', 'other', 'little', 'hand', ',', 'and', 'they', 'ran', ',', 'ran', ',', 'ran', 'with', 'her', 'right', 'up', 'to', 'the', 'top', 'of', 'the', 'ground', '.'], ['Then', 'they', 'said', ',--'], ['\"', 'Poke', 'your', 'head', 'through', '!\"'], ['So', 'she', 'poked', 'her', 'head', 'through', ';', 'and', 'she', 'was', 'in', 'the', 'midst', 'of', 'a', 'beautiful', 'garden', '.'], ['It', 'was', 'early', 'springtime', ',', 'and', 'few', 'other', 'flowers', 'were', 'to', 'be', 'seen', ';', 'but', 'she', 'had', 'the', 'birds', 'to', 'sing', 'to', 'her', 'and', 'the', 'sun', 'to', 'shine', 'upon', 'her', 'pretty', 'yellow', 'head', '.'], ['She', 'was', 'so', 'pleased', ',', 'too', ',', 'when', 'the', 'children', 'exclaimed', 'with', 'pleasure', 'that', 'now', 'they', 'knew', 'that', 'the', 'beautiful', 'spring', 'had', 'come', '!'], ['THE', 'COCK', '-', 'A', '-', 'DOO', '-', 'DLE', '-', 'DOO'], ['A', 'very', 'little', 'boy', 'made', 'this', 'story', 'up', '\"', 'out', 'of', 'his', 'head', ',\"', 'and', 'told', 'it', 'to', 'his', 'papa', '.'], ['I', 'think', 'you', 'littlest', 'ones', 'will', 'like', 'it', ';', 'I', 'do', '.'], ['Once', 'upon', 'a', 'time', 'there', 'was', 'a', 'little', 'boy', ',', 'and', 'he', 'wanted', 'to', 'be', 'a', 'cock', '-', 'a', '-', 'doo', '-', 'dle', '-', 'doo', '.'], ['So', 'he', 'was', 'a', 'cock', '-', 'a', '-', 'doo', '-', 'dle', '-', 'doo', '.']]\n",
      "[['[', 'The', 'Adventures', 'of', 'Buster', 'Bear', 'by', 'Thornton', 'W', '.', 'Burgess', '1920', ']'], ['I'], ['BUSTER', 'BEAR', 'GOES', 'FISHING'], ['Buster', 'Bear', 'yawned', 'as', 'he', 'lay', 'on', 'his', 'comfortable', 'bed', 'of', 'leaves', 'and', 'watched', 'the', 'first', 'early', 'morning', 'sunbeams', 'creeping', 'through', 'the', 'Green', 'Forest', 'to', 'chase', 'out', 'the', 'Black', 'Shadows', '.'], ['Once', 'more', 'he', 'yawned', ',', 'and', 'slowly', 'got', 'to', 'his', 'feet', 'and', 'shook', 'himself', '.'], ['Then', 'he', 'walked', 'over', 'to', 'a', 'big', 'pine', '-', 'tree', ',', 'stood', 'up', 'on', 'his', 'hind', 'legs', ',', 'reached', 'as', 'high', 'up', 'on', 'the', 'trunk', 'of', 'the', 'tree', 'as', 'he', 'could', ',', 'and', 'scratched', 'the', 'bark', 'with', 'his', 'great', 'claws', '.'], ['After', 'that', 'he', 'yawned', 'until', 'it', 'seemed', 'as', 'if', 'his', 'jaws', 'would', 'crack', ',', 'and', 'then', 'sat', 'down', 'to', 'think', 'what', 'he', 'wanted', 'for', 'breakfast', '.'], ['While', 'he', 'sat', 'there', ',', 'trying', 'to', 'make', 'up', 'his', 'mind', 'what', 'would', 'taste', 'best', ',', 'he', 'was', 'listening', 'to', 'the', 'sounds', 'that', 'told', 'of', 'the', 'waking', 'of', 'all', 'the', 'little', 'people', 'who', 'live', 'in', 'the', 'Green', 'Forest', '.'], ['He', 'heard', 'Sammy', 'Jay', 'way', 'off', 'in', 'the', 'distance', 'screaming', ',', '\"', 'Thief', '!'], ['Thief', '!\"'], ['and', 'grinned', '.'], ['\"', 'I', 'wonder', ',\"', 'thought', 'Buster', ',', '\"', 'if', 'some', 'one', 'has', 'stolen', 'Sammy', \"'\", 's', 'breakfast', ',', 'or', 'if', 'he', 'has', 'stolen', 'the', 'breakfast', 'of', 'some', 'one', 'else', '.'], ['Probably', 'he', 'is', 'the', 'thief', 'himself', '.\"'], ['He', 'heard', 'Chatterer', 'the', 'Red', 'Squirrel', 'scolding', 'as', 'fast', 'as', 'he', 'could', 'make', 'his', 'tongue', 'go', 'and', 'working', 'himself', 'into', 'a', 'terrible', 'rage', '.'], ['\"', 'Must', 'be', 'that', 'Chatterer', 'got', 'out', 'of', 'bed', 'the', 'wrong', 'way', 'this', 'morning', ',\"', 'thought', 'he', '.'], ['He', 'heard', 'Blacky', 'the', 'Crow', 'cawing', 'at', 'the', 'top', 'of', 'his', 'lungs', ',', 'and', 'he', 'knew', 'by', 'the', 'sound', 'that', 'Blacky', 'was', 'getting', 'into', 'mischief', 'of', 'some', 'kind', '.'], ['He', 'heard', 'the', 'sweet', 'voices', 'of', 'happy', 'little', 'singers', ',', 'and', 'they', 'were', 'good', 'to', 'hear', '.'], ['But', 'most', 'of', 'all', 'he', 'listened', 'to', 'a', 'merry', ',', 'low', ',', 'silvery', 'laugh', 'that', 'never', 'stopped', 'but', 'went', 'on', 'and', 'on', ',', 'until', 'he', 'just', 'felt', 'as', 'if', 'he', 'must', 'laugh', 'too', '.'], ['It', 'was', 'the', 'voice', 'of', 'the', 'Laughing', 'Brook', '.'], ['And', 'as', 'Buster', 'listened', 'it', 'suddenly', 'came', 'to', 'him', 'just', 'what', 'he', 'wanted', 'for', 'breakfast', '.'], ['\"', 'I', \"'\", 'm', 'going', 'fishing', ',\"', 'said', 'he', 'in', 'his', 'deep', 'grumbly', '-', 'rumbly', 'voice', 'to', 'no', 'one', 'in', 'particular', '.'], ['\"', 'Yes', ',', 'Sir', ',', 'I', \"'\", 'm', 'going', 'fishing', '.'], ['I', 'want', 'some', 'fat', 'trout', 'for', 'my', 'breakfast', '.\"'], ['He', 'shuffled', 'along', 'over', 'to', 'the', 'Laughing', 'Brook', ',', 'and', 'straight', 'to', 'a', 'little', 'pool', 'of', 'which', 'he', 'knew', ',', 'and', 'as', 'he', 'drew', 'near', 'he', 'took', 'the', 'greatest', 'care', 'not', 'to', 'make', 'the', 'teeniest', ',', 'weeniest', 'bit', 'of', 'noise', '.'], ['Now', 'it', 'just', 'happened', 'that', 'early', 'as', 'he', 'was', ',', 'some', 'one', 'was', 'before', 'Buster', 'Bear', '.'], ['When', 'he', 'came', 'in', 'sight', 'of', 'the', 'little', 'pool', ',', 'who', 'should', 'he', 'see', 'but', 'another', 'fisherman', 'there', ',', 'who', 'had', 'already', 'caught', 'a', 'fine', 'fat', 'trout', '.'], ['Who', 'was', 'it', '?'], ['Why', ',', 'Little', 'Joe', 'Otter', 'to', 'be', 'sure', '.'], ['He', 'was', 'just', 'climbing', 'up', 'the', 'bank', 'with', 'the', 'fat', 'trout', 'in', 'his', 'mouth', '.'], ['Buster', 'Bear', \"'\", 's', 'own', 'mouth', 'watered', 'as', 'he', 'saw', 'it', '.'], ['Little', 'Joe', 'sat', 'down', 'on', 'the', 'bank', 'and', 'prepared', 'to', 'enjoy', 'his', 'breakfast', '.'], ['He', 'hadn', \"'\", 't', 'seen', 'Buster', 'Bear', ',', 'and', 'he', 'didn', \"'\", 't', 'know', 'that', 'he', 'or', 'any', 'one', 'else', 'was', 'anywhere', 'near', '.'], ['Buster', 'Bear', 'tiptoed', 'up', 'very', 'softly', 'until', 'he', 'was', 'right', 'behind', 'Little', 'Joe', 'Otter', '.'], ['\"', 'Woof', ',', 'woof', '!\"'], ['said', 'he', 'in', 'his', 'deepest', ',', 'most', 'grumbly', '-', 'rumbly', 'voice', '.'], ['\"', 'That', \"'\", 's', 'a', 'very', 'fine', 'looking', 'trout', '.'], ['I', 'wouldn', \"'\", 't', 'mind', 'if', 'I', 'had', 'it', 'myself', '.\"'], ['Little', 'Joe', 'Otter', 'gave', 'a', 'frightened', 'squeal', 'and', 'without', 'even', 'turning', 'to', 'see', 'who', 'was', 'speaking', 'dropped', 'his', 'fish', 'and', 'dived', 'headfirst', 'into', 'the', 'Laughing', 'Brook', '.'], ['Buster', 'Bear', 'sprang', 'forward', 'and', 'with', 'one', 'of', 'his', 'big', 'paws', 'caught', 'the', 'fat', 'trout', 'just', 'as', 'it', 'was', 'slipping', 'back', 'into', 'the', 'water', '.'], ['\"', 'Here', \"'\", 's', 'your', 'trout', ',', 'Mr', '.'], ['Otter', ',\"', 'said', 'he', ',', 'as', 'Little', 'Joe', 'put', 'his', 'head', 'out', 'of', 'water', 'to', 'see', 'who', 'had', 'frightened', 'him', 'so', '.'], ['\"', 'Come', 'and', 'get', 'it', '.\"'], ['[', 'Illustration', ':', '\"', 'Here', \"'\", 's', 'your', 'trout', ',', 'Mr', '.'], ['Otter', ',\"', 'said', 'he', '.'], ['_Page', '5', '.', '_', ']'], ['But', 'Little', 'Joe', 'wouldn', \"'\", 't', '.'], ['The', 'fact', 'is', ',', 'he', 'was', 'afraid', 'to', '.'], ['He', 'snarled', 'at', 'Buster', 'Bear', 'and', 'called', 'him', 'a', 'thief', 'and', 'everything', 'bad', 'he', 'could', 'think', 'of', '.'], ['Buster', 'didn', \"'\", 't', 'seem', 'to', 'mind', '.'], ['He', 'chuckled', 'as', 'if', 'he', 'thought', 'it', 'all', 'a', 'great', 'joke', 'and', 'repeated', 'his', 'invitation', 'to', 'Little', 'Joe', 'to', 'come', 'and', 'get', 'his', 'fish', '.']]\n",
      "[['[', 'Alice', \"'\", 's', 'Adventures', 'in', 'Wonderland', 'by', 'Lewis', 'Carroll', '1865', ']'], ['CHAPTER', 'I', '.'], ['Down', 'the', 'Rabbit', '-', 'Hole'], ['Alice', 'was', 'beginning', 'to', 'get', 'very', 'tired', 'of', 'sitting', 'by', 'her', 'sister', 'on', 'the', 'bank', ',', 'and', 'of', 'having', 'nothing', 'to', 'do', ':', 'once', 'or', 'twice', 'she', 'had', 'peeped', 'into', 'the', 'book', 'her', 'sister', 'was', 'reading', ',', 'but', 'it', 'had', 'no', 'pictures', 'or', 'conversations', 'in', 'it', ',', \"'\", 'and', 'what', 'is', 'the', 'use', 'of', 'a', 'book', \",'\", 'thought', 'Alice', \"'\", 'without', 'pictures', 'or', 'conversation', \"?'\"], ['So', 'she', 'was', 'considering', 'in', 'her', 'own', 'mind', '(', 'as', 'well', 'as', 'she', 'could', ',', 'for', 'the', 'hot', 'day', 'made', 'her', 'feel', 'very', 'sleepy', 'and', 'stupid', '),', 'whether', 'the', 'pleasure', 'of', 'making', 'a', 'daisy', '-', 'chain', 'would', 'be', 'worth', 'the', 'trouble', 'of', 'getting', 'up', 'and', 'picking', 'the', 'daisies', ',', 'when', 'suddenly', 'a', 'White', 'Rabbit', 'with', 'pink', 'eyes', 'ran', 'close', 'by', 'her', '.'], ['There', 'was', 'nothing', 'so', 'VERY', 'remarkable', 'in', 'that', ';', 'nor', 'did', 'Alice', 'think', 'it', 'so', 'VERY', 'much', 'out', 'of', 'the', 'way', 'to', 'hear', 'the', 'Rabbit', 'say', 'to', 'itself', ',', \"'\", 'Oh', 'dear', '!'], ['Oh', 'dear', '!'], ['I', 'shall', 'be', 'late', \"!'\"], ['(', 'when', 'she', 'thought', 'it', 'over', 'afterwards', ',', 'it', 'occurred', 'to', 'her', 'that', 'she', 'ought', 'to', 'have', 'wondered', 'at', 'this', ',', 'but', 'at', 'the', 'time', 'it', 'all', 'seemed', 'quite', 'natural', ');', 'but', 'when', 'the', 'Rabbit', 'actually', 'TOOK', 'A', 'WATCH', 'OUT', 'OF', 'ITS', 'WAISTCOAT', '-', 'POCKET', ',', 'and', 'looked', 'at', 'it', ',', 'and', 'then', 'hurried', 'on', ',', 'Alice', 'started', 'to', 'her', 'feet', ',', 'for', 'it', 'flashed', 'across', 'her', 'mind', 'that', 'she', 'had', 'never', 'before', 'seen', 'a', 'rabbit', 'with', 'either', 'a', 'waistcoat', '-', 'pocket', ',', 'or', 'a', 'watch', 'to', 'take', 'out', 'of', 'it', ',', 'and', 'burning', 'with', 'curiosity', ',', 'she', 'ran', 'across', 'the', 'field', 'after', 'it', ',', 'and', 'fortunately', 'was', 'just', 'in', 'time', 'to', 'see', 'it', 'pop', 'down', 'a', 'large', 'rabbit', '-', 'hole', 'under', 'the', 'hedge', '.'], ['In', 'another', 'moment', 'down', 'went', 'Alice', 'after', 'it', ',', 'never', 'once', 'considering', 'how', 'in', 'the', 'world', 'she', 'was', 'to', 'get', 'out', 'again', '.'], ['The', 'rabbit', '-', 'hole', 'went', 'straight', 'on', 'like', 'a', 'tunnel', 'for', 'some', 'way', ',', 'and', 'then', 'dipped', 'suddenly', 'down', ',', 'so', 'suddenly', 'that', 'Alice', 'had', 'not', 'a', 'moment', 'to', 'think', 'about', 'stopping', 'herself', 'before', 'she', 'found', 'herself', 'falling', 'down', 'a', 'very', 'deep', 'well', '.'], ['Either', 'the', 'well', 'was', 'very', 'deep', ',', 'or', 'she', 'fell', 'very', 'slowly', ',', 'for', 'she', 'had', 'plenty', 'of', 'time', 'as', 'she', 'went', 'down', 'to', 'look', 'about', 'her', 'and', 'to', 'wonder', 'what', 'was', 'going', 'to', 'happen', 'next', '.'], ['First', ',', 'she', 'tried', 'to', 'look', 'down', 'and', 'make', 'out', 'what', 'she', 'was', 'coming', 'to', ',', 'but', 'it', 'was', 'too', 'dark', 'to', 'see', 'anything', ';', 'then', 'she', 'looked', 'at', 'the', 'sides', 'of', 'the', 'well', ',', 'and', 'noticed', 'that', 'they', 'were', 'filled', 'with', 'cupboards', 'and', 'book', '-', 'shelves', ';', 'here', 'and', 'there', 'she', 'saw', 'maps', 'and', 'pictures', 'hung', 'upon', 'pegs', '.'], ['She', 'took', 'down', 'a', 'jar', 'from', 'one', 'of', 'the', 'shelves', 'as', 'she', 'passed', ';', 'it', 'was', 'labelled', \"'\", 'ORANGE', 'MARMALADE', \"',\", 'but', 'to', 'her', 'great', 'disappointment', 'it', 'was', 'empty', ':', 'she', 'did', 'not', 'like', 'to', 'drop', 'the', 'jar', 'for', 'fear', 'of', 'killing', 'somebody', ',', 'so', 'managed', 'to', 'put', 'it', 'into', 'one', 'of', 'the', 'cupboards', 'as', 'she', 'fell', 'past', 'it', '.'], [\"'\", 'Well', \"!'\"], ['thought', 'Alice', 'to', 'herself', ',', \"'\", 'after', 'such', 'a', 'fall', 'as', 'this', ',', 'I', 'shall', 'think', 'nothing', 'of', 'tumbling', 'down', 'stairs', '!'], ['How', 'brave', 'they', \"'\", 'll', 'all', 'think', 'me', 'at', 'home', '!'], ['Why', ',', 'I', 'wouldn', \"'\", 't', 'say', 'anything', 'about', 'it', ',', 'even', 'if', 'I', 'fell', 'off', 'the', 'top', 'of', 'the', 'house', \"!'\"], ['(', 'Which', 'was', 'very', 'likely', 'true', '.)'], ['Down', ',', 'down', ',', 'down', '.'], ['Would', 'the', 'fall', 'NEVER', 'come', 'to', 'an', 'end', '!'], [\"'\", 'I', 'wonder', 'how', 'many', 'miles', 'I', \"'\", 've', 'fallen', 'by', 'this', 'time', \"?'\"], ['she', 'said', 'aloud', '.'], [\"'\", 'I', 'must', 'be', 'getting', 'somewhere', 'near', 'the', 'centre', 'of', 'the', 'earth', '.'], ['Let', 'me', 'see', ':', 'that', 'would', 'be', 'four', 'thousand', 'miles', 'down', ',', 'I', 'think', \"--'\", '(', 'for', ',', 'you', 'see', ',', 'Alice', 'had', 'learnt', 'several', 'things', 'of', 'this', 'sort', 'in', 'her', 'lessons', 'in', 'the', 'schoolroom', ',', 'and', 'though', 'this', 'was', 'not', 'a', 'VERY', 'good', 'opportunity', 'for', 'showing', 'off', 'her', 'knowledge', ',', 'as', 'there', 'was', 'no', 'one', 'to', 'listen', 'to', 'her', ',', 'still', 'it', 'was', 'good', 'practice', 'to', 'say', 'it', 'over', ')', \"'--\", 'yes', ',', 'that', \"'\", 's', 'about', 'the', 'right', 'distance', '--', 'but', 'then', 'I', 'wonder', 'what', 'Latitude', 'or', 'Longitude', 'I', \"'\", 've', 'got', 'to', \"?'\"], ['(', 'Alice', 'had', 'no', 'idea', 'what', 'Latitude', 'was', ',', 'or', 'Longitude', 'either', ',', 'but', 'thought', 'they', 'were', 'nice', 'grand', 'words', 'to', 'say', '.)'], ['Presently', 'she', 'began', 'again', '.'], [\"'\", 'I', 'wonder', 'if', 'I', 'shall', 'fall', 'right', 'THROUGH', 'the', 'earth', '!'], ['How', 'funny', 'it', \"'\", 'll', 'seem', 'to', 'come', 'out', 'among', 'the', 'people', 'that', 'walk', 'with', 'their', 'heads', 'downward', '!'], ['The', 'Antipathies', ',', 'I', 'think', \"--'\", '(', 'she', 'was', 'rather', 'glad', 'there', 'WAS', 'no', 'one', 'listening', ',', 'this', 'time', ',', 'as', 'it', 'didn', \"'\", 't', 'sound', 'at', 'all', 'the', 'right', 'word', ')', \"'--\", 'but', 'I', 'shall', 'have', 'to', 'ask', 'them', 'what', 'the', 'name', 'of', 'the', 'country', 'is', ',', 'you', 'know', '.'], ['Please', ',', 'Ma', \"'\", 'am', ',', 'is', 'this', 'New', 'Zealand', 'or', 'Australia', \"?'\"], ['(', 'and', 'she', 'tried', 'to', 'curtsey', 'as', 'she', 'spoke', '--', 'fancy', 'CURTSEYING', 'as', 'you', \"'\", 're', 'falling', 'through', 'the', 'air', '!'], ['Do', 'you', 'think', 'you', 'could', 'manage', 'it', '?)'], [\"'\", 'And', 'what', 'an', 'ignorant', 'little', 'girl', 'she', \"'\", 'll', 'think', 'me', 'for', 'asking', '!'], ['No', ',', 'it', \"'\", 'll', 'never', 'do', 'to', 'ask', ':', 'perhaps', 'I', 'shall', 'see', 'it', 'written', 'up', 'somewhere', \".'\"], ['Down', ',', 'down', ',', 'down', '.'], ['There', 'was', 'nothing', 'else', 'to', 'do', ',', 'so', 'Alice', 'soon', 'began', 'talking', 'again', '.'], [\"'\", 'Dinah', \"'\", 'll', 'miss', 'me', 'very', 'much', 'to', '-', 'night', ',', 'I', 'should', 'think', \"!'\"], ['(', 'Dinah', 'was', 'the', 'cat', '.)'], [\"'\", 'I', 'hope', 'they', \"'\", 'll', 'remember', 'her', 'saucer', 'of', 'milk', 'at', 'tea', '-', 'time', '.'], ['Dinah', 'my', 'dear', '!'], ['I', 'wish', 'you', 'were', 'down', 'here', 'with', 'me', '!'], ['There', 'are', 'no', 'mice', 'in', 'the', 'air', ',', 'I', \"'\", 'm', 'afraid', ',', 'but', 'you', 'might', 'catch', 'a', 'bat', ',', 'and', 'that', \"'\", 's', 'very', 'like', 'a', 'mouse', ',', 'you', 'know', '.'], ['But', 'do', 'cats', 'eat', 'bats', ',', 'I', 'wonder', \"?'\"], ['And', 'here', 'Alice', 'began', 'to', 'get', 'rather', 'sleepy', ',', 'and', 'went', 'on', 'saying', 'to', 'herself', ',', 'in', 'a', 'dreamy', 'sort', 'of', 'way', ',', \"'\", 'Do', 'cats', 'eat', 'bats', '?'], ['Do', 'cats', 'eat', 'bats', \"?'\"], ['and', 'sometimes', ',', \"'\", 'Do', 'bats', 'eat', 'cats', \"?'\"], ['for', ',', 'you', 'see', ',', 'as', 'she', 'couldn', \"'\", 't', 'answer', 'either', 'question', ',', 'it', 'didn', \"'\", 't', 'much', 'matter', 'which', 'way', 'she', 'put', 'it', '.'], ['She', 'felt', 'that', 'she', 'was', 'dozing', 'off', ',', 'and', 'had', 'just', 'begun', 'to', 'dream', 'that', 'she', 'was', 'walking', 'hand', 'in', 'hand', 'with', 'Dinah', ',', 'and', 'saying', 'to', 'her', 'very', 'earnestly', ',', \"'\", 'Now', ',', 'Dinah', ',', 'tell', 'me', 'the', 'truth', ':', 'did', 'you', 'ever', 'eat', 'a', 'bat', \"?'\"], ['when', 'suddenly', ',', 'thump', '!']]\n",
      "[['[', 'The', 'Ball', 'and', 'The', 'Cross', 'by', 'G', '.', 'K', '.', 'Chesterton', '1909', ']'], ['I', '.'], ['A', 'DISCUSSION', 'SOMEWHAT', 'IN', 'THE', 'AIR'], ['The', 'flying', 'ship', 'of', 'Professor', 'Lucifer', 'sang', 'through', 'the', 'skies', 'like', 'a', 'silver', 'arrow', ';', 'the', 'bleak', 'white', 'steel', 'of', 'it', ',', 'gleaming', 'in', 'the', 'bleak', 'blue', 'emptiness', 'of', 'the', 'evening', '.'], ['That', 'it', 'was', 'far', 'above', 'the', 'earth', 'was', 'no', 'expression', 'for', 'it', ';', 'to', 'the', 'two', 'men', 'in', 'it', ',', 'it', 'seemed', 'to', 'be', 'far', 'above', 'the', 'stars', '.'], ['The', 'professor', 'had', 'himself', 'invented', 'the', 'flying', 'machine', ',', 'and', 'had', 'also', 'invented', 'nearly', 'everything', 'in', 'it', '.'], ['Every', 'sort', 'of', 'tool', 'or', 'apparatus', 'had', ',', 'in', 'consequence', ',', 'to', 'the', 'full', ',', 'that', 'fantastic', 'and', 'distorted', 'look', 'which', 'belongs', 'to', 'the', 'miracles', 'of', 'science', '.'], ['For', 'the', 'world', 'of', 'science', 'and', 'evolution', 'is', 'far', 'more', 'nameless', 'and', 'elusive', 'and', 'like', 'a', 'dream', 'than', 'the', 'world', 'of', 'poetry', 'and', 'religion', ';', 'since', 'in', 'the', 'latter', 'images', 'and', 'ideas', 'remain', 'themselves', 'eternally', ',', 'while', 'it', 'is', 'the', 'whole', 'idea', 'of', 'evolution', 'that', 'identities', 'melt', 'into', 'each', 'other', 'as', 'they', 'do', 'in', 'a', 'nightmare', '.'], ['All', 'the', 'tools', 'of', 'Professor', 'Lucifer', 'were', 'the', 'ancient', 'human', 'tools', 'gone', 'mad', ',', 'grown', 'into', 'unrecognizable', 'shapes', ',', 'forgetful', 'of', 'their', 'origin', ',', 'forgetful', 'of', 'their', 'names', '.'], ['That', 'thing', 'which', 'looked', 'like', 'an', 'enormous', 'key', 'with', 'three', 'wheels', 'was', 'really', 'a', 'patent', 'and', 'very', 'deadly', 'revolver', '.'], ['That', 'object', 'which', 'seemed', 'to', 'be', 'created', 'by', 'the', 'entanglement', 'of', 'two', 'corkscrews', 'was', 'really', 'the', 'key', '.'], ['The', 'thing', 'which', 'might', 'have', 'been', 'mistaken', 'for', 'a', 'tricycle', 'turned', 'upside', '-', 'down', 'was', 'the', 'inexpressibly', 'important', 'instrument', 'to', 'which', 'the', 'corkscrew', 'was', 'the', 'key', '.'], ['All', 'these', 'things', ',', 'as', 'I', 'say', ',', 'the', 'professor', 'had', 'invented', ';', 'he', 'had', 'invented', 'everything', 'in', 'the', 'flying', 'ship', ',', 'with', 'the', 'exception', ',', 'perhaps', ',', 'of', 'himself', '.'], ['This', 'he', 'had', 'been', 'born', 'too', 'late', 'actually', 'to', 'inaugurate', ',', 'but', 'he', 'believed', 'at', 'least', ',', 'that', 'he', 'had', 'considerably', 'improved', 'it', '.'], ['There', 'was', ',', 'however', ',', 'another', 'man', 'on', 'board', ',', 'so', 'to', 'speak', ',', 'at', 'the', 'time', '.'], ['Him', ',', 'also', ',', 'by', 'a', 'curious', 'coincidence', ',', 'the', 'professor', 'had', 'not', 'invented', ',', 'and', 'him', 'he', 'had', 'not', 'even', 'very', 'greatly', 'improved', ',', 'though', 'he', 'had', 'fished', 'him', 'up', 'with', 'a', 'lasso', 'out', 'of', 'his', 'own', 'back', 'garden', ',', 'in', 'Western', 'Bulgaria', ',', 'with', 'the', 'pure', 'object', 'of', 'improving', 'him', '.'], ['He', 'was', 'an', 'exceedingly', 'holy', 'man', ',', 'almost', 'entirely', 'covered', 'with', 'white', 'hair', '.'], ['You', 'could', 'see', 'nothing', 'but', 'his', 'eyes', ',', 'and', 'he', 'seemed', 'to', 'talk', 'with', 'them', '.'], ['A', 'monk', 'of', 'immense', 'learning', 'and', 'acute', 'intellect', 'he', 'had', 'made', 'himself', 'happy', 'in', 'a', 'little', 'stone', 'hut', 'and', 'a', 'little', 'stony', 'garden', 'in', 'the', 'Balkans', ',', 'chiefly', 'by', 'writing', 'the', 'most', 'crushing', 'refutations', 'of', 'exposures', 'of', 'certain', 'heresies', ',', 'the', 'last', 'professors', 'of', 'which', 'had', 'been', 'burnt', '(', 'generally', 'by', 'each', 'other', ')', 'precisely', '1', ',', '119', 'years', 'previously', '.'], ['They', 'were', 'really', 'very', 'plausible', 'and', 'thoughtful', 'heresies', ',', 'and', 'it', 'was', 'really', 'a', 'creditable', 'or', 'even', 'glorious', 'circumstance', ',', 'that', 'the', 'old', 'monk', 'had', 'been', 'intellectual', 'enough', 'to', 'detect', 'their', 'fallacy', ';', 'the', 'only', 'misfortune', 'was', 'that', 'nobody', 'in', 'the', 'modern', 'world', 'was', 'intellectual', 'enough', 'even', 'to', 'understand', 'their', 'argument', '.'], ['The', 'old', 'monk', ',', 'one', 'of', 'whose', 'names', 'was', 'Michael', ',', 'and', 'the', 'other', 'a', 'name', 'quite', 'impossible', 'to', 'remember', 'or', 'repeat', 'in', 'our', 'Western', 'civilization', ',', 'had', ',', 'however', ',', 'as', 'I', 'have', 'said', ',', 'made', 'himself', 'quite', 'happy', 'while', 'he', 'was', 'in', 'a', 'mountain', 'hermitage', 'in', 'the', 'society', 'of', 'wild', 'animals', '.'], ['And', 'now', 'that', 'his', 'luck', 'had', 'lifted', 'him', 'above', 'all', 'the', 'mountains', 'in', 'the', 'society', 'of', 'a', 'wild', 'physicist', ',', 'he', 'made', 'himself', 'happy', 'still', '.'], ['\"', 'I', 'have', 'no', 'intention', ',', 'my', 'good', 'Michael', ',\"', 'said', 'Professor', 'Lucifer', ',', '\"', 'of', 'endeavouring', 'to', 'convert', 'you', 'by', 'argument', '.'], ['The', 'imbecility', 'of', 'your', 'traditions', 'can', 'be', 'quite', 'finally', 'exhibited', 'to', 'anybody', 'with', 'mere', 'ordinary', 'knowledge', 'of', 'the', 'world', ',', 'the', 'same', 'kind', 'of', 'knowledge', 'which', 'teaches', 'us', 'not', 'to', 'sit', 'in', 'draughts', 'or', 'not', 'to', 'encourage', 'friendliness', 'in', 'impecunious', 'people', '.'], ['It', 'is', 'folly', 'to', 'talk', 'of', 'this', 'or', 'that', 'demonstrating', 'the', 'rationalist', 'philosophy', '.'], ['Everything', 'demonstrates', 'it', '.'], ['Rubbing', 'shoulders', 'with', 'men', 'of', 'all', 'kinds', '----\"'], ['\"', 'You', 'will', 'forgive', 'me', ',\"', 'said', 'the', 'monk', ',', 'meekly', 'from', 'under', 'loads', 'of', 'white', 'beard', ',', '\"', 'but', 'I', 'fear', 'I', 'do', 'not', 'understand', ';', 'was', 'it', 'in', 'order', 'that', 'I', 'might', 'rub', 'my', 'shoulder', 'against', 'men', 'of', 'all', 'kinds', 'that', 'you', 'put', 'me', 'inside', 'this', 'thing', '?\"'], ['\"', 'An', 'entertaining', 'retort', ',', 'in', 'the', 'narrow', 'and', 'deductive', 'manner', 'of', 'the', 'Middle', 'Ages', ',\"', 'replied', 'the', 'Professor', ',', 'calmly', ',', '\"', 'but', 'even', 'upon', 'your', 'own', 'basis', 'I', 'will', 'illustrate', 'my', 'point', '.'], ['We', 'are', 'up', 'in', 'the', 'sky', '.'], ['In', 'your', 'religion', 'and', 'all', 'the', 'religions', ',', 'as', 'far', 'as', 'I', 'know', '(', 'and', 'I', 'know', 'everything', '),', 'the', 'sky', 'is', 'made', 'the', 'symbol', 'of', 'everything', 'that', 'is', 'sacred', 'and', 'merciful', '.'], ['Well', ',', 'now', 'you', 'are', 'in', 'the', 'sky', ',', 'you', 'know', 'better', '.'], ['Phrase', 'it', 'how', 'you', 'like', ',', 'twist', 'it', 'how', 'you', 'like', ',', 'you', 'know', 'that', 'you', 'know', 'better', '.'], ['You', 'know', 'what', 'are', 'a', 'man', \"'\", 's', 'real', 'feelings', 'about', 'the', 'heavens', ',', 'when', 'he', 'finds', 'himself', 'alone', 'in', 'the', 'heavens', ',', 'surrounded', 'by', 'the', 'heavens', '.'], ['You', 'know', 'the', 'truth', ',', 'and', 'the', 'truth', 'is', 'this', '.'], ['The', 'heavens', 'are', 'evil', ',', 'the', 'sky', 'is', 'evil', ',', 'the', 'stars', 'are', 'evil', '.'], ['This', 'mere', 'space', ',', 'this', 'mere', 'quantity', ',', 'terrifies', 'a', 'man', 'more', 'than', 'tigers', 'or', 'the', 'terrible', 'plague', '.'], ['You', 'know', 'that', 'since', 'our', 'science', 'has', 'spoken', ',', 'the', 'bottom', 'has', 'fallen', 'out', 'of', 'the', 'Universe', '.'], ['Now', ',', 'heaven', 'is', 'the', 'hopeless', 'thing', ',', 'more', 'hopeless', 'than', 'any', 'hell', '.'], ['Now', ',', 'if', 'there', 'be', 'any', 'comfort', 'for', 'all', 'your', 'miserable', 'progeny', 'of', 'morbid', 'apes', ',', 'it', 'must', 'be', 'in', 'the', 'earth', ',', 'underneath', 'you', ',', 'under', 'the', 'roots', 'of', 'the', 'grass', ',', 'in', 'the', 'place', 'where', 'hell', 'was', 'of', 'old', '.'], ['The', 'fiery', 'crypts', ',', 'the', 'lurid', 'cellars', 'of', 'the', 'underworld', ',', 'to', 'which', 'you', 'once', 'condemned', 'the', 'wicked', ',', 'are', 'hideous', 'enough', ',', 'but', 'at', 'least', 'they', 'are', 'more', 'homely', 'than', 'the', 'heaven', 'in', 'which', 'we', 'ride', '.'], ['And', 'the', 'time', 'will', 'come', 'when', 'you', 'will', 'all', 'hide', 'in', 'them', ',', 'to', 'escape', 'the', 'horror', 'of', 'the', 'stars', '.\"'], ['\"', 'I', 'hope', 'you', 'will', 'excuse', 'my', 'interrupting', 'you', ',\"', 'said', 'Michael', ',', 'with', 'a', 'slight', 'cough', ',', '\"', 'but', 'I', 'have', 'always', 'noticed', '----\"'], ['\"', 'Go', 'on', ',', 'pray', 'go', 'on', ',\"', 'said', 'Professor', 'Lucifer', ',', 'radiantly', ',', '\"', 'I', 'really', 'like', 'to', 'draw', 'out', 'your', 'simple', 'ideas', '.\"'], ['\"', 'Well', ',', 'the', 'fact', 'is', ',\"', 'said', 'the', 'other', ',', '\"', 'that', 'much', 'as', 'I', 'admire', 'your', 'rhetoric', 'and', 'the', 'rhetoric', 'of', 'your', 'school', ',', 'from', 'a', 'purely', 'verbal', 'point', 'of', 'view', ',', 'such', 'little', 'study', 'of', 'you', 'and', 'your', 'school', 'in', 'human', 'history', 'as', 'I', 'have', 'been', 'enabled', 'to', 'make', 'has', 'led', 'me', 'to', '--', 'er', '--', 'rather', 'singular', 'conclusion', ',', 'which', 'I', 'find', 'great', 'difficulty', 'in', 'expressing', ',', 'especially', 'in', 'a', 'foreign', 'language', '.\"'], ['\"', 'Come', ',', 'come', ',\"', 'said', 'the', 'Professor', ',', 'encouragingly', ',', '\"', 'I', \"'\", 'll', 'help', 'you', 'out', '.'], ['How', 'did', 'my', 'view', 'strike', 'you', '?\"'], ['\"', 'Well', ',', 'the', 'truth', 'is', ',', 'I', 'know', 'I', 'don', \"'\", 't', 'express', 'it', 'properly', ',', 'but', 'somehow', 'it', 'seemed', 'to', 'me', 'that', 'you', 'always', 'convey', 'ideas', 'of', 'that', 'kind', 'with', 'most', 'eloquence', ',', 'when', '--', 'er', '--', 'when', '----\"'], ['\"', 'Oh', '!'], ['get', 'on', ',\"', 'cried', 'Lucifer', ',', 'boisterously', '.']]\n",
      "[['[', 'The', 'Wisdom', 'of', 'Father', 'Brown', 'by', 'G', '.', 'K', '.', 'Chesterton', '1914', ']'], ['I', '.'], ['The', 'Absence', 'of', 'Mr', 'Glass'], ['THE', 'consulting', '-', 'rooms', 'of', 'Dr', 'Orion', 'Hood', ',', 'the', 'eminent', 'criminologist', 'and', 'specialist', 'in', 'certain', 'moral', 'disorders', ',', 'lay', 'along', 'the', 'sea', '-', 'front', 'at', 'Scarborough', ',', 'in', 'a', 'series', 'of', 'very', 'large', 'and', 'well', '-', 'lighted', 'french', 'windows', ',', 'which', 'showed', 'the', 'North', 'Sea', 'like', 'one', 'endless', 'outer', 'wall', 'of', 'blue', '-', 'green', 'marble', '.'], ['In', 'such', 'a', 'place', 'the', 'sea', 'had', 'something', 'of', 'the', 'monotony', 'of', 'a', 'blue', '-', 'green', 'dado', ':', 'for', 'the', 'chambers', 'themselves', 'were', 'ruled', 'throughout', 'by', 'a', 'terrible', 'tidiness', 'not', 'unlike', 'the', 'terrible', 'tidiness', 'of', 'the', 'sea', '.'], ['It', 'must', 'not', 'be', 'supposed', 'that', 'Dr', 'Hood', \"'\", 's', 'apartments', 'excluded', 'luxury', ',', 'or', 'even', 'poetry', '.'], ['These', 'things', 'were', 'there', ',', 'in', 'their', 'place', ';', 'but', 'one', 'felt', 'that', 'they', 'were', 'never', 'allowed', 'out', 'of', 'their', 'place', '.'], ['Luxury', 'was', 'there', ':', 'there', 'stood', 'upon', 'a', 'special', 'table', 'eight', 'or', 'ten', 'boxes', 'of', 'the', 'best', 'cigars', ';', 'but', 'they', 'were', 'built', 'upon', 'a', 'plan', 'so', 'that', 'the', 'strongest', 'were', 'always', 'nearest', 'the', 'wall', 'and', 'the', 'mildest', 'nearest', 'the', 'window', '.'], ['A', 'tantalus', 'containing', 'three', 'kinds', 'of', 'spirit', ',', 'all', 'of', 'a', 'liqueur', 'excellence', ',', 'stood', 'always', 'on', 'this', 'table', 'of', 'luxury', ';', 'but', 'the', 'fanciful', 'have', 'asserted', 'that', 'the', 'whisky', ',', 'brandy', ',', 'and', 'rum', 'seemed', 'always', 'to', 'stand', 'at', 'the', 'same', 'level', '.'], ['Poetry', 'was', 'there', ':', 'the', 'left', '-', 'hand', 'corner', 'of', 'the', 'room', 'was', 'lined', 'with', 'as', 'complete', 'a', 'set', 'of', 'English', 'classics', 'as', 'the', 'right', 'hand', 'could', 'show', 'of', 'English', 'and', 'foreign', 'physiologists', '.'], ['But', 'if', 'one', 'took', 'a', 'volume', 'of', 'Chaucer', 'or', 'Shelley', 'from', 'that', 'rank', ',', 'its', 'absence', 'irritated', 'the', 'mind', 'like', 'a', 'gap', 'in', 'a', 'man', \"'\", 's', 'front', 'teeth', '.'], ['One', 'could', 'not', 'say', 'the', 'books', 'were', 'never', 'read', ';', 'probably', 'they', 'were', ',', 'but', 'there', 'was', 'a', 'sense', 'of', 'their', 'being', 'chained', 'to', 'their', 'places', ',', 'like', 'the', 'Bibles', 'in', 'the', 'old', 'churches', '.'], ['Dr', 'Hood', 'treated', 'his', 'private', 'book', '-', 'shelf', 'as', 'if', 'it', 'were', 'a', 'public', 'library', '.'], ['And', 'if', 'this', 'strict', 'scientific', 'intangibility', 'steeped', 'even', 'the', 'shelves', 'laden', 'with', 'lyrics', 'and', 'ballads', 'and', 'the', 'tables', 'laden', 'with', 'drink', 'and', 'tobacco', ',', 'it', 'goes', 'without', 'saying', 'that', 'yet', 'more', 'of', 'such', 'heathen', 'holiness', 'protected', 'the', 'other', 'shelves', 'that', 'held', 'the', 'specialist', \"'\", 's', 'library', ',', 'and', 'the', 'other', 'tables', 'that', 'sustained', 'the', 'frail', 'and', 'even', 'fairylike', 'instruments', 'of', 'chemistry', 'or', 'mechanics', '.'], ['Dr', 'Hood', 'paced', 'the', 'length', 'of', 'his', 'string', 'of', 'apartments', ',', 'bounded', '--', 'as', 'the', 'boys', \"'\", 'geographies', 'say', '--', 'on', 'the', 'east', 'by', 'the', 'North', 'Sea', 'and', 'on', 'the', 'west', 'by', 'the', 'serried', 'ranks', 'of', 'his', 'sociological', 'and', 'criminologist', 'library', '.'], ['He', 'was', 'clad', 'in', 'an', 'artist', \"'\", 's', 'velvet', ',', 'but', 'with', 'none', 'of', 'an', 'artist', \"'\", 's', 'negligence', ';', 'his', 'hair', 'was', 'heavily', 'shot', 'with', 'grey', ',', 'but', 'growing', 'thick', 'and', 'healthy', ';', 'his', 'face', 'was', 'lean', ',', 'but', 'sanguine', 'and', 'expectant', '.'], ['Everything', 'about', 'him', 'and', 'his', 'room', 'indicated', 'something', 'at', 'once', 'rigid', 'and', 'restless', ',', 'like', 'that', 'great', 'northern', 'sea', 'by', 'which', '(', 'on', 'pure', 'principles', 'of', 'hygiene', ')', 'he', 'had', 'built', 'his', 'home', '.'], ['Fate', ',', 'being', 'in', 'a', 'funny', 'mood', ',', 'pushed', 'the', 'door', 'open', 'and', 'introduced', 'into', 'those', 'long', ',', 'strict', ',', 'sea', '-', 'flanked', 'apartments', 'one', 'who', 'was', 'perhaps', 'the', 'most', 'startling', 'opposite', 'of', 'them', 'and', 'their', 'master', '.'], ['In', 'answer', 'to', 'a', 'curt', 'but', 'civil', 'summons', ',', 'the', 'door', 'opened', 'inwards', 'and', 'there', 'shambled', 'into', 'the', 'room', 'a', 'shapeless', 'little', 'figure', ',', 'which', 'seemed', 'to', 'find', 'its', 'own', 'hat', 'and', 'umbrella', 'as', 'unmanageable', 'as', 'a', 'mass', 'of', 'luggage', '.'], ['The', 'umbrella', 'was', 'a', 'black', 'and', 'prosaic', 'bundle', 'long', 'past', 'repair', ';', 'the', 'hat', 'was', 'a', 'broad', '-', 'curved', 'black', 'hat', ',', 'clerical', 'but', 'not', 'common', 'in', 'England', ';', 'the', 'man', 'was', 'the', 'very', 'embodiment', 'of', 'all', 'that', 'is', 'homely', 'and', 'helpless', '.'], ['The', 'doctor', 'regarded', 'the', 'new', '-', 'comer', 'with', 'a', 'restrained', 'astonishment', ',', 'not', 'unlike', 'that', 'he', 'would', 'have', 'shown', 'if', 'some', 'huge', 'but', 'obviously', 'harmless', 'sea', '-', 'beast', 'had', 'crawled', 'into', 'his', 'room', '.'], ['The', 'new', '-', 'comer', 'regarded', 'the', 'doctor', 'with', 'that', 'beaming', 'but', 'breathless', 'geniality', 'which', 'characterizes', 'a', 'corpulent', 'charwoman', 'who', 'has', 'just', 'managed', 'to', 'stuff', 'herself', 'into', 'an', 'omnibus', '.'], ['It', 'is', 'a', 'rich', 'confusion', 'of', 'social', 'self', '-', 'congratulation', 'and', 'bodily', 'disarray', '.'], ['His', 'hat', 'tumbled', 'to', 'the', 'carpet', ',', 'his', 'heavy', 'umbrella', 'slipped', 'between', 'his', 'knees', 'with', 'a', 'thud', ';', 'he', 'reached', 'after', 'the', 'one', 'and', 'ducked', 'after', 'the', 'other', ',', 'but', 'with', 'an', 'unimpaired', 'smile', 'on', 'his', 'round', 'face', 'spoke', 'simultaneously', 'as', 'follows', ':'], ['\"', 'My', 'name', 'is', 'Brown', '.'], ['Pray', 'excuse', 'me', '.'], ['I', \"'\", 've', 'come', 'about', 'that', 'business', 'of', 'the', 'MacNabs', '.'], ['I', 'have', 'heard', ',', 'you', 'often', 'help', 'people', 'out', 'of', 'such', 'troubles', '.'], ['Pray', 'excuse', 'me', 'if', 'I', 'am', 'wrong', '.\"'], ['By', 'this', 'time', 'he', 'had', 'sprawlingly', 'recovered', 'the', 'hat', ',', 'and', 'made', 'an', 'odd', 'little', 'bobbing', 'bow', 'over', 'it', ',', 'as', 'if', 'setting', 'everything', 'quite', 'right', '.'], ['\"', 'I', 'hardly', 'understand', 'you', ',\"', 'replied', 'the', 'scientist', ',', 'with', 'a', 'cold', 'intensity', 'of', 'manner', '.'], ['\"', 'I', 'fear', 'you', 'have', 'mistaken', 'the', 'chambers', '.'], ['I', 'am', 'Dr', 'Hood', ',', 'and', 'my', 'work', 'is', 'almost', 'entirely', 'literary', 'and', 'educational', '.'], ['It', 'is', 'true', 'that', 'I', 'have', 'sometimes', 'been', 'consulted', 'by', 'the', 'police', 'in', 'cases', 'of', 'peculiar', 'difficulty', 'and', 'importance', ',', 'but', '--\"'], ['\"', 'Oh', ',', 'this', 'is', 'of', 'the', 'greatest', 'importance', ',\"', 'broke', 'in', 'the', 'little', 'man', 'called', 'Brown', '.'], ['\"', 'Why', ',', 'her', 'mother', 'won', \"'\", 't', 'let', 'them', 'get', 'engaged', '.\"'], ['And', 'he', 'leaned', 'back', 'in', 'his', 'chair', 'in', 'radiant', 'rationality', '.'], ['The', 'brows', 'of', 'Dr', 'Hood', 'were', 'drawn', 'down', 'darkly', ',', 'but', 'the', 'eyes', 'under', 'them', 'were', 'bright', 'with', 'something', 'that', 'might', 'be', 'anger', 'or', 'might', 'be', 'amusement', '.'], ['\"', 'And', 'still', ',\"', 'he', 'said', ',', '\"', 'I', 'do', 'not', 'quite', 'understand', '.\"'], ['\"', 'You', 'see', ',', 'they', 'want', 'to', 'get', 'married', ',\"', 'said', 'the', 'man', 'with', 'the', 'clerical', 'hat', '.'], ['\"', 'Maggie', 'MacNab', 'and', 'young', 'Todhunter', 'want', 'to', 'get', 'married', '.'], ['Now', ',', 'what', 'can', 'be', 'more', 'important', 'than', 'that', '?\"'], ['The', 'great', 'Orion', 'Hood', \"'\", 's', 'scientific', 'triumphs', 'had', 'deprived', 'him', 'of', 'many', 'things', '--', 'some', 'said', 'of', 'his', 'health', ',', 'others', 'of', 'his', 'God', ';', 'but', 'they', 'had', 'not', 'wholly', 'despoiled', 'him', 'of', 'his', 'sense', 'of', 'the', 'absurd', '.'], ['At', 'the', 'last', 'plea', 'of', 'the', 'ingenuous', 'priest', 'a', 'chuckle', 'broke', 'out', 'of', 'him', 'from', 'inside', ',', 'and', 'he', 'threw', 'himself', 'into', 'an', 'arm', '-', 'chair', 'in', 'an', 'ironical', 'attitude', 'of', 'the', 'consulting', 'physician', '.'], ['\"', 'Mr', 'Brown', ',\"', 'he', 'said', 'gravely', ',', '\"', 'it', 'is', 'quite', 'fourteen', 'and', 'a', 'half', 'years', 'since', 'I', 'was', 'personally', 'asked', 'to', 'test', 'a', 'personal', 'problem', ':', 'then', 'it', 'was', 'the', 'case', 'of', 'an', 'attempt', 'to', 'poison', 'the', 'French', 'President', 'at', 'a', 'Lord', 'Mayor', \"'\", 's', 'Banquet', '.'], ['It', 'is', 'now', ',', 'I', 'understand', ',', 'a', 'question', 'of', 'whether', 'some', 'friend', 'of', 'yours', 'called', 'Maggie', 'is', 'a', 'suitable', 'fiancee', 'for', 'some', 'friend', 'of', 'hers', 'called', 'Todhunter', '.'], ['Well', ',', 'Mr', 'Brown', ',', 'I', 'am', 'a', 'sportsman', '.'], ['I', 'will', 'take', 'it', 'on', '.'], ['I', 'will', 'give', 'the', 'MacNab', 'family', 'my', 'best', 'advice', ',', 'as', 'good', 'as', 'I', 'gave', 'the', 'French', 'Republic', 'and', 'the', 'King', 'of', 'England', '--', 'no', ',', 'better', ':', 'fourteen', 'years', 'better', '.'], ['I', 'have', 'nothing', 'else', 'to', 'do', 'this', 'afternoon', '.']]\n",
      "[['[', 'The', 'Man', 'Who', 'Was', 'Thursday', 'by', 'G', '.', 'K', '.', 'Chesterton', '1908', ']'], ['To', 'Edmund', 'Clerihew', 'Bentley'], ['A', 'cloud', 'was', 'on', 'the', 'mind', 'of', 'men', ',', 'and', 'wailing', 'went', 'the', 'weather', ',', 'Yea', ',', 'a', 'sick', 'cloud', 'upon', 'the', 'soul', 'when', 'we', 'were', 'boys', 'together', '.'], ['Science', 'announced', 'nonentity', 'and', 'art', 'admired', 'decay', ';', 'The', 'world', 'was', 'old', 'and', 'ended', ':', 'but', 'you', 'and', 'I', 'were', 'gay', ';', 'Round', 'us', 'in', 'antic', 'order', 'their', 'crippled', 'vices', 'came', '--', 'Lust', 'that', 'had', 'lost', 'its', 'laughter', ',', 'fear', 'that', 'had', 'lost', 'its', 'shame', '.'], ['Like', 'the', 'white', 'lock', 'of', 'Whistler', ',', 'that', 'lit', 'our', 'aimless', 'gloom', ',', 'Men', 'showed', 'their', 'own', 'white', 'feather', 'as', 'proudly', 'as', 'a', 'plume', '.'], ['Life', 'was', 'a', 'fly', 'that', 'faded', ',', 'and', 'death', 'a', 'drone', 'that', 'stung', ';', 'The', 'world', 'was', 'very', 'old', 'indeed', 'when', 'you', 'and', 'I', 'were', 'young', '.'], ['They', 'twisted', 'even', 'decent', 'sin', 'to', 'shapes', 'not', 'to', 'be', 'named', ':', 'Men', 'were', 'ashamed', 'of', 'honour', ';', 'but', 'we', 'were', 'not', 'ashamed', '.'], ['Weak', 'if', 'we', 'were', 'and', 'foolish', ',', 'not', 'thus', 'we', 'failed', ',', 'not', 'thus', ';', 'When', 'that', 'black', 'Baal', 'blocked', 'the', 'heavens', 'he', 'had', 'no', 'hymns', 'from', 'us', 'Children', 'we', 'were', '--', 'our', 'forts', 'of', 'sand', 'were', 'even', 'as', 'weak', 'as', 'eve', ',', 'High', 'as', 'they', 'went', 'we', 'piled', 'them', 'up', 'to', 'break', 'that', 'bitter', 'sea', '.'], ['Fools', 'as', 'we', 'were', 'in', 'motley', ',', 'all', 'jangling', 'and', 'absurd', ',', 'When', 'all', 'church', 'bells', 'were', 'silent', 'our', 'cap', 'and', 'beds', 'were', 'heard', '.'], ['Not', 'all', 'unhelped', 'we', 'held', 'the', 'fort', ',', 'our', 'tiny', 'flags', 'unfurled', ';', 'Some', 'giants', 'laboured', 'in', 'that', 'cloud', 'to', 'lift', 'it', 'from', 'the', 'world', '.'], ['I', 'find', 'again', 'the', 'book', 'we', 'found', ',', 'I', 'feel', 'the', 'hour', 'that', 'flings', 'Far', 'out', 'of', 'fish', '-', 'shaped', 'Paumanok', 'some', 'cry', 'of', 'cleaner', 'things', ';', 'And', 'the', 'Green', 'Carnation', 'withered', ',', 'as', 'in', 'forest', 'fires', 'that', 'pass', ',', 'Roared', 'in', 'the', 'wind', 'of', 'all', 'the', 'world', 'ten', 'million', 'leaves', 'of', 'grass', ';', 'Or', 'sane', 'and', 'sweet', 'and', 'sudden', 'as', 'a', 'bird', 'sings', 'in', 'the', 'rain', '--', 'Truth', 'out', 'of', 'Tusitala', 'spoke', 'and', 'pleasure', 'out', 'of', 'pain', '.'], ['Yea', ',', 'cool', 'and', 'clear', 'and', 'sudden', 'as', 'a', 'bird', 'sings', 'in', 'the', 'grey', ',', 'Dunedin', 'to', 'Samoa', 'spoke', ',', 'and', 'darkness', 'unto', 'day', '.'], ['But', 'we', 'were', 'young', ';', 'we', 'lived', 'to', 'see', 'God', 'break', 'their', 'bitter', 'charms', '.'], ['God', 'and', 'the', 'good', 'Republic', 'come', 'riding', 'back', 'in', 'arms', ':', 'We', 'have', 'seen', 'the', 'City', 'of', 'Mansoul', ',', 'even', 'as', 'it', 'rocked', ',', 'relieved', '--', 'Blessed', 'are', 'they', 'who', 'did', 'not', 'see', ',', 'but', 'being', 'blind', ',', 'believed', '.'], ['This', 'is', 'a', 'tale', 'of', 'those', 'old', 'fears', ',', 'even', 'of', 'those', 'emptied', 'hells', ',', 'And', 'none', 'but', 'you', 'shall', 'understand', 'the', 'true', 'thing', 'that', 'it', 'tells', '--', 'Of', 'what', 'colossal', 'gods', 'of', 'shame', 'could', 'cow', 'men', 'and', 'yet', 'crash', ',', 'Of', 'what', 'huge', 'devils', 'hid', 'the', 'stars', ',', 'yet', 'fell', 'at', 'a', 'pistol', 'flash', '.'], ['The', 'doubts', 'that', 'were', 'so', 'plain', 'to', 'chase', ',', 'so', 'dreadful', 'to', 'withstand', '--', 'Oh', ',', 'who', 'shall', 'understand', 'but', 'you', ';', 'yea', ',', 'who', 'shall', 'understand', '?'], ['The', 'doubts', 'that', 'drove', 'us', 'through', 'the', 'night', 'as', 'we', 'two', 'talked', 'amain', ',', 'And', 'day', 'had', 'broken', 'on', 'the', 'streets', 'e', \"'\", 'er', 'it', 'broke', 'upon', 'the', 'brain', '.'], ['Between', 'us', ',', 'by', 'the', 'peace', 'of', 'God', ',', 'such', 'truth', 'can', 'now', 'be', 'told', ';', 'Yea', ',', 'there', 'is', 'strength', 'in', 'striking', 'root', 'and', 'good', 'in', 'growing', 'old', '.'], ['We', 'have', 'found', 'common', 'things', 'at', 'last', 'and', 'marriage', 'and', 'a', 'creed', ',', 'And', 'I', 'may', 'safely', 'write', 'it', 'now', ',', 'and', 'you', 'may', 'safely', 'read', '.'], ['G', '.', 'K', '.', 'C', '.'], ['CHAPTER', 'I'], ['THE', 'TWO', 'POETS', 'OF', 'SAFFRON', 'PARK'], ['THE', 'suburb', 'of', 'Saffron', 'Park', 'lay', 'on', 'the', 'sunset', 'side', 'of', 'London', ',', 'as', 'red', 'and', 'ragged', 'as', 'a', 'cloud', 'of', 'sunset', '.'], ['It', 'was', 'built', 'of', 'a', 'bright', 'brick', 'throughout', ';', 'its', 'sky', '-', 'line', 'was', 'fantastic', ',', 'and', 'even', 'its', 'ground', 'plan', 'was', 'wild', '.'], ['It', 'had', 'been', 'the', 'outburst', 'of', 'a', 'speculative', 'builder', ',', 'faintly', 'tinged', 'with', 'art', ',', 'who', 'called', 'its', 'architecture', 'sometimes', 'Elizabethan', 'and', 'sometimes', 'Queen', 'Anne', ',', 'apparently', 'under', 'the', 'impression', 'that', 'the', 'two', 'sovereigns', 'were', 'identical', '.'], ['It', 'was', 'described', 'with', 'some', 'justice', 'as', 'an', 'artistic', 'colony', ',', 'though', 'it', 'never', 'in', 'any', 'definable', 'way', 'produced', 'any', 'art', '.'], ['But', 'although', 'its', 'pretensions', 'to', 'be', 'an', 'intellectual', 'centre', 'were', 'a', 'little', 'vague', ',', 'its', 'pretensions', 'to', 'be', 'a', 'pleasant', 'place', 'were', 'quite', 'indisputable', '.'], ['The', 'stranger', 'who', 'looked', 'for', 'the', 'first', 'time', 'at', 'the', 'quaint', 'red', 'houses', 'could', 'only', 'think', 'how', 'very', 'oddly', 'shaped', 'the', 'people', 'must', 'be', 'who', 'could', 'fit', 'in', 'to', 'them', '.'], ['Nor', 'when', 'he', 'met', 'the', 'people', 'was', 'he', 'disappointed', 'in', 'this', 'respect', '.'], ['The', 'place', 'was', 'not', 'only', 'pleasant', ',', 'but', 'perfect', ',', 'if', 'once', 'he', 'could', 'regard', 'it', 'not', 'as', 'a', 'deception', 'but', 'rather', 'as', 'a', 'dream', '.'], ['Even', 'if', 'the', 'people', 'were', 'not', '\"', 'artists', ',\"', 'the', 'whole', 'was', 'nevertheless', 'artistic', '.'], ['That', 'young', 'man', 'with', 'the', 'long', ',', 'auburn', 'hair', 'and', 'the', 'impudent', 'face', '--', 'that', 'young', 'man', 'was', 'not', 'really', 'a', 'poet', ';', 'but', 'surely', 'he', 'was', 'a', 'poem', '.'], ['That', 'old', 'gentleman', 'with', 'the', 'wild', ',', 'white', 'beard', 'and', 'the', 'wild', ',', 'white', 'hat', '--', 'that', 'venerable', 'humbug', 'was', 'not', 'really', 'a', 'philosopher', ';', 'but', 'at', 'least', 'he', 'was', 'the', 'cause', 'of', 'philosophy', 'in', 'others', '.'], ['That', 'scientific', 'gentleman', 'with', 'the', 'bald', ',', 'egg', '-', 'like', 'head', 'and', 'the', 'bare', ',', 'bird', '-', 'like', 'neck', 'had', 'no', 'real', 'right', 'to', 'the', 'airs', 'of', 'science', 'that', 'he', 'assumed', '.'], ['He', 'had', 'not', 'discovered', 'anything', 'new', 'in', 'biology', ';', 'but', 'what', 'biological', 'creature', 'could', 'he', 'have', 'discovered', 'more', 'singular', 'than', 'himself', '?'], ['Thus', ',', 'and', 'thus', 'only', ',', 'the', 'whole', 'place', 'had', 'properly', 'to', 'be', 'regarded', ';', 'it', 'had', 'to', 'be', 'considered', 'not', 'so', 'much', 'as', 'a', 'workshop', 'for', 'artists', ',', 'but', 'as', 'a', 'frail', 'but', 'finished', 'work', 'of', 'art', '.'], ['A', 'man', 'who', 'stepped', 'into', 'its', 'social', 'atmosphere', 'felt', 'as', 'if', 'he', 'had', 'stepped', 'into', 'a', 'written', 'comedy', '.'], ['More', 'especially', 'this', 'attractive', 'unreality', 'fell', 'upon', 'it', 'about', 'nightfall', ',', 'when', 'the', 'extravagant', 'roofs', 'were', 'dark', 'against', 'the', 'afterglow', 'and', 'the', 'whole', 'insane', 'village', 'seemed', 'as', 'separate', 'as', 'a', 'drifting', 'cloud', '.'], ['This', 'again', 'was', 'more', 'strongly', 'true', 'of', 'the', 'many', 'nights', 'of', 'local', 'festivity', ',', 'when', 'the', 'little', 'gardens', 'were', 'often', 'illuminated', ',', 'and', 'the', 'big', 'Chinese', 'lanterns', 'glowed', 'in', 'the', 'dwarfish', 'trees', 'like', 'some', 'fierce', 'and', 'monstrous', 'fruit', '.'], ['And', 'this', 'was', 'strongest', 'of', 'all', 'on', 'one', 'particular', 'evening', ',', 'still', 'vaguely', 'remembered', 'in', 'the', 'locality', ',', 'of', 'which', 'the', 'auburn', '-', 'haired', 'poet', 'was', 'the', 'hero', '.'], ['It', 'was', 'not', 'by', 'any', 'means', 'the', 'only', 'evening', 'of', 'which', 'he', 'was', 'the', 'hero', '.'], ['On', 'many', 'nights', 'those', 'passing', 'by', 'his', 'little', 'back', 'garden', 'might', 'hear', 'his', 'high', ',', 'didactic', 'voice', 'laying', 'down', 'the', 'law', 'to', 'men', 'and', 'particularly', 'to', 'women', '.'], ['The', 'attitude', 'of', 'women', 'in', 'such', 'cases', 'was', 'indeed', 'one', 'of', 'the', 'paradoxes', 'of', 'the', 'place', '.'], ['Most', 'of', 'the', 'women', 'were', 'of', 'the', 'kind', 'vaguely', 'called', 'emancipated', ',', 'and', 'professed', 'some', 'protest', 'against', 'male', 'supremacy', '.'], ['Yet', 'these', 'new', 'women', 'would', 'always', 'pay', 'to', 'a', 'man', 'the', 'extravagant', 'compliment', 'which', 'no', 'ordinary', 'woman', 'ever', 'pays', 'to', 'him', ',', 'that', 'of', 'listening', 'while', 'he', 'is', 'talking', '.'], ['And', 'Mr', '.', 'Lucian', 'Gregory', ',', 'the', 'red', '-', 'haired', 'poet', ',', 'was', 'really', '(', 'in', 'some', 'sense', ')', 'a', 'man', 'worth', 'listening', 'to', ',', 'even', 'if', 'one', 'only', 'laughed', 'at', 'the', 'end', 'of', 'it', '.'], ['He', 'put', 'the', 'old', 'cant', 'of', 'the', 'lawlessness', 'of', 'art', 'and', 'the', 'art', 'of', 'lawlessness', 'with', 'a', 'certain', 'impudent', 'freshness', 'which', 'gave', 'at', 'least', 'a', 'momentary', 'pleasure', '.'], ['He', 'was', 'helped', 'in', 'some', 'degree', 'by', 'the', 'arresting', 'oddity', 'of', 'his', 'appearance', ',', 'which', 'he', 'worked', ',', 'as', 'the', 'phrase', 'goes', ',', 'for', 'all', 'it', 'was', 'worth', '.'], ['His', 'dark', 'red', 'hair', 'parted', 'in', 'the', 'middle', 'was', 'literally', 'like', 'a', 'woman', \"'\", 's', ',', 'and', 'curved', 'into', 'the', 'slow', 'curls', 'of', 'a', 'virgin', 'in', 'a', 'pre', '-', 'Raphaelite', 'picture', '.'], ['From', 'within', 'this', 'almost', 'saintly', 'oval', ',', 'however', ',', 'his', 'face', 'projected', 'suddenly', 'broad', 'and', 'brutal', ',', 'the', 'chin', 'carried', 'forward', 'with', 'a', 'look', 'of', 'cockney', 'contempt', '.']]\n",
      "[['[', 'The', 'Parent', \"'\", 's', 'Assistant', ',', 'by', 'Maria', 'Edgeworth', ']'], ['THE', 'ORPHANS', '.'], ['Near', 'the', 'ruins', 'of', 'the', 'castle', 'of', 'Rossmore', ',', 'in', 'Ireland', ',', 'is', 'a', 'small', 'cabin', ',', 'in', 'which', 'there', 'once', 'lived', 'a', 'widow', 'and', 'her', 'four', 'children', '.'], ['As', 'long', 'as', 'she', 'was', 'able', 'to', 'work', ',', 'she', 'was', 'very', 'industrious', ',', 'and', 'was', 'accounted', 'the', 'best', 'spinner', 'in', 'the', 'parish', ';', 'but', 'she', 'overworked', 'herself', 'at', 'last', ',', 'and', 'fell', 'ill', ',', 'so', 'that', 'she', 'could', 'not', 'sit', 'to', 'her', 'wheel', 'as', 'she', 'used', 'to', 'do', ',', 'and', 'was', 'obliged', 'to', 'give', 'it', 'up', 'to', 'her', 'eldest', 'daughter', ',', 'Mary', '.'], ['Mary', 'was', 'at', 'this', 'time', 'about', 'twelve', 'years', 'old', '.'], ['One', 'evening', 'she', 'was', 'sitting', 'at', 'the', 'foot', 'of', 'her', 'mother', \"'\", 's', 'bed', 'spinning', ',', 'and', 'her', 'little', 'brothers', 'and', 'sisters', 'were', 'gathered', 'round', 'the', 'fire', 'eating', 'their', 'potatoes', 'and', 'milk', 'for', 'supper', '.'], ['\"', 'Bless', 'them', ',', 'the', 'poor', 'young', 'creatures', '!\"'], ['said', 'the', 'widow', ',', 'who', ',', 'as', 'she', 'lay', 'on', 'her', 'bed', ',', 'which', 'she', 'knew', 'must', 'be', 'her', 'deathbed', ',', 'was', 'thinking', 'of', 'what', 'would', 'become', 'of', 'her', 'children', 'after', 'she', 'was', 'gone', '.'], ['Mary', 'stopped', 'her', 'wheel', ',', 'for', 'she', 'was', 'afraid', 'that', 'the', 'noise', 'of', 'it', 'had', 'wakened', 'her', 'mother', ',', 'and', 'would', 'hinder', 'her', 'from', 'going', 'to', 'sleep', 'again', '.'], ['\"', 'No', 'need', 'to', 'stop', 'the', 'wheel', ',', 'Mary', ',', 'dear', ',', 'for', 'me', ',\"', 'said', 'her', 'mother', ',', '\"', 'I', 'was', 'not', 'asleep', ';', 'nor', 'is', 'it', 'THAT', 'which', 'keeps', 'me', 'from', 'sleep', '.'], ['But', 'don', \"'\", 't', 'overwork', 'yourself', ',', 'Mary', '.\"'], ['\"', 'Oh', ',', 'no', 'fear', 'of', 'that', ',\"', 'replied', 'Mary', ';', '\"', 'I', \"'\", 'm', 'strong', 'and', 'hearty', '.\"'], ['\"', 'So', 'was', 'I', 'once', ',\"', 'said', 'her', 'mother', '.'], ['\"', 'And', 'so', 'you', 'will', 'be', 'again', ',', 'I', 'hope', ',\"', 'said', 'Mary', ',', '\"', 'when', 'the', 'fine', 'weather', 'comes', 'again', '.\"'], ['\"', 'The', 'fine', 'weather', 'will', 'never', 'come', 'again', 'to', 'me', ',\"', 'said', 'her', 'mother', '.'], ['\"\\'', 'Tis', 'a', 'folly', ',', 'Mary', ',', 'to', 'hope', 'for', 'that', ';', 'but', 'what', 'I', 'hope', 'is', ',', 'that', 'you', \"'\", 'll', 'find', 'some', 'friend', '--', 'some', 'help', '--', 'orphans', 'as', 'you', \"'\", 'll', 'soon', 'all', 'of', 'you', 'be', '.'], ['And', 'one', 'thing', 'comforts', 'my', 'heart', ',', 'even', 'as', 'I', 'AM', 'lying', 'here', ',', 'that', 'not', 'a', 'soul', 'in', 'the', 'wide', 'world', 'I', 'am', 'leaving', 'has', 'to', 'complain', 'of', 'me', '.'], ['Though', 'poor', 'I', 'have', 'lived', 'honest', ',', 'and', 'I', 'have', 'brought', 'you', 'up', 'to', 'be', 'the', 'same', ',', 'Mary', ';', 'and', 'I', 'am', 'sure', 'the', 'little', 'ones', 'will', 'take', 'after', 'you', ';', 'for', 'you', \"'\", 'll', 'be', 'good', 'to', 'them', '--', 'as', 'good', 'to', 'them', 'as', 'you', 'can', '.\"'], ['Here', 'the', 'children', ',', 'who', 'had', 'finished', 'eating', 'their', 'suppers', ',', 'came', 'round', 'the', 'bed', ',', 'to', 'listen', 'to', 'what', 'their', 'mother', 'was', 'saying', '.'], ['She', 'was', 'tired', 'of', 'speaking', ',', 'for', 'she', 'was', 'very', 'weak', ';', 'but', 'she', 'took', 'their', 'little', 'hands', ',', 'as', 'they', 'laid', 'them', 'on', 'the', 'bed', 'and', 'joining', 'them', 'all', 'together', ',', 'she', 'said', ',', '\"', 'Bless', 'you', ',', 'dears', ';', 'bless', 'you', ';', 'love', 'and', 'help', 'one', 'another', 'all', 'you', 'can', '.'], ['Good', 'night', '!--', 'good', '-', 'bye', '!\"'], ['Mary', 'took', 'the', 'children', 'away', 'to', 'their', 'bed', ',', 'for', 'she', 'saw', 'that', 'their', 'mother', 'was', 'too', 'ill', 'to', 'say', 'more', ';', 'but', 'Mary', 'did', 'not', 'herself', 'know', 'how', 'ill', 'she', 'was', '.'], ['Her', 'mother', 'never', 'spoke', 'rightly', 'afterwards', ',', 'but', 'talked', 'in', 'a', 'confused', 'way', 'about', 'some', 'debts', ',', 'and', 'one', 'in', 'particular', ',', 'which', 'she', 'owed', 'to', 'a', 'schoolmistress', 'for', 'Mary', \"'\", 's', 'schooling', ';', 'and', 'then', 'she', 'charged', 'Mary', 'to', 'go', 'and', 'pay', 'it', ',', 'because', 'she', 'was', 'not', 'able', 'to', 'GO', 'IN', 'with', 'it', '.'], ['At', 'the', 'end', 'of', 'the', 'week', 'she', 'was', 'dead', 'and', 'buried', ',', 'and', 'the', 'orphans', 'were', 'left', 'alone', 'in', 'their', 'cabin', '.'], ['The', 'two', 'youngest', 'girls', ',', 'Peggy', 'and', 'Nancy', ',', 'were', 'six', 'and', 'seven', 'years', 'old', '.'], ['Edmund', 'was', 'not', 'yet', 'nine', ',', 'but', 'he', 'was', 'a', 'stout', '-', 'grown', ',', 'healthy', 'boy', ',', 'and', 'well', 'disposed', 'to', 'work', '.'], ['He', 'had', 'been', 'used', 'to', 'bring', 'home', 'turf', 'from', 'the', 'bog', 'on', 'his', 'back', ',', 'to', 'lead', 'cart', '-', 'horses', ',', 'and', 'often', 'to', 'go', 'on', 'errands', 'for', 'gentlemen', \"'\", 's', 'families', ',', 'who', 'paid', 'him', 'a', 'sixpence', 'or', 'a', 'shilling', ',', 'according', 'to', 'the', 'distance', 'which', 'he', 'went', ',', 'so', 'that', 'Edmund', ',', 'by', 'some', 'or', 'other', 'of', 'these', 'little', 'employments', ',', 'was', ',', 'as', 'he', 'said', ',', 'likely', 'enough', 'to', 'earn', 'his', 'bread', ';', 'and', 'he', 'told', 'Mary', 'to', 'have', 'a', 'good', 'heart', ',', 'for', 'that', 'he', 'should', 'every', 'year', 'grow', 'able', 'to', 'do', 'more', 'and', 'more', ',', 'and', 'that', 'he', 'should', 'never', 'forget', 'his', 'mother', \"'\", 's', 'words', 'when', 'she', 'last', 'gave', 'him', 'her', 'blessing', ',', 'and', 'joined', 'their', 'hands', 'all', 'together', '.'], ['As', 'for', 'Peggy', 'and', 'Nancy', ',', 'it', 'was', 'little', 'that', 'they', 'could', 'do', ';', 'but', 'they', 'were', 'good', 'children', ',', 'and', 'Mary', ',', 'when', 'she', 'considered', 'that', 'so', 'much', 'depended', 'upon', 'her', ',', 'was', 'resolved', 'to', 'exert', 'herself', 'to', 'the', 'utmost', '.'], ['Her', 'first', 'care', 'was', 'to', 'pay', 'those', 'debts', 'which', 'her', 'mother', 'had', 'mentioned', 'to', 'her', ',', 'for', 'which', 'she', 'left', 'money', 'done', 'up', 'carefully', 'in', 'separate', 'papers', '.'], ['When', 'all', 'these', 'were', 'paid', 'away', ',', 'there', 'was', 'not', 'enough', 'left', 'to', 'pay', 'both', 'the', 'rent', 'of', 'the', 'cabin', 'and', 'a', 'year', \"'\", 's', 'schooling', 'for', 'herself', 'and', 'sisters', 'which', 'was', 'due', 'to', 'the', 'schoolmistress', 'in', 'a', 'neighbouring', 'village', '.'], ['Mary', 'was', 'in', 'hopes', 'that', 'the', 'rent', 'would', 'not', 'be', 'called', 'for', 'immediately', ',', 'but', 'in', 'this', 'she', 'was', 'disappointed', '.'], ['Mr', '.', 'Harvey', ',', 'the', 'gentleman', 'on', 'whose', 'estate', 'she', 'lived', ',', 'was', 'in', 'England', ',', 'and', ',', 'in', 'his', 'absence', ',', 'all', 'was', 'managed', 'by', 'a', 'Mr', '.', 'Hopkins', ',', 'an', 'agent', ',', 'who', 'was', 'a', 'HARD', 'MAN', '.'], ['*', 'The', 'driver', 'came', 'to', 'Mary', 'about', 'a', 'week', 'after', 'her', 'mother', \"'\", 's', 'death', ',', 'and', 'told', 'her', 'that', 'the', 'rent', 'must', 'be', 'brought', 'in', 'the', 'next', 'day', ',', 'and', 'that', 'she', 'must', 'leave', 'the', 'cabin', ',', 'for', 'a', 'new', 'tenant', 'was', 'coming', 'into', 'it', ';', 'that', 'she', 'was', 'too', 'young', 'to', 'have', 'a', 'house', 'to', 'herself', ',', 'and', 'that', 'the', 'only', 'thing', 'she', 'had', 'to', 'do', 'was', 'to', 'get', 'some', 'neighbour', 'to', 'take', 'her', 'and', 'her', 'brother', 'and', 'her', 'sisters', 'in', 'for', 'charity', \"'\", 's', 'sake', '.'], ['*', 'A', 'hard', '-', 'hearted', 'man', '.'], ['The', 'driver', 'finished', 'by', 'hinting', 'that', 'she', 'would', 'not', 'be', 'so', 'hardly', 'used', 'if', 'she', 'had', 'not', 'brought', 'upon', 'herself', 'the', 'ill', '-', 'will', 'of', 'Miss', 'Alice', ',', 'the', 'agent', \"'\", 's', 'daughter', '.'], ['Mary', ',', 'it', 'is', 'true', ',', 'had', 'refused', 'to', 'give', 'Miss', 'Alice', 'a', 'goat', 'upon', 'which', 'she', 'had', 'set', 'her', 'fancy', ';', 'but', 'this', 'was', 'the', 'only', 'offence', 'of', 'which', 'she', 'had', 'been', 'guilty', ',', 'and', 'at', 'the', 'time', 'she', 'refused', 'it', 'her', 'mother', 'wanted', 'the', 'goat', \"'\", 's', 'milk', ',', 'which', 'was', 'the', 'only', 'thing', 'she', 'then', 'liked', 'to', 'drink', '.'], ['Mary', 'went', 'immediately', 'to', 'Mr', '.', 'Hopkins', ',', 'the', 'agent', ',', 'to', 'pay', 'her', 'rent', ';', 'and', 'she', 'begged', 'of', 'him', 'to', 'let', 'her', 'stay', 'another', 'year', 'in', 'her', 'cabin', ';', 'but', 'this', 'he', 'refused', '.'], ['It', 'was', 'now', 'September', '25th', ',', 'and', 'he', 'said', 'that', 'the', 'new', 'tenant', 'must', 'come', 'in', 'on', 'the', '29th', ',', 'so', 'that', 'she', 'must', 'quit', 'it', 'directly', '.'], ['Mary', 'could', 'not', 'bear', 'the', 'thoughts', 'of', 'begging', 'any', 'of', 'the', 'neighbours', 'to', 'take', 'her', 'and', 'her', 'brother', 'and', 'sisters', 'in', 'FOR', 'CHARITY', \"'\", 'S', 'SAKE', ';', 'for', 'the', 'neighbours', 'were', 'all', 'poor', 'enough', 'themselves', '.'], ['So', 'she', 'bethought', 'herself', 'that', 'she', 'might', 'find', 'shelter', 'in', 'the', 'ruins', 'of', 'the', 'old', 'castle', 'of', 'Rossmore', 'where', 'she', 'and', 'her', 'brother', ',', 'in', 'better', 'times', ',', 'had', 'often', 'played', 'at', 'hide', 'and', 'seek', '.'], ['The', 'kitchen', 'and', 'two', 'other', 'rooms', 'near', 'it', 'were', 'yet', 'covered', 'in', 'tolerably', 'well', ';', 'and', 'a', 'little', 'thatch', ',', 'she', 'thought', ',', 'would', 'make', 'them', 'comfortable', 'through', 'the', 'winter', '.'], ['The', 'agent', 'consented', 'to', 'let', 'her', 'and', 'her', 'brother', 'and', 'sisters', 'go', 'in', 'there', ',', 'upon', 'her', 'paying', 'him', 'half', 'a', 'guinea', 'in', 'hand', ',', 'and', 'promising', 'to', 'pay', 'the', 'same', 'yearly', '.'], ['Into', 'these', 'lodgings', 'the', 'orphans', 'now', 'removed', ',', 'taking', 'with', 'them', 'two', 'bedsteads', ',', 'a', 'stool', ',', 'chair', 'and', 'a', 'table', ',', 'a', 'sort', 'of', 'press', ',', 'which', 'contained', 'what', 'little', 'clothes', 'they', 'had', ',', 'and', 'a', 'chest', 'in', 'which', 'they', 'had', 'two', 'hundred', 'of', 'meal', '.'], ['The', 'chest', 'was', 'carried', 'for', 'them', 'by', 'some', 'of', 'the', 'charitable', 'neighbours', ',', 'who', 'likewise', 'added', 'to', 'their', 'scanty', 'stock', 'of', 'potatoes', 'and', 'turf', 'what', 'would', 'make', 'it', 'last', 'through', 'the', 'winter', '.'], ['These', 'children', 'were', 'well', 'thought', 'of', 'and', 'pitied', ',', 'because', 'their', 'mother', 'was', 'known', 'to', 'have', 'been', 'all', 'her', 'life', 'honest', 'and', 'industrious', '.'], ['\"', 'Sure', ',\"', 'says', 'one', 'of', 'the', 'neighbours', ',', '\"', 'we', 'can', 'do', 'no', 'less', 'than', 'give', 'a', 'helping', 'hand', 'to', 'the', 'poor', 'orphans', ',', 'that', 'are', 'so', 'ready', 'to', 'help', 'themselves', '.\"'], ['So', 'one', 'helped', 'to', 'thatch', 'the', 'room', 'in', 'which', 'they', 'were', 'to', 'sleep', ',', 'and', 'another', 'took', 'their', 'cow', 'to', 'graze', 'upon', 'his', 'bit', 'of', 'land', 'on', 'condition', 'of', 'having', 'half', 'the', 'milk', ';', 'and', 'one', 'and', 'all', 'said', 'they', 'should', 'be', 'welcome', 'to', 'take', 'share', 'of', 'their', 'potatoes', 'and', 'buttermilk', 'if', 'they', 'should', 'find', 'their', 'own', 'ever', 'fall', 'short', '.'], ['The', 'half', '-', 'guinea', 'which', 'Mr', '.', 'Hopkins', ',', 'the', 'agent', ',', 'required', 'for', 'letting', 'Mary', 'into', 'the', 'castle', ',', 'was', 'part', 'of', 'what', 'she', 'had', 'to', 'pay', 'to', 'the', 'schoolmistress', ',', 'to', 'whom', 'above', 'a', 'guinea', 'was', 'due', '.'], ['Mary', 'went', 'to', 'her', ',', 'and', 'took', 'her', 'goat', 'along', 'with', 'her', ',', 'and', 'offered', 'it', 'in', 'part', 'of', 'payment', 'of', 'the', 'debt', ',', 'but', 'the', 'schoolmistress', 'would', 'not', 'receive', 'the', 'goat', '.'], ['She', 'said', 'that', 'she', 'could', 'afford', 'to', 'wait', 'for', 'her', 'money', 'till', 'Mary', 'was', 'able', 'to', 'pay', 'it', ';', 'that', 'she', 'knew', 'her', 'to', 'be', 'an', 'honest', ',', 'industrious', 'little', 'girl', ',', 'and', 'she', 'would', 'trust', 'her', 'with', 'more', 'than', 'a', 'guinea', '.']]\n",
      "[['[', 'Moby', 'Dick', 'by', 'Herman', 'Melville', '1851', ']'], ['ETYMOLOGY', '.'], ['(', 'Supplied', 'by', 'a', 'Late', 'Consumptive', 'Usher', 'to', 'a', 'Grammar', 'School', ')'], ['The', 'pale', 'Usher', '--', 'threadbare', 'in', 'coat', ',', 'heart', ',', 'body', ',', 'and', 'brain', ';', 'I', 'see', 'him', 'now', '.'], ['He', 'was', 'ever', 'dusting', 'his', 'old', 'lexicons', 'and', 'grammars', ',', 'with', 'a', 'queer', 'handkerchief', ',', 'mockingly', 'embellished', 'with', 'all', 'the', 'gay', 'flags', 'of', 'all', 'the', 'known', 'nations', 'of', 'the', 'world', '.'], ['He', 'loved', 'to', 'dust', 'his', 'old', 'grammars', ';', 'it', 'somehow', 'mildly', 'reminded', 'him', 'of', 'his', 'mortality', '.'], ['\"', 'While', 'you', 'take', 'in', 'hand', 'to', 'school', 'others', ',', 'and', 'to', 'teach', 'them', 'by', 'what', 'name', 'a', 'whale', '-', 'fish', 'is', 'to', 'be', 'called', 'in', 'our', 'tongue', 'leaving', 'out', ',', 'through', 'ignorance', ',', 'the', 'letter', 'H', ',', 'which', 'almost', 'alone', 'maketh', 'the', 'signification', 'of', 'the', 'word', ',', 'you', 'deliver', 'that', 'which', 'is', 'not', 'true', '.\"'], ['--', 'HACKLUYT'], ['\"', 'WHALE', '.'], ['...', 'Sw', '.', 'and', 'Dan', '.'], ['HVAL', '.'], ['This', 'animal', 'is', 'named', 'from', 'roundness', 'or', 'rolling', ';', 'for', 'in', 'Dan', '.'], ['HVALT', 'is', 'arched', 'or', 'vaulted', '.\"'], ['--', 'WEBSTER', \"'\", 'S', 'DICTIONARY'], ['\"', 'WHALE', '.'], ['...'], ['It', 'is', 'more', 'immediately', 'from', 'the', 'Dut', '.'], ['and', 'Ger', '.'], ['WALLEN', ';', 'A', '.', 'S', '.', 'WALW', '-', 'IAN', ',', 'to', 'roll', ',', 'to', 'wallow', '.\"'], ['--', 'RICHARDSON', \"'\", 'S', 'DICTIONARY'], ['KETOS', ',', 'GREEK', '.'], ['CETUS', ',', 'LATIN', '.'], ['WHOEL', ',', 'ANGLO', '-', 'SAXON', '.'], ['HVALT', ',', 'DANISH', '.'], ['WAL', ',', 'DUTCH', '.'], ['HWAL', ',', 'SWEDISH', '.'], ['WHALE', ',', 'ICELANDIC', '.'], ['WHALE', ',', 'ENGLISH', '.'], ['BALEINE', ',', 'FRENCH', '.'], ['BALLENA', ',', 'SPANISH', '.'], ['PEKEE', '-', 'NUEE', '-', 'NUEE', ',', 'FEGEE', '.'], ['PEKEE', '-', 'NUEE', '-', 'NUEE', ',', 'ERROMANGOAN', '.'], ['EXTRACTS', '(', 'Supplied', 'by', 'a', 'Sub', '-', 'Sub', '-', 'Librarian', ').'], ['It', 'will', 'be', 'seen', 'that', 'this', 'mere', 'painstaking', 'burrower', 'and', 'grub', '-', 'worm', 'of', 'a', 'poor', 'devil', 'of', 'a', 'Sub', '-', 'Sub', 'appears', 'to', 'have', 'gone', 'through', 'the', 'long', 'Vaticans', 'and', 'street', '-', 'stalls', 'of', 'the', 'earth', ',', 'picking', 'up', 'whatever', 'random', 'allusions', 'to', 'whales', 'he', 'could', 'anyways', 'find', 'in', 'any', 'book', 'whatsoever', ',', 'sacred', 'or', 'profane', '.'], ['Therefore', 'you', 'must', 'not', ',', 'in', 'every', 'case', 'at', 'least', ',', 'take', 'the', 'higgledy', '-', 'piggledy', 'whale', 'statements', ',', 'however', 'authentic', ',', 'in', 'these', 'extracts', ',', 'for', 'veritable', 'gospel', 'cetology', '.'], ['Far', 'from', 'it', '.'], ['As', 'touching', 'the', 'ancient', 'authors', 'generally', ',', 'as', 'well', 'as', 'the', 'poets', 'here', 'appearing', ',', 'these', 'extracts', 'are', 'solely', 'valuable', 'or', 'entertaining', ',', 'as', 'affording', 'a', 'glancing', 'bird', \"'\", 's', 'eye', 'view', 'of', 'what', 'has', 'been', 'promiscuously', 'said', ',', 'thought', ',', 'fancied', ',', 'and', 'sung', 'of', 'Leviathan', ',', 'by', 'many', 'nations', 'and', 'generations', ',', 'including', 'our', 'own', '.'], ['So', 'fare', 'thee', 'well', ',', 'poor', 'devil', 'of', 'a', 'Sub', '-', 'Sub', ',', 'whose', 'commentator', 'I', 'am', '.'], ['Thou', 'belongest', 'to', 'that', 'hopeless', ',', 'sallow', 'tribe', 'which', 'no', 'wine', 'of', 'this', 'world', 'will', 'ever', 'warm', ';', 'and', 'for', 'whom', 'even', 'Pale', 'Sherry', 'would', 'be', 'too', 'rosy', '-', 'strong', ';', 'but', 'with', 'whom', 'one', 'sometimes', 'loves', 'to', 'sit', ',', 'and', 'feel', 'poor', '-', 'devilish', ',', 'too', ';', 'and', 'grow', 'convivial', 'upon', 'tears', ';', 'and', 'say', 'to', 'them', 'bluntly', ',', 'with', 'full', 'eyes', 'and', 'empty', 'glasses', ',', 'and', 'in', 'not', 'altogether', 'unpleasant', 'sadness', '--', 'Give', 'it', 'up', ',', 'Sub', '-', 'Subs', '!'], ['For', 'by', 'how', 'much', 'the', 'more', 'pains', 'ye', 'take', 'to', 'please', 'the', 'world', ',', 'by', 'so', 'much', 'the', 'more', 'shall', 'ye', 'for', 'ever', 'go', 'thankless', '!'], ['Would', 'that', 'I', 'could', 'clear', 'out', 'Hampton', 'Court', 'and', 'the', 'Tuileries', 'for', 'ye', '!'], ['But', 'gulp', 'down', 'your', 'tears', 'and', 'hie', 'aloft', 'to', 'the', 'royal', '-', 'mast', 'with', 'your', 'hearts', ';', 'for', 'your', 'friends', 'who', 'have', 'gone', 'before', 'are', 'clearing', 'out', 'the', 'seven', '-', 'storied', 'heavens', ',', 'and', 'making', 'refugees', 'of', 'long', '-', 'pampered', 'Gabriel', ',', 'Michael', ',', 'and', 'Raphael', ',', 'against', 'your', 'coming', '.'], ['Here', 'ye', 'strike', 'but', 'splintered', 'hearts', 'together', '--', 'there', ',', 'ye', 'shall', 'strike', 'unsplinterable', 'glasses', '!'], ['EXTRACTS', '.'], ['\"', 'And', 'God', 'created', 'great', 'whales', '.\"'], ['--', 'GENESIS', '.'], ['\"', 'Leviathan', 'maketh', 'a', 'path', 'to', 'shine', 'after', 'him', ';', 'One', 'would', 'think', 'the', 'deep', 'to', 'be', 'hoary', '.\"'], ['--', 'JOB', '.'], ['\"', 'Now', 'the', 'Lord', 'had', 'prepared', 'a', 'great', 'fish', 'to', 'swallow', 'up', 'Jonah', '.\"'], ['--', 'JONAH', '.']]\n"
     ]
    },
    {
     "name": "stdout",
     "output_type": "stream",
     "text": [
      "[['[', 'Paradise', 'Lost', 'by', 'John', 'Milton', '1667', ']'], ['Book', 'I'], ['Of', 'Man', \"'\", 's', 'first', 'disobedience', ',', 'and', 'the', 'fruit', 'Of', 'that', 'forbidden', 'tree', 'whose', 'mortal', 'taste', 'Brought', 'death', 'into', 'the', 'World', ',', 'and', 'all', 'our', 'woe', ',', 'With', 'loss', 'of', 'Eden', ',', 'till', 'one', 'greater', 'Man', 'Restore', 'us', ',', 'and', 'regain', 'the', 'blissful', 'seat', ',', 'Sing', ',', 'Heavenly', 'Muse', ',', 'that', ',', 'on', 'the', 'secret', 'top', 'Of', 'Oreb', ',', 'or', 'of', 'Sinai', ',', 'didst', 'inspire', 'That', 'shepherd', 'who', 'first', 'taught', 'the', 'chosen', 'seed', 'In', 'the', 'beginning', 'how', 'the', 'heavens', 'and', 'earth', 'Rose', 'out', 'of', 'Chaos', ':', 'or', ',', 'if', 'Sion', 'hill', 'Delight', 'thee', 'more', ',', 'and', 'Siloa', \"'\", 's', 'brook', 'that', 'flowed', 'Fast', 'by', 'the', 'oracle', 'of', 'God', ',', 'I', 'thence', 'Invoke', 'thy', 'aid', 'to', 'my', 'adventurous', 'song', ',', 'That', 'with', 'no', 'middle', 'flight', 'intends', 'to', 'soar', 'Above', 'th', \"'\", 'Aonian', 'mount', ',', 'while', 'it', 'pursues', 'Things', 'unattempted', 'yet', 'in', 'prose', 'or', 'rhyme', '.'], ['And', 'chiefly', 'thou', ',', 'O', 'Spirit', ',', 'that', 'dost', 'prefer', 'Before', 'all', 'temples', 'th', \"'\", 'upright', 'heart', 'and', 'pure', ',', 'Instruct', 'me', ',', 'for', 'thou', 'know', \"'\", 'st', ';', 'thou', 'from', 'the', 'first', 'Wast', 'present', ',', 'and', ',', 'with', 'mighty', 'wings', 'outspread', ',', 'Dove', '-', 'like', 'sat', \"'\", 'st', 'brooding', 'on', 'the', 'vast', 'Abyss', ',', 'And', 'mad', \"'\", 'st', 'it', 'pregnant', ':', 'what', 'in', 'me', 'is', 'dark', 'Illumine', ',', 'what', 'is', 'low', 'raise', 'and', 'support', ';', 'That', ',', 'to', 'the', 'height', 'of', 'this', 'great', 'argument', ',', 'I', 'may', 'assert', 'Eternal', 'Providence', ',', 'And', 'justify', 'the', 'ways', 'of', 'God', 'to', 'men', '.'], ['Say', 'first', '--', 'for', 'Heaven', 'hides', 'nothing', 'from', 'thy', 'view', ',', 'Nor', 'the', 'deep', 'tract', 'of', 'Hell', '--', 'say', 'first', 'what', 'cause', 'Moved', 'our', 'grand', 'parents', ',', 'in', 'that', 'happy', 'state', ',', 'Favoured', 'of', 'Heaven', 'so', 'highly', ',', 'to', 'fall', 'off', 'From', 'their', 'Creator', ',', 'and', 'transgress', 'his', 'will', 'For', 'one', 'restraint', ',', 'lords', 'of', 'the', 'World', 'besides', '.'], ['Who', 'first', 'seduced', 'them', 'to', 'that', 'foul', 'revolt', '?'], ['Th', \"'\", 'infernal', 'Serpent', ';', 'he', 'it', 'was', 'whose', 'guile', ',', 'Stirred', 'up', 'with', 'envy', 'and', 'revenge', ',', 'deceived', 'The', 'mother', 'of', 'mankind', ',', 'what', 'time', 'his', 'pride', 'Had', 'cast', 'him', 'out', 'from', 'Heaven', ',', 'with', 'all', 'his', 'host', 'Of', 'rebel', 'Angels', ',', 'by', 'whose', 'aid', ',', 'aspiring', 'To', 'set', 'himself', 'in', 'glory', 'above', 'his', 'peers', ',', 'He', 'trusted', 'to', 'have', 'equalled', 'the', 'Most', 'High', ',', 'If', 'he', 'opposed', ',', 'and', 'with', 'ambitious', 'aim', 'Against', 'the', 'throne', 'and', 'monarchy', 'of', 'God', ',', 'Raised', 'impious', 'war', 'in', 'Heaven', 'and', 'battle', 'proud', ',', 'With', 'vain', 'attempt', '.'], ['Him', 'the', 'Almighty', 'Power', 'Hurled', 'headlong', 'flaming', 'from', 'th', \"'\", 'ethereal', 'sky', ',', 'With', 'hideous', 'ruin', 'and', 'combustion', ',', 'down', 'To', 'bottomless', 'perdition', ',', 'there', 'to', 'dwell', 'In', 'adamantine', 'chains', 'and', 'penal', 'fire', ',', 'Who', 'durst', 'defy', 'th', \"'\", 'Omnipotent', 'to', 'arms', '.'], ['Nine', 'times', 'the', 'space', 'that', 'measures', 'day', 'and', 'night', 'To', 'mortal', 'men', ',', 'he', ',', 'with', 'his', 'horrid', 'crew', ',', 'Lay', 'vanquished', ',', 'rolling', 'in', 'the', 'fiery', 'gulf', ',', 'Confounded', ',', 'though', 'immortal', '.'], ['But', 'his', 'doom', 'Reserved', 'him', 'to', 'more', 'wrath', ';', 'for', 'now', 'the', 'thought', 'Both', 'of', 'lost', 'happiness', 'and', 'lasting', 'pain', 'Torments', 'him', ':', 'round', 'he', 'throws', 'his', 'baleful', 'eyes', ',', 'That', 'witnessed', 'huge', 'affliction', 'and', 'dismay', ',', 'Mixed', 'with', 'obdurate', 'pride', 'and', 'steadfast', 'hate', '.'], ['At', 'once', ',', 'as', 'far', 'as', 'Angels', 'ken', ',', 'he', 'views', 'The', 'dismal', 'situation', 'waste', 'and', 'wild', '.'], ['A', 'dungeon', 'horrible', ',', 'on', 'all', 'sides', 'round', ',', 'As', 'one', 'great', 'furnace', 'flamed', ';', 'yet', 'from', 'those', 'flames', 'No', 'light', ';', 'but', 'rather', 'darkness', 'visible', 'Served', 'only', 'to', 'discover', 'sights', 'of', 'woe', ',', 'Regions', 'of', 'sorrow', ',', 'doleful', 'shades', ',', 'where', 'peace', 'And', 'rest', 'can', 'never', 'dwell', ',', 'hope', 'never', 'comes', 'That', 'comes', 'to', 'all', ',', 'but', 'torture', 'without', 'end', 'Still', 'urges', ',', 'and', 'a', 'fiery', 'deluge', ',', 'fed', 'With', 'ever', '-', 'burning', 'sulphur', 'unconsumed', '.'], ['Such', 'place', 'Eternal', 'Justice', 'has', 'prepared', 'For', 'those', 'rebellious', ';', 'here', 'their', 'prison', 'ordained', 'In', 'utter', 'darkness', ',', 'and', 'their', 'portion', 'set', ',', 'As', 'far', 'removed', 'from', 'God', 'and', 'light', 'of', 'Heaven', 'As', 'from', 'the', 'centre', 'thrice', 'to', 'th', \"'\", 'utmost', 'pole', '.'], ['Oh', 'how', 'unlike', 'the', 'place', 'from', 'whence', 'they', 'fell', '!'], ['There', 'the', 'companions', 'of', 'his', 'fall', ',', 'o', \"'\", 'erwhelmed', 'With', 'floods', 'and', 'whirlwinds', 'of', 'tempestuous', 'fire', ',', 'He', 'soon', 'discerns', ';', 'and', ',', 'weltering', 'by', 'his', 'side', ',', 'One', 'next', 'himself', 'in', 'power', ',', 'and', 'next', 'in', 'crime', ',', 'Long', 'after', 'known', 'in', 'Palestine', ',', 'and', 'named', 'Beelzebub', '.'], ['To', 'whom', 'th', \"'\", 'Arch', '-', 'Enemy', ',', 'And', 'thence', 'in', 'Heaven', 'called', 'Satan', ',', 'with', 'bold', 'words', 'Breaking', 'the', 'horrid', 'silence', ',', 'thus', 'began', ':--', '\"', 'If', 'thou', 'beest', 'he', '--', 'but', 'O', 'how', 'fallen', '!'], ['how', 'changed', 'From', 'him', 'who', ',', 'in', 'the', 'happy', 'realms', 'of', 'light', 'Clothed', 'with', 'transcendent', 'brightness', ',', 'didst', 'outshine', 'Myriads', ',', 'though', 'bright', '!--', 'if', 'he', 'whom', 'mutual', 'league', ',', 'United', 'thoughts', 'and', 'counsels', ',', 'equal', 'hope', 'And', 'hazard', 'in', 'the', 'glorious', 'enterprise', 'Joined', 'with', 'me', 'once', ',', 'now', 'misery', 'hath', 'joined', 'In', 'equal', 'ruin', ';', 'into', 'what', 'pit', 'thou', 'seest', 'From', 'what', 'height', 'fallen', ':', 'so', 'much', 'the', 'stronger', 'proved', 'He', 'with', 'his', 'thunder', ';', 'and', 'till', 'then', 'who', 'knew', 'The', 'force', 'of', 'those', 'dire', 'arms', '?'], ['Yet', 'not', 'for', 'those', ',', 'Nor', 'what', 'the', 'potent', 'Victor', 'in', 'his', 'rage', 'Can', 'else', 'inflict', ',', 'do', 'I', 'repent', ',', 'or', 'change', ',', 'Though', 'changed', 'in', 'outward', 'lustre', ',', 'that', 'fixed', 'mind', ',', 'And', 'high', 'disdain', 'from', 'sense', 'of', 'injured', 'merit', ',', 'That', 'with', 'the', 'Mightiest', 'raised', 'me', 'to', 'contend', ',', 'And', 'to', 'the', 'fierce', 'contentions', 'brought', 'along', 'Innumerable', 'force', 'of', 'Spirits', 'armed', ',', 'That', 'durst', 'dislike', 'his', 'reign', ',', 'and', ',', 'me', 'preferring', ',', 'His', 'utmost', 'power', 'with', 'adverse', 'power', 'opposed', 'In', 'dubious', 'battle', 'on', 'the', 'plains', 'of', 'Heaven', ',', 'And', 'shook', 'his', 'throne', '.'], ['What', 'though', 'the', 'field', 'be', 'lost', '?'], ['All', 'is', 'not', 'lost', '--', 'the', 'unconquerable', 'will', ',', 'And', 'study', 'of', 'revenge', ',', 'immortal', 'hate', ',', 'And', 'courage', 'never', 'to', 'submit', 'or', 'yield', ':', 'And', 'what', 'is', 'else', 'not', 'to', 'be', 'overcome', '?'], ['That', 'glory', 'never', 'shall', 'his', 'wrath', 'or', 'might', 'Extort', 'from', 'me', '.'], ['To', 'bow', 'and', 'sue', 'for', 'grace', 'With', 'suppliant', 'knee', ',', 'and', 'deify', 'his', 'power', 'Who', ',', 'from', 'the', 'terror', 'of', 'this', 'arm', ',', 'so', 'late', 'Doubted', 'his', 'empire', '--', 'that', 'were', 'low', 'indeed', ';', 'That', 'were', 'an', 'ignominy', 'and', 'shame', 'beneath', 'This', 'downfall', ';', 'since', ',', 'by', 'fate', ',', 'the', 'strength', 'of', 'Gods', ',', 'And', 'this', 'empyreal', 'sybstance', ',', 'cannot', 'fail', ';', 'Since', ',', 'through', 'experience', 'of', 'this', 'great', 'event', ',', 'In', 'arms', 'not', 'worse', ',', 'in', 'foresight', 'much', 'advanced', ',', 'We', 'may', 'with', 'more', 'successful', 'hope', 'resolve', 'To', 'wage', 'by', 'force', 'or', 'guile', 'eternal', 'war', ',', 'Irreconcilable', 'to', 'our', 'grand', 'Foe', ',', 'Who', 'now', 'triumphs', ',', 'and', 'in', 'th', \"'\", 'excess', 'of', 'joy', 'Sole', 'reigning', 'holds', 'the', 'tyranny', 'of', 'Heaven', '.\"'], ['So', 'spake', 'th', \"'\", 'apostate', 'Angel', ',', 'though', 'in', 'pain', ',', 'Vaunting', 'aloud', ',', 'but', 'racked', 'with', 'deep', 'despair', ';', 'And', 'him', 'thus', 'answered', 'soon', 'his', 'bold', 'compeer', ':--', '\"', 'O', 'Prince', ',', 'O', 'Chief', 'of', 'many', 'throned', 'Powers', 'That', 'led', 'th', \"'\", 'embattled', 'Seraphim', 'to', 'war', 'Under', 'thy', 'conduct', ',', 'and', ',', 'in', 'dreadful', 'deeds', 'Fearless', ',', 'endangered', 'Heaven', \"'\", 's', 'perpetual', 'King', ',', 'And', 'put', 'to', 'proof', 'his', 'high', 'supremacy', ',', 'Whether', 'upheld', 'by', 'strength', ',', 'or', 'chance', ',', 'or', 'fate', ',', 'Too', 'well', 'I', 'see', 'and', 'rue', 'the', 'dire', 'event', 'That', ',', 'with', 'sad', 'overthrow', 'and', 'foul', 'defeat', ',', 'Hath', 'lost', 'us', 'Heaven', ',', 'and', 'all', 'this', 'mighty', 'host', 'In', 'horrible', 'destruction', 'laid', 'thus', 'low', ',', 'As', 'far', 'as', 'Gods', 'and', 'heavenly', 'Essences', 'Can', 'perish', ':', 'for', 'the', 'mind', 'and', 'spirit', 'remains', 'Invincible', ',', 'and', 'vigour', 'soon', 'returns', ',', 'Though', 'all', 'our', 'glory', 'extinct', ',', 'and', 'happy', 'state', 'Here', 'swallowed', 'up', 'in', 'endless', 'misery', '.'], ['But', 'what', 'if', 'he', 'our', 'Conqueror', '(', 'whom', 'I', 'now', 'Of', 'force', 'believe', 'almighty', ',', 'since', 'no', 'less', 'Than', 'such', 'could', 'have', 'o', \"'\", 'erpowered', 'such', 'force', 'as', 'ours', ')', 'Have', 'left', 'us', 'this', 'our', 'spirit', 'and', 'strength', 'entire', ',', 'Strongly', 'to', 'suffer', 'and', 'support', 'our', 'pains', ',', 'That', 'we', 'may', 'so', 'suffice', 'his', 'vengeful', 'ire', ',', 'Or', 'do', 'him', 'mightier', 'service', 'as', 'his', 'thralls', 'By', 'right', 'of', 'war', ',', 'whate', \"'\", 'er', 'his', 'business', 'be', ',', 'Here', 'in', 'the', 'heart', 'of', 'Hell', 'to', 'work', 'in', 'fire', ',', 'Or', 'do', 'his', 'errands', 'in', 'the', 'gloomy', 'Deep', '?'], ['What', 'can', 'it', 'the', 'avail', 'though', 'yet', 'we', 'feel', 'Strength', 'undiminished', ',', 'or', 'eternal', 'being', 'To', 'undergo', 'eternal', 'punishment', '?\"'], ['Whereto', 'with', 'speedy', 'words', 'th', \"'\", 'Arch', '-', 'Fiend', 'replied', ':--', '\"', 'Fallen', 'Cherub', ',', 'to', 'be', 'weak', 'is', 'miserable', ',', 'Doing', 'or', 'suffering', ':', 'but', 'of', 'this', 'be', 'sure', '--', 'To', 'do', 'aught', 'good', 'never', 'will', 'be', 'our', 'task', ',', 'But', 'ever', 'to', 'do', 'ill', 'our', 'sole', 'delight', ',', 'As', 'being', 'the', 'contrary', 'to', 'his', 'high', 'will', 'Whom', 'we', 'resist', '.'], ['If', 'then', 'his', 'providence', 'Out', 'of', 'our', 'evil', 'seek', 'to', 'bring', 'forth', 'good', ',', 'Our', 'labour', 'must', 'be', 'to', 'pervert', 'that', 'end', ',', 'And', 'out', 'of', 'good', 'still', 'to', 'find', 'means', 'of', 'evil', ';', 'Which', 'ofttimes', 'may', 'succeed', 'so', 'as', 'perhaps', 'Shall', 'grieve', 'him', ',', 'if', 'I', 'fail', 'not', ',', 'and', 'disturb', 'His', 'inmost', 'counsels', 'from', 'their', 'destined', 'aim', '.'], ['But', 'see', '!'], ['the', 'angry', 'Victor', 'hath', 'recalled', 'His', 'ministers', 'of', 'vengeance', 'and', 'pursuit', 'Back', 'to', 'the', 'gates', 'of', 'Heaven', ':', 'the', 'sulphurous', 'hail', ',', 'Shot', 'after', 'us', 'in', 'storm', ',', 'o', \"'\", 'erblown', 'hath', 'laid', 'The', 'fiery', 'surge', 'that', 'from', 'the', 'precipice', 'Of', 'Heaven', 'received', 'us', 'falling', ';', 'and', 'the', 'thunder', ',', 'Winged', 'with', 'red', 'lightning', 'and', 'impetuous', 'rage', ',', 'Perhaps', 'hath', 'spent', 'his', 'shafts', ',', 'and', 'ceases', 'now', 'To', 'bellow', 'through', 'the', 'vast', 'and', 'boundless', 'Deep', '.'], ['Let', 'us', 'not', 'slip', 'th', \"'\", 'occasion', ',', 'whether', 'scorn', 'Or', 'satiate', 'fury', 'yield', 'it', 'from', 'our', 'Foe', '.'], ['Seest', 'thou', 'yon', 'dreary', 'plain', ',', 'forlorn', 'and', 'wild', ',', 'The', 'seat', 'of', 'desolation', ',', 'void', 'of', 'light', ',', 'Save', 'what', 'the', 'glimmering', 'of', 'these', 'livid', 'flames', 'Casts', 'pale', 'and', 'dreadful', '?'], ['Thither', 'let', 'us', 'tend', 'From', 'off', 'the', 'tossing', 'of', 'these', 'fiery', 'waves', ';', 'There', 'rest', ',', 'if', 'any', 'rest', 'can', 'harbour', 'there', ';', 'And', ',', 're', '-', 'assembling', 'our', 'afflicted', 'powers', ',', 'Consult', 'how', 'we', 'may', 'henceforth', 'most', 'offend', 'Our', 'enemy', ',', 'our', 'own', 'loss', 'how', 'repair', ',', 'How', 'overcome', 'this', 'dire', 'calamity', ',', 'What', 'reinforcement', 'we', 'may', 'gain', 'from', 'hope', ',', 'If', 'not', ',', 'what', 'resolution', 'from', 'despair', '.\"'], ['Thus', 'Satan', ',', 'talking', 'to', 'his', 'nearest', 'mate', ',', 'With', 'head', 'uplift', 'above', 'the', 'wave', ',', 'and', 'eyes', 'That', 'sparkling', 'blazed', ';', 'his', 'other', 'parts', 'besides', 'Prone', 'on', 'the', 'flood', ',', 'extended', 'long', 'and', 'large', ',', 'Lay', 'floating', 'many', 'a', 'rood', ',', 'in', 'bulk', 'as', 'huge', 'As', 'whom', 'the', 'fables', 'name', 'of', 'monstrous', 'size', ',', 'Titanian', 'or', 'Earth', '-', 'born', ',', 'that', 'warred', 'on', 'Jove', ',', 'Briareos', 'or', 'Typhon', ',', 'whom', 'the', 'den', 'By', 'ancient', 'Tarsus', 'held', ',', 'or', 'that', 'sea', '-', 'beast', 'Leviathan', ',', 'which', 'God', 'of', 'all', 'his', 'works', 'Created', 'hugest', 'that', 'swim', 'th', \"'\", 'ocean', '-', 'stream', '.'], ['Him', ',', 'haply', 'slumbering', 'on', 'the', 'Norway', 'foam', ',', 'The', 'pilot', 'of', 'some', 'small', 'night', '-', 'foundered', 'skiff', ',', 'Deeming', 'some', 'island', ',', 'oft', ',', 'as', 'seamen', 'tell', ',', 'With', 'fixed', 'anchor', 'in', 'his', 'scaly', 'rind', ',', 'Moors', 'by', 'his', 'side', 'under', 'the', 'lee', ',', 'while', 'night', 'Invests', 'the', 'sea', ',', 'and', 'wished', 'morn', 'delays', '.'], ['So', 'stretched', 'out', 'huge', 'in', 'length', 'the', 'Arch', '-', 'fiend', 'lay', ',', 'Chained', 'on', 'the', 'burning', 'lake', ';', 'nor', 'ever', 'thence', 'Had', 'risen', ',', 'or', 'heaved', 'his', 'head', ',', 'but', 'that', 'the', 'will', 'And', 'high', 'permission', 'of', 'all', '-', 'ruling', 'Heaven', 'Left', 'him', 'at', 'large', 'to', 'his', 'own', 'dark', 'designs', ',', 'That', 'with', 'reiterated', 'crimes', 'he', 'might', 'Heap', 'on', 'himself', 'damnation', ',', 'while', 'he', 'sought', 'Evil', 'to', 'others', ',', 'and', 'enraged', 'might', 'see', 'How', 'all', 'his', 'malice', 'served', 'but', 'to', 'bring', 'forth', 'Infinite', 'goodness', ',', 'grace', ',', 'and', 'mercy', ',', 'shewn', 'On', 'Man', 'by', 'him', 'seduced', ',', 'but', 'on', 'himself', 'Treble', 'confusion', ',', 'wrath', ',', 'and', 'vengeance', 'poured', '.'], ['Forthwith', 'upright', 'he', 'rears', 'from', 'off', 'the', 'pool', 'His', 'mighty', 'stature', ';', 'on', 'each', 'hand', 'the', 'flames', 'Driven', 'backward', 'slope', 'their', 'pointing', 'spires', ',', 'and', ',', 'rolled', 'In', 'billows', ',', 'leave', 'i', \"'\", 'th', \"'\", 'midst', 'a', 'horrid', 'vale', '.'], ['Then', 'with', 'expanded', 'wings', 'he', 'steers', 'his', 'flight', 'Aloft', ',', 'incumbent', 'on', 'the', 'dusky', 'air', ',', 'That', 'felt', 'unusual', 'weight', ';', 'till', 'on', 'dry', 'land', 'He', 'lights', '--', 'if', 'it', 'were', 'land', 'that', 'ever', 'burned', 'With', 'solid', ',', 'as', 'the', 'lake', 'with', 'liquid', 'fire', ',', 'And', 'such', 'appeared', 'in', 'hue', 'as', 'when', 'the', 'force', 'Of', 'subterranean', 'wind', 'transprots', 'a', 'hill', 'Torn', 'from', 'Pelorus', ',', 'or', 'the', 'shattered', 'side', 'Of', 'thundering', 'Etna', ',', 'whose', 'combustible', 'And', 'fuelled', 'entrails', ',', 'thence', 'conceiving', 'fire', ',', 'Sublimed', 'with', 'mineral', 'fury', ',', 'aid', 'the', 'winds', ',', 'And', 'leave', 'a', 'singed', 'bottom', 'all', 'involved', 'With', 'stench', 'and', 'smoke', '.'], ['Such', 'resting', 'found', 'the', 'sole', 'Of', 'unblest', 'feet', '.'], ['Him', 'followed', 'his', 'next', 'mate', ';', 'Both', 'glorying', 'to', 'have', 'scaped', 'the', 'Stygian', 'flood', 'As', 'gods', ',', 'and', 'by', 'their', 'own', 'recovered', 'strength', ',', 'Not', 'by', 'the', 'sufferance', 'of', 'supernal', 'Power', '.'], ['\"', 'Is', 'this', 'the', 'region', ',', 'this', 'the', 'soil', ',', 'the', 'clime', ',\"', 'Said', 'then', 'the', 'lost', 'Archangel', ',', '\"', 'this', 'the', 'seat', 'That', 'we', 'must', 'change', 'for', 'Heaven', '?--', 'this', 'mournful', 'gloom', 'For', 'that', 'celestial', 'light', '?'], ['Be', 'it', 'so', ',', 'since', 'he', 'Who', 'now', 'is', 'sovereign', 'can', 'dispose', 'and', 'bid', 'What', 'shall', 'be', 'right', ':', 'farthest', 'from', 'him', 'is', 'best', 'Whom', 'reason', 'hath', 'equalled', ',', 'force', 'hath', 'made', 'supreme', 'Above', 'his', 'equals', '.'], ['Farewell', ',', 'happy', 'fields', ',', 'Where', 'joy', 'for', 'ever', 'dwells', '!'], ['Hail', ',', 'horrors', '!'], ['hail', ',', 'Infernal', 'world', '!'], ['and', 'thou', ',', 'profoundest', 'Hell', ',', 'Receive', 'thy', 'new', 'possessor', '--', 'one', 'who', 'brings', 'A', 'mind', 'not', 'to', 'be', 'changed', 'by', 'place', 'or', 'time', '.'], ['The', 'mind', 'is', 'its', 'own', 'place', ',', 'and', 'in', 'itself', 'Can', 'make', 'a', 'Heaven', 'of', 'Hell', ',', 'a', 'Hell', 'of', 'Heaven', '.'], ['What', 'matter', 'where', ',', 'if', 'I', 'be', 'still', 'the', 'same', ',', 'And', 'what', 'I', 'should', 'be', ',', 'all', 'but', 'less', 'than', 'he', 'Whom', 'thunder', 'hath', 'made', 'greater', '?'], ['Here', 'at', 'least', 'We', 'shall', 'be', 'free', ';', 'th', \"'\", 'Almighty', 'hath', 'not', 'built', 'Here', 'for', 'his', 'envy', ',', 'will', 'not', 'drive', 'us', 'hence', ':', 'Here', 'we', 'may', 'reigh', 'secure', ';', 'and', ',', 'in', 'my', 'choice', ',', 'To', 'reign', 'is', 'worth', 'ambition', ',', 'though', 'in', 'Hell', ':', 'Better', 'to', 'reign', 'in', 'Hell', 'than', 'serve', 'in', 'Heaven', '.'], ['But', 'wherefore', 'let', 'we', 'then', 'our', 'faithful', 'friends', ',', 'Th', \"'\", 'associates', 'and', 'co', '-', 'partners', 'of', 'our', 'loss', ',', 'Lie', 'thus', 'astonished', 'on', 'th', \"'\", 'oblivious', 'pool', ',', 'And', 'call', 'them', 'not', 'to', 'share', 'with', 'us', 'their', 'part', 'In', 'this', 'unhappy', 'mansion', ',', 'or', 'once', 'more', 'With', 'rallied', 'arms', 'to', 'try', 'what', 'may', 'be', 'yet', 'Regained', 'in', 'Heaven', ',', 'or', 'what', 'more', 'lost', 'in', 'Hell', '?\"'], ['So', 'Satan', 'spake', ';', 'and', 'him', 'Beelzebub', 'Thus', 'answered', ':--\"', 'Leader', 'of', 'those', 'armies', 'bright', 'Which', ',', 'but', 'th', \"'\", 'Omnipotent', ',', 'none', 'could', 'have', 'foiled', '!']]\n",
      "[['[', 'The', 'Tragedie', 'of', 'Julius', 'Caesar', 'by', 'William', 'Shakespeare', '1599', ']'], ['Actus', 'Primus', '.'], ['Scoena', 'Prima', '.'], ['Enter', 'Flauius', ',', 'Murellus', ',', 'and', 'certaine', 'Commoners', 'ouer', 'the', 'Stage', '.'], ['Flauius', '.'], ['Hence', ':', 'home', 'you', 'idle', 'Creatures', ',', 'get', 'you', 'home', ':', 'Is', 'this', 'a', 'Holiday', '?'], ['What', ',', 'know', 'you', 'not', '(', 'Being', 'Mechanicall', ')', 'you', 'ought', 'not', 'walke', 'Vpon', 'a', 'labouring', 'day', ',', 'without', 'the', 'signe', 'Of', 'your', 'Profession', '?'], ['Speake', ',', 'what', 'Trade', 'art', 'thou', '?'], ['Car', '.'], ['Why', 'Sir', ',', 'a', 'Carpenter'], ['Mur', '.'], ['Where', 'is', 'thy', 'Leather', 'Apron', ',', 'and', 'thy', 'Rule', '?'], ['What', 'dost', 'thou', 'with', 'thy', 'best', 'Apparrell', 'on', '?'], ['You', 'sir', ',', 'what', 'Trade', 'are', 'you', '?'], ['Cobl', '.'], ['Truely', 'Sir', ',', 'in', 'respect', 'of', 'a', 'fine', 'Workman', ',', 'I', 'am', 'but', 'as', 'you', 'would', 'say', ',', 'a', 'Cobler'], ['Mur', '.'], ['But', 'what', 'Trade', 'art', 'thou', '?'], ['Answer', 'me', 'directly'], ['Cob', '.'], ['A', 'Trade', 'Sir', ',', 'that', 'I', 'hope', 'I', 'may', 'vse', ',', 'with', 'a', 'safe', 'Conscience', ',', 'which', 'is', 'indeed', 'Sir', ',', 'a', 'Mender', 'of', 'bad', 'soules'], ['Fla', '.', 'What', 'Trade', 'thou', 'knaue', '?'], ['Thou', 'naughty', 'knaue', ',', 'what', 'Trade', '?'], ['Cobl', '.'], ['Nay', 'I', 'beseech', 'you', 'Sir', ',', 'be', 'not', 'out', 'with', 'me', ':', 'yet', 'if', 'you', 'be', 'out', 'Sir', ',', 'I', 'can', 'mend', 'you'], ['Mur', '.'], ['What', 'mean', \"'\", 'st', 'thou', 'by', 'that', '?'], ['Mend', 'mee', ',', 'thou', 'sawcy', 'Fellow', '?'], ['Cob', '.'], ['Why', 'sir', ',', 'Cobble', 'you'], ['Fla', '.', 'Thou', 'art', 'a', 'Cobler', ',', 'art', 'thou', '?'], ['Cob', '.'], ['Truly', 'sir', ',', 'all', 'that', 'I', 'liue', 'by', ',', 'is', 'with', 'the', 'Aule', ':', 'I', 'meddle', 'with', 'no', 'Tradesmans', 'matters', ',', 'nor', 'womens', 'matters', ';', 'but', 'withal', 'I', 'am', 'indeed', 'Sir', ',', 'a', 'Surgeon', 'to', 'old', 'shooes', ':', 'when', 'they', 'are', 'in', 'great', 'danger', ',', 'I', 'recouer', 'them', '.'], ['As', 'proper', 'men', 'as', 'euer', 'trod', 'vpon', 'Neats', 'Leather', ',', 'haue', 'gone', 'vpon', 'my', 'handy', '-', 'worke'], ['Fla', '.'], ['But', 'wherefore', 'art', 'not', 'in', 'thy', 'Shop', 'to', 'day', '?'], ['Why', 'do', \"'\", 'st', 'thou', 'leade', 'these', 'men', 'about', 'the', 'streets', '?'], ['Cob', '.'], ['Truly', 'sir', ',', 'to', 'weare', 'out', 'their', 'shooes', ',', 'to', 'get', 'my', 'selfe', 'into', 'more', 'worke', '.'], ['But', 'indeede', 'sir', ',', 'we', 'make', 'Holyday', 'to', 'see', 'Caesar', ',', 'and', 'to', 'reioyce', 'in', 'his', 'Triumph'], ['Mur', '.'], ['Wherefore', 'reioyce', '?'], ['What', 'Conquest', 'brings', 'he', 'home', '?'], ['What', 'Tributaries', 'follow', 'him', 'to', 'Rome', ',', 'To', 'grace', 'in', 'Captiue', 'bonds', 'his', 'Chariot', 'Wheeles', '?'], ['You', 'Blockes', ',', 'you', 'stones', ',', 'you', 'worse', 'then', 'senslesse', 'things', ':', 'O', 'you', 'hard', 'hearts', ',', 'you', 'cruell', 'men', 'of', 'Rome', ',', 'Knew', 'you', 'not', 'Pompey', 'many', 'a', 'time', 'and', 'oft', '?'], ['Haue', 'you', 'climb', \"'\", 'd', 'vp', 'to', 'Walles', 'and', 'Battlements', ',', 'To', 'Towres', 'and', 'Windowes', '?'], ['Yea', ',', 'to', 'Chimney', 'tops', ',', 'Your', 'Infants', 'in', 'your', 'Armes', ',', 'and', 'there', 'haue', 'sate', 'The', 'liue', '-', 'long', 'day', ',', 'with', 'patient', 'expectation', ',', 'To', 'see', 'great', 'Pompey', 'passe', 'the', 'streets', 'of', 'Rome', ':', 'And', 'when', 'you', 'saw', 'his', 'Chariot', 'but', 'appeare', ',', 'Haue', 'you', 'not', 'made', 'an', 'Vniuersall', 'shout', ',', 'That', 'Tyber', 'trembled', 'vnderneath', 'her', 'bankes', 'To', 'heare', 'the', 'replication', 'of', 'your', 'sounds', ',', 'Made', 'in', 'her', 'Concaue', 'Shores', '?'], ['And', 'do', 'you', 'now', 'put', 'on', 'your', 'best', 'attyre', '?'], ['And', 'do', 'you', 'now', 'cull', 'out', 'a', 'Holyday', '?'], ['And', 'do', 'you', 'now', 'strew', 'Flowers', 'in', 'his', 'way', ',', 'That', 'comes', 'in', 'Triumph', 'ouer', 'Pompeyes', 'blood', '?']]\n",
      "[['[', 'The', 'Tragedie', 'of', 'Hamlet', 'by', 'William', 'Shakespeare', '1599', ']'], ['Actus', 'Primus', '.'], ['Scoena', 'Prima', '.'], ['Enter', 'Barnardo', 'and', 'Francisco', 'two', 'Centinels', '.'], ['Barnardo', '.'], ['Who', \"'\", 's', 'there', '?'], ['Fran', '.'], ['Nay', 'answer', 'me', ':', 'Stand', '&', 'vnfold', 'your', 'selfe'], ['Bar', '.'], ['Long', 'liue', 'the', 'King'], ['Fran', '.'], ['Barnardo', '?'], ['Bar', '.'], ['He'], ['Fran', '.'], ['You', 'come', 'most', 'carefully', 'vpon', 'your', 'houre'], ['Bar', '.'], [\"'\", 'Tis', 'now', 'strook', 'twelue', ',', 'get', 'thee', 'to', 'bed', 'Francisco'], ['Fran', '.'], ['For', 'this', 'releefe', 'much', 'thankes', ':', \"'\", 'Tis', 'bitter', 'cold', ',', 'And', 'I', 'am', 'sicke', 'at', 'heart'], ['Barn', '.'], ['Haue', 'you', 'had', 'quiet', 'Guard', '?'], ['Fran', '.'], ['Not', 'a', 'Mouse', 'stirring'], ['Barn', '.'], ['Well', ',', 'goodnight', '.'], ['If', 'you', 'do', 'meet', 'Horatio', 'and', 'Marcellus', ',', 'the', 'Riuals', 'of', 'my', 'Watch', ',', 'bid', 'them', 'make', 'hast', '.'], ['Enter', 'Horatio', 'and', 'Marcellus', '.'], ['Fran', '.'], ['I', 'thinke', 'I', 'heare', 'them', '.'], ['Stand', ':', 'who', \"'\", 's', 'there', '?'], ['Hor', '.'], ['Friends', 'to', 'this', 'ground'], ['Mar', '.'], ['And', 'Leige', '-', 'men', 'to', 'the', 'Dane'], ['Fran', '.'], ['Giue', 'you', 'good', 'night'], ['Mar', '.'], ['O', 'farwel', 'honest', 'Soldier', ',', 'who', 'hath', 'relieu', \"'\", 'd', 'you', '?'], ['Fra', '.'], ['Barnardo', 'ha', \"'\", 's', 'my', 'place', ':', 'giue', 'you', 'goodnight', '.'], ['Exit', 'Fran', '.'], ['Mar', '.'], ['Holla', 'Barnardo'], ['Bar', '.'], ['Say', ',', 'what', 'is', 'Horatio', 'there', '?'], ['Hor', '.'], ['A', 'peece', 'of', 'him'], ['Bar', '.'], ['Welcome', 'Horatio', ',', 'welcome', 'good', 'Marcellus']]\n",
      "[['[', 'The', 'Tragedie', 'of', 'Macbeth', 'by', 'William', 'Shakespeare', '1603', ']'], ['Actus', 'Primus', '.'], ['Scoena', 'Prima', '.'], ['Thunder', 'and', 'Lightning', '.'], ['Enter', 'three', 'Witches', '.'], ['1', '.'], ['When', 'shall', 'we', 'three', 'meet', 'againe', '?'], ['In', 'Thunder', ',', 'Lightning', ',', 'or', 'in', 'Raine', '?'], ['2', '.'], ['When', 'the', 'Hurley', '-', 'burley', \"'\", 's', 'done', ',', 'When', 'the', 'Battaile', \"'\", 's', 'lost', ',', 'and', 'wonne'], ['3', '.'], ['That', 'will', 'be', 'ere', 'the', 'set', 'of', 'Sunne'], ['1', '.'], ['Where', 'the', 'place', '?'], ['2', '.'], ['Vpon', 'the', 'Heath'], ['3', '.'], ['There', 'to', 'meet', 'with', 'Macbeth'], ['1', '.'], ['I', 'come', ',', 'Gray', '-', 'Malkin'], ['All', '.'], ['Padock', 'calls', 'anon', ':', 'faire', 'is', 'foule', ',', 'and', 'foule', 'is', 'faire', ',', 'Houer', 'through', 'the', 'fogge', 'and', 'filthie', 'ayre', '.'], ['Exeunt', '.'], ['Scena', 'Secunda', '.'], ['Alarum', 'within', '.'], ['Enter', 'King', 'Malcome', ',', 'Donalbaine', ',', 'Lenox', ',', 'with', 'attendants', ',', 'meeting', 'a', 'bleeding', 'Captaine', '.'], ['King', '.'], ['What', 'bloody', 'man', 'is', 'that', '?'], ['he', 'can', 'report', ',', 'As', 'seemeth', 'by', 'his', 'plight', ',', 'of', 'the', 'Reuolt', 'The', 'newest', 'state'], ['Mal', '.'], ['This', 'is', 'the', 'Serieant', ',', 'Who', 'like', 'a', 'good', 'and', 'hardie', 'Souldier', 'fought', \"'\", 'Gainst', 'my', 'Captiuitie', ':', 'Haile', 'braue', 'friend', ';', 'Say', 'to', 'the', 'King', ',', 'the', 'knowledge', 'of', 'the', 'Broyle', ',', 'As', 'thou', 'didst', 'leaue', 'it'], ['Cap', '.'], ['Doubtfull', 'it', 'stood', ',', 'As', 'two', 'spent', 'Swimmers', ',', 'that', 'doe', 'cling', 'together', ',', 'And', 'choake', 'their', 'Art', ':', 'The', 'mercilesse', 'Macdonwald', '(', 'Worthie', 'to', 'be', 'a', 'Rebell', ',', 'for', 'to', 'that', 'The', 'multiplying', 'Villanies', 'of', 'Nature', 'Doe', 'swarme', 'vpon', 'him', ')', 'from', 'the', 'Westerne', 'Isles', 'Of', 'Kernes', 'and', 'Gallowgrosses', 'is', 'supply', \"'\", 'd', ',', 'And', 'Fortune', 'on', 'his', 'damned', 'Quarry', 'smiling', ',', 'Shew', \"'\", 'd', 'like', 'a', 'Rebells', 'Whore', ':', 'but', 'all', \"'\", 's', 'too', 'weake', ':', 'For', 'braue', 'Macbeth', '(', 'well', 'hee', 'deserues', 'that', 'Name', ')', 'Disdayning', 'Fortune', ',', 'with', 'his', 'brandisht', 'Steele', ',', 'Which', 'smoak', \"'\", 'd', 'with', 'bloody', 'execution', '(', 'Like', 'Valours', 'Minion', ')', 'caru', \"'\", 'd', 'out', 'his', 'passage', ',', 'Till', 'hee', 'fac', \"'\", 'd', 'the', 'Slaue', ':', 'Which', 'neu', \"'\", 'r', 'shooke', 'hands', ',', 'nor', 'bad', 'farwell', 'to', 'him', ',', 'Till', 'he', 'vnseam', \"'\", 'd', 'him', 'from', 'the', 'Naue', 'toth', \"'\", 'Chops', ',', 'And', 'fix', \"'\", 'd', 'his', 'Head', 'vpon', 'our', 'Battlements'], ['King', '.'], ['O', 'valiant', 'Cousin', ',', 'worthy', 'Gentleman'], ['Cap', '.'], ['As', 'whence', 'the', 'Sunne', \"'\", 'gins', 'his', 'reflection', ',', 'Shipwracking', 'Stormes', ',', 'and', 'direfull', 'Thunders', ':', 'So', 'from', 'that', 'Spring', ',', 'whence', 'comfort', 'seem', \"'\", 'd', 'to', 'come', ',', 'Discomfort', 'swells', ':', 'Marke', 'King', 'of', 'Scotland', ',', 'marke', ',', 'No', 'sooner', 'Iustice', 'had', ',', 'with', 'Valour', 'arm', \"'\", 'd', ',', 'Compell', \"'\", 'd', 'these', 'skipping', 'Kernes', 'to', 'trust', 'their', 'heeles', ',', 'But', 'the', 'Norweyan', 'Lord', ',', 'surueying', 'vantage', ',', 'With', 'furbusht', 'Armes', ',', 'and', 'new', 'supplyes', 'of', 'men', ',', 'Began', 'a', 'fresh', 'assault'], ['King', '.'], ['Dismay', \"'\", 'd', 'not', 'this', 'our', 'Captaines', ',', 'Macbeth', 'and', 'Banquoh', '?'], ['Cap', '.'], ['Yes', ',', 'as', 'Sparrowes', ',', 'Eagles', ';', 'Or', 'the', 'Hare', ',', 'the', 'Lyon', ':', 'If', 'I', 'say', 'sooth', ',', 'I', 'must', 'report', 'they', 'were', 'As', 'Cannons', 'ouer', '-', 'charg', \"'\", 'd', 'with', 'double', 'Cracks', ',', 'So', 'they', 'doubly', 'redoubled', 'stroakes', 'vpon', 'the', 'Foe', ':', 'Except', 'they', 'meant', 'to', 'bathe', 'in', 'reeking', 'Wounds', ',', 'Or', 'memorize', 'another', 'Golgotha', ',', 'I', 'cannot', 'tell', ':', 'but', 'I', 'am', 'faint', ',', 'My', 'Gashes', 'cry', 'for', 'helpe'], ['King', '.'], ['So', 'well', 'thy', 'words', 'become', 'thee', ',', 'as', 'thy', 'wounds', ',', 'They', 'smack', 'of', 'Honor', 'both', ':', 'Goe', 'get', 'him', 'Surgeons', '.'], ['Enter', 'Rosse', 'and', 'Angus', '.'], ['Who', 'comes', 'here', '?'], ['Mal', '.'], ['The', 'worthy', 'Thane', 'of', 'Rosse'], ['Lenox', '.'], ['What', 'a', 'haste', 'lookes', 'through', 'his', 'eyes', '?'], ['So', 'should', 'he', 'looke', ',', 'that', 'seemes', 'to', 'speake', 'things', 'strange']]\n",
      "[['[', 'Leaves', 'of', 'Grass', 'by', 'Walt', 'Whitman', '1855', ']'], ['Come', ',', 'said', 'my', 'soul', ',', 'Such', 'verses', 'for', 'my', 'Body', 'let', 'us', 'write', ',', '(', 'for', 'we', 'are', 'one', ',)', 'That', 'should', 'I', 'after', 'return', ',', 'Or', ',', 'long', ',', 'long', 'hence', ',', 'in', 'other', 'spheres', ',', 'There', 'to', 'some', 'group', 'of', 'mates', 'the', 'chants', 'resuming', ',', '(', 'Tallying', 'Earth', \"'\", 's', 'soil', ',', 'trees', ',', 'winds', ',', 'tumultuous', 'waves', ',)', 'Ever', 'with', 'pleas', \"'\", 'd', 'smile', 'I', 'may', 'keep', 'on', ',', 'Ever', 'and', 'ever', 'yet', 'the', 'verses', 'owning', '--', 'as', ',', 'first', ',', 'I', 'here', 'and', 'now', 'Signing', 'for', 'Soul', 'and', 'Body', ',', 'set', 'to', 'them', 'my', 'name', ','], ['Walt', 'Whitman'], ['[', 'BOOK', 'I', '.', 'INSCRIPTIONS', ']'], ['}', 'One', \"'\", 's', '-', 'Self', 'I', 'Sing'], ['One', \"'\", 's', '-', 'self', 'I', 'sing', ',', 'a', 'simple', 'separate', 'person', ',', 'Yet', 'utter', 'the', 'word', 'Democratic', ',', 'the', 'word', 'En', '-', 'Masse', '.'], ['Of', 'physiology', 'from', 'top', 'to', 'toe', 'I', 'sing', ',', 'Not', 'physiognomy', 'alone', 'nor', 'brain', 'alone', 'is', 'worthy', 'for', 'the', 'Muse', ',', 'I', 'say', 'the', 'Form', 'complete', 'is', 'worthier', 'far', ',', 'The', 'Female', 'equally', 'with', 'the', 'Male', 'I', 'sing', '.'], ['Of', 'Life', 'immense', 'in', 'passion', ',', 'pulse', ',', 'and', 'power', ',', 'Cheerful', ',', 'for', 'freest', 'action', 'form', \"'\", 'd', 'under', 'the', 'laws', 'divine', ',', 'The', 'Modern', 'Man', 'I', 'sing', '.'], ['}', 'As', 'I', 'Ponder', \"'\", 'd', 'in', 'Silence'], ['As', 'I', 'ponder', \"'\", 'd', 'in', 'silence', ',', 'Returning', 'upon', 'my', 'poems', ',', 'considering', ',', 'lingering', 'long', ',', 'A', 'Phantom', 'arose', 'before', 'me', 'with', 'distrustful', 'aspect', ',', 'Terrible', 'in', 'beauty', ',', 'age', ',', 'and', 'power', ',', 'The', 'genius', 'of', 'poets', 'of', 'old', 'lands', ',', 'As', 'to', 'me', 'directing', 'like', 'flame', 'its', 'eyes', ',', 'With', 'finger', 'pointing', 'to', 'many', 'immortal', 'songs', ',', 'And', 'menacing', 'voice', ',', 'What', 'singest', 'thou', '?'], ['it', 'said', ',', 'Know', \"'\", 'st', 'thou', 'not', 'there', 'is', 'hut', 'one', 'theme', 'for', 'ever', '-', 'enduring', 'bards', '?'], ['And', 'that', 'is', 'the', 'theme', 'of', 'War', ',', 'the', 'fortune', 'of', 'battles', ',', 'The', 'making', 'of', 'perfect', 'soldiers', '.'], ['Be', 'it', 'so', ',', 'then', 'I', 'answer', \"'\", 'd', ',', 'I', 'too', 'haughty', 'Shade', 'also', 'sing', 'war', ',', 'and', 'a', 'longer', 'and', 'greater', 'one', 'than', 'any', ',', 'Waged', 'in', 'my', 'book', 'with', 'varying', 'fortune', ',', 'with', 'flight', ',', 'advance', 'and', 'retreat', ',', 'victory', 'deferr', \"'\", 'd', 'and', 'wavering', ',', '(', 'Yet', 'methinks', 'certain', ',', 'or', 'as', 'good', 'as', 'certain', ',', 'at', 'the', 'last', ',)', 'the', 'field', 'the', 'world', ',', 'For', 'life', 'and', 'death', ',', 'for', 'the', 'Body', 'and', 'for', 'the', 'eternal', 'Soul', ',', 'Lo', ',', 'I', 'too', 'am', 'come', ',', 'chanting', 'the', 'chant', 'of', 'battles', ',', 'I', 'above', 'all', 'promote', 'brave', 'soldiers', '.'], ['}', 'In', 'Cabin', \"'\", 'd', 'Ships', 'at', 'Sea'], ['In', 'cabin', \"'\", 'd', 'ships', 'at', 'sea', ',', 'The', 'boundless', 'blue', 'on', 'every', 'side', 'expanding', ',', 'With', 'whistling', 'winds', 'and', 'music', 'of', 'the', 'waves', ',', 'the', 'large', 'imperious', 'waves', ',', 'Or', 'some', 'lone', 'bark', 'buoy', \"'\", 'd', 'on', 'the', 'dense', 'marine', ',', 'Where', 'joyous', 'full', 'of', 'faith', ',', 'spreading', 'white', 'sails', ',', 'She', 'cleaves', 'the', 'ether', 'mid', 'the', 'sparkle', 'and', 'the', 'foam', 'of', 'day', ',', 'or', 'under', 'many', 'a', 'star', 'at', 'night', ',', 'By', 'sailors', 'young', 'and', 'old', 'haply', 'will', 'I', ',', 'a', 'reminiscence', 'of', 'the', 'land', ',', 'be', 'read', ',', 'In', 'full', 'rapport', 'at', 'last', '.'], ['Here', 'are', 'our', 'thoughts', ',', 'voyagers', \"'\", 'thoughts', ',', 'Here', 'not', 'the', 'land', ',', 'firm', 'land', ',', 'alone', 'appears', ',', 'may', 'then', 'by', 'them', 'be', 'said', ',', 'The', 'sky', 'o', \"'\", 'erarches', 'here', ',', 'we', 'feel', 'the', 'undulating', 'deck', 'beneath', 'our', 'feet', ',', 'We', 'feel', 'the', 'long', 'pulsation', ',', 'ebb', 'and', 'flow', 'of', 'endless', 'motion', ',', 'The', 'tones', 'of', 'unseen', 'mystery', ',', 'the', 'vague', 'and', 'vast', 'suggestions', 'of', 'the', 'briny', 'world', ',', 'the', 'liquid', '-', 'flowing', 'syllables', ',', 'The', 'perfume', ',', 'the', 'faint', 'creaking', 'of', 'the', 'cordage', ',', 'the', 'melancholy', 'rhythm', ',', 'The', 'boundless', 'vista', 'and', 'the', 'horizon', 'far', 'and', 'dim', 'are', 'all', 'here', ',', 'And', 'this', 'is', 'ocean', \"'\", 's', 'poem', '.'], ['Then', 'falter', 'not', 'O', 'book', ',', 'fulfil', 'your', 'destiny', ',', 'You', 'not', 'a', 'reminiscence', 'of', 'the', 'land', 'alone', ',', 'You', 'too', 'as', 'a', 'lone', 'bark', 'cleaving', 'the', 'ether', ',', 'purpos', \"'\", 'd', 'I', 'know', 'not', 'whither', ',', 'yet', 'ever', 'full', 'of', 'faith', ',', 'Consort', 'to', 'every', 'ship', 'that', 'sails', ',', 'sail', 'you', '!'], ['Bear', 'forth', 'to', 'them', 'folded', 'my', 'love', ',', '(', 'dear', 'mariners', ',', 'for', 'you', 'I', 'fold', 'it', 'here', 'in', 'every', 'leaf', ';)', 'Speed', 'on', 'my', 'book', '!'], ['spread', 'your', 'white', 'sails', 'my', 'little', 'bark', 'athwart', 'the', 'imperious', 'waves', ',', 'Chant', 'on', ',', 'sail', 'on', ',', 'bear', 'o', \"'\", 'er', 'the', 'boundless', 'blue', 'from', 'me', 'to', 'every', 'sea', ',', 'This', 'song', 'for', 'mariners', 'and', 'all', 'their', 'ships', '.'], ['}', 'To', 'Foreign', 'Lands'], ['I', 'heard', 'that', 'you', 'ask', \"'\", 'd', 'for', 'something', 'to', 'prove', 'this', 'puzzle', 'the', 'New', 'World', ',', 'And', 'to', 'define', 'America', ',', 'her', 'athletic', 'Democracy', ',', 'Therefore', 'I', 'send', 'you', 'my', 'poems', 'that', 'you', 'behold', 'in', 'them', 'what', 'you', 'wanted', '.'], ['}', 'To', 'a', 'Historian'], ['You', 'who', 'celebrate', 'bygones', ',', 'Who', 'have', 'explored', 'the', 'outward', ',', 'the', 'surfaces', 'of', 'the', 'races', ',', 'the', 'life', 'that', 'has', 'exhibited', 'itself', ',', 'Who', 'have', 'treated', 'of', 'man', 'as', 'the', 'creature', 'of', 'politics', ',', 'aggregates', ',', 'rulers', 'and', 'priests', ',', 'I', ',', 'habitan', 'of', 'the', 'Alleghanies', ',', 'treating', 'of', 'him', 'as', 'he', 'is', 'in', 'himself', 'in', 'his', 'own', 'rights', ',', 'Pressing', 'the', 'pulse', 'of', 'the', 'life', 'that', 'has', 'seldom', 'exhibited', 'itself', ',', '(', 'the', 'great', 'pride', 'of', 'man', 'in', 'himself', ',)', 'Chanter', 'of', 'Personality', ',', 'outlining', 'what', 'is', 'yet', 'to', 'be', ',', 'I', 'project', 'the', 'history', 'of', 'the', 'future', '.'], ['}', 'To', 'Thee', 'Old', 'Cause'], ['To', 'thee', 'old', 'cause', '!'], ['Thou', 'peerless', ',', 'passionate', ',', 'good', 'cause', ',', 'Thou', 'stern', ',', 'remorseless', ',', 'sweet', 'idea', ',', 'Deathless', 'throughout', 'the', 'ages', ',', 'races', ',', 'lands', ',', 'After', 'a', 'strange', 'sad', 'war', ',', 'great', 'war', 'for', 'thee', ',', '(', 'I', 'think', 'all', 'war', 'through', 'time', 'was', 'really', 'fought', ',', 'and', 'ever', 'will', 'be', 'really', 'fought', ',', 'for', 'thee', ',)', 'These', 'chants', 'for', 'thee', ',', 'the', 'eternal', 'march', 'of', 'thee', '.'], ['(', 'A', 'war', 'O', 'soldiers', 'not', 'for', 'itself', 'alone', ',', 'Far', ',', 'far', 'more', 'stood', 'silently', 'waiting', 'behind', ',', 'now', 'to', 'advance', 'in', 'this', 'book', '.)'], ['Thou', 'orb', 'of', 'many', 'orbs', '!'], ['Thou', 'seething', 'principle', '!'], ['thou', 'well', '-', 'kept', ',', 'latent', 'germ', '!'], ['thou', 'centre', '!'], ['Around', 'the', 'idea', 'of', 'thee', 'the', 'war', 'revolving', ',', 'With', 'all', 'its', 'angry', 'and', 'vehement', 'play', 'of', 'causes', ',', '(', 'With', 'vast', 'results', 'to', 'come', 'for', 'thrice', 'a', 'thousand', 'years', ',)', 'These', 'recitatives', 'for', 'thee', ',--', 'my', 'book', 'and', 'the', 'war', 'are', 'one', ',', 'Merged', 'in', 'its', 'spirit', 'I', 'and', 'mine', ',', 'as', 'the', 'contest', 'hinged', 'on', 'thee', ',', 'As', 'a', 'wheel', 'on', 'its', 'axis', 'turns', ',', 'this', 'book', 'unwitting', 'to', 'itself', ',', 'Around', 'the', 'idea', 'of', 'thee', '.'], ['}', 'Eidolons'], ['I', 'met', 'a', 'seer', ',', 'Passing', 'the', 'hues', 'and', 'objects', 'of', 'the', 'world', ',', 'The', 'fields', 'of', 'art', 'and', 'learning', ',', 'pleasure', ',', 'sense', ',', 'To', 'glean', 'eidolons', '.'], ['Put', 'in', 'thy', 'chants', 'said', 'he', ',', 'No', 'more', 'the', 'puzzling', 'hour', 'nor', 'day', ',', 'nor', 'segments', ',', 'parts', ',', 'put', 'in', ',', 'Put', 'first', 'before', 'the', 'rest', 'as', 'light', 'for', 'all', 'and', 'entrance', '-', 'song', 'of', 'all', ',', 'That', 'of', 'eidolons', '.'], ['Ever', 'the', 'dim', 'beginning', ',', 'Ever', 'the', 'growth', ',', 'the', 'rounding', 'of', 'the', 'circle', ',', 'Ever', 'the', 'summit', 'and', 'the', 'merge', 'at', 'last', ',', '(', 'to', 'surely', 'start', 'again', ',)', 'Eidolons', '!'], ['eidolons', '!'], ['Ever', 'the', 'mutable', ',', 'Ever', 'materials', ',', 'changing', ',', 'crumbling', ',', 're', '-', 'cohering', ',', 'Ever', 'the', 'ateliers', ',', 'the', 'factories', 'divine', ',', 'Issuing', 'eidolons', '.'], ['Lo', ',', 'I', 'or', 'you', ',', 'Or', 'woman', ',', 'man', ',', 'or', 'state', ',', 'known', 'or', 'unknown', ',', 'We', 'seeming', 'solid', 'wealth', ',', 'strength', ',', 'beauty', 'build', ',', 'But', 'really', 'build', 'eidolons', '.'], ['The', 'ostent', 'evanescent', ',', 'The', 'substance', 'of', 'an', 'artist', \"'\", 's', 'mood', 'or', 'savan', \"'\", 's', 'studies', 'long', ',', 'Or', 'warrior', \"'\", 's', ',', 'martyr', \"'\", 's', ',', 'hero', \"'\", 's', 'toils', ',', 'To', 'fashion', 'his', 'eidolon', '.'], ['Of', 'every', 'human', 'life', ',', '(', 'The', 'units', 'gather', \"'\", 'd', ',', 'posted', ',', 'not', 'a', 'thought', ',', 'emotion', ',', 'deed', ',', 'left', 'out', ',)', 'The', 'whole', 'or', 'large', 'or', 'small', 'summ', \"'\", 'd', ',', 'added', 'up', ',', 'In', 'its', 'eidolon', '.'], ['The', 'old', ',', 'old', 'urge', ',', 'Based', 'on', 'the', 'ancient', 'pinnacles', ',', 'lo', ',', 'newer', ',', 'higher', 'pinnacles', ',', 'From', 'science', 'and', 'the', 'modern', 'still', 'impell', \"'\", 'd', ',', 'The', 'old', ',', 'old', 'urge', ',', 'eidolons', '.'], ['The', 'present', 'now', 'and', 'here', ',', 'America', \"'\", 's', 'busy', ',', 'teeming', ',', 'intricate', 'whirl', ',', 'Of', 'aggregate', 'and', 'segregate', 'for', 'only', 'thence', 'releasing', ',', 'To', '-', 'day', \"'\", 's', 'eidolons', '.'], ['These', 'with', 'the', 'past', ',', 'Of', 'vanish', \"'\", 'd', 'lands', ',', 'of', 'all', 'the', 'reigns', 'of', 'kings', 'across', 'the', 'sea', ',', 'Old', 'conquerors', ',', 'old', 'campaigns', ',', 'old', 'sailors', \"'\", 'voyages', ',', 'Joining', 'eidolons', '.'], ['Densities', ',', 'growth', ',', 'facades', ',', 'Strata', 'of', 'mountains', ',', 'soils', ',', 'rocks', ',', 'giant', 'trees', ',', 'Far', '-', 'born', ',', 'far', '-', 'dying', ',', 'living', 'long', ',', 'to', 'leave', ',', 'Eidolons', 'everlasting', '.'], ['Exalte', ',', 'rapt', ',', 'ecstatic', ',', 'The', 'visible', 'but', 'their', 'womb', 'of', 'birth', ',', 'Of', 'orbic', 'tendencies', 'to', 'shape', 'and', 'shape', 'and', 'shape', ',', 'The', 'mighty', 'earth', '-', 'eidolon', '.'], ['All', 'space', ',', 'all', 'time', ',', '(', 'The', 'stars', ',', 'the', 'terrible', 'perturbations', 'of', 'the', 'suns', ',', 'Swelling', ',', 'collapsing', ',', 'ending', ',', 'serving', 'their', 'longer', ',', 'shorter', 'use', ',)', 'Fill', \"'\", 'd', 'with', 'eidolons', 'only', '.'], ['The', 'noiseless', 'myriads', ',', 'The', 'infinite', 'oceans', 'where', 'the', 'rivers', 'empty', ',', 'The', 'separate', 'countless', 'free', 'identities', ',', 'like', 'eyesight', ',', 'The', 'true', 'realities', ',', 'eidolons', '.'], ['Not', 'this', 'the', 'world', ',', 'Nor', 'these', 'the', 'universes', ',', 'they', 'the', 'universes', ',', 'Purport', 'and', 'end', ',', 'ever', 'the', 'permanent', 'life', 'of', 'life', ',', 'Eidolons', ',', 'eidolons', '.'], ['Beyond', 'thy', 'lectures', 'learn', \"'\", 'd', 'professor', ',', 'Beyond', 'thy', 'telescope', 'or', 'spectroscope', 'observer', 'keen', ',', 'beyond', 'all', 'mathematics', ',', 'Beyond', 'the', 'doctor', \"'\", 's', 'surgery', ',', 'anatomy', ',', 'beyond', 'the', 'chemist', 'with', 'his', 'chemistry', ',', 'The', 'entities', 'of', 'entities', ',', 'eidolons', '.']]\n"
     ]
    }
   ],
   "source": [
    "for w in gutenberg.fileids():\n",
    "    show=gutenberg.sents(w)\n",
    "    print(show[:50])\n",
    "    "
   ]
  },
  {
   "cell_type": "code",
   "execution_count": 30,
   "metadata": {},
   "outputs": [
    {
     "name": "stdout",
     "output_type": "stream",
     "text": [
      "5 25 26 austen-emma.txt\n",
      "5 26 17 austen-persuasion.txt\n",
      "5 28 22 austen-sense.txt\n",
      "4 34 79 bible-kjv.txt\n",
      "5 19 5 blake-poems.txt\n",
      "4 19 14 bryant-stories.txt\n",
      "4 18 12 burgess-busterbrown.txt\n",
      "4 20 13 carroll-alice.txt\n",
      "5 20 12 chesterton-ball.txt\n",
      "5 23 11 chesterton-brown.txt\n",
      "5 18 11 chesterton-thursday.txt\n",
      "4 21 25 edgeworth-parents.txt\n",
      "5 26 15 melville-moby_dick.txt\n",
      "5 52 11 milton-paradise.txt\n",
      "4 12 9 shakespeare-caesar.txt\n",
      "4 12 8 shakespeare-hamlet.txt\n",
      "4 12 7 shakespeare-macbeth.txt\n",
      "5 36 12 whitman-leaves.txt\n"
     ]
    }
   ],
   "source": [
    "# calculation of average word length, average sentence length, and the number of times each vocabulary item appears in a text\n",
    "for fileid in gutenberg.fileids():\n",
    "     num_chars = len(gutenberg.raw(fileid))\n",
    "     num_words = len(gutenberg.words(fileid))\n",
    "     num_sents = len(gutenberg.sents(fileid))\n",
    "     num_vocab = len(set(w.lower() for w in gutenberg.words(fileid)))\n",
    "     print(round(num_chars/num_words), round(num_words/num_sents), round(num_words/num_vocab), fileid)"
   ]
  },
  {
   "cell_type": "code",
   "execution_count": 39,
   "metadata": {},
   "outputs": [
    {
     "name": "stdout",
     "output_type": "stream",
     "text": [
      "firefox.txt Cookie Manager: \"Don't allow sites that set removed cookies to se\n",
      "grail.txt SCENE 1: [wind] [clop clop clop] \n",
      "KING ARTHUR: Whoa there!  [clop\n",
      "overheard.txt White guy: So, do you have any plans for this evening?\n",
      "Asian girl\n",
      "pirates.txt PIRATES OF THE CARRIBEAN: DEAD MAN'S CHEST, by Ted Elliott & Terr\n",
      "singles.txt 25 SEXY MALE, seeks attrac older single lady, for discreet encoun\n",
      "wine.txt Lovely delicate, fragrant Rhone wine. Polished leather and strawb\n"
     ]
    }
   ],
   "source": [
    "from nltk.corpus import webtext\n",
    "for fileid in webtext.fileids():\n",
    "     print(fileid, webtext.raw(fileid)[:65])\n"
   ]
  },
  {
   "cell_type": "markdown",
   "metadata": {},
   "source": [
    "**Lets use the brown corpus**"
   ]
  },
  {
   "cell_type": "code",
   "execution_count": 40,
   "metadata": {},
   "outputs": [
    {
     "data": {
      "text/plain": [
       "['adventure',\n",
       " 'belles_lettres',\n",
       " 'editorial',\n",
       " 'fiction',\n",
       " 'government',\n",
       " 'hobbies',\n",
       " 'humor',\n",
       " 'learned',\n",
       " 'lore',\n",
       " 'mystery',\n",
       " 'news',\n",
       " 'religion',\n",
       " 'reviews',\n",
       " 'romance',\n",
       " 'science_fiction']"
      ]
     },
     "execution_count": 40,
     "metadata": {},
     "output_type": "execute_result"
    }
   ],
   "source": [
    "from nltk.corpus import brown\n",
    "brown.categories()"
   ]
  },
  {
   "cell_type": "code",
   "execution_count": 50,
   "metadata": {},
   "outputs": [
    {
     "data": {
      "text/plain": [
       "['The', 'Fulton', 'County', 'Grand', 'Jury', 'said', ...]"
      ]
     },
     "execution_count": 50,
     "metadata": {},
     "output_type": "execute_result"
    }
   ],
   "source": [
    "brown.words(categories='news')"
   ]
  },
  {
   "cell_type": "code",
   "execution_count": 51,
   "metadata": {},
   "outputs": [
    {
     "data": {
      "text/plain": [
       "[['The', 'Fulton', 'County', 'Grand', 'Jury', 'said', 'Friday', 'an', 'investigation', 'of', \"Atlanta's\", 'recent', 'primary', 'election', 'produced', '``', 'no', 'evidence', \"''\", 'that', 'any', 'irregularities', 'took', 'place', '.'], ['The', 'jury', 'further', 'said', 'in', 'term-end', 'presentments', 'that', 'the', 'City', 'Executive', 'Committee', ',', 'which', 'had', 'over-all', 'charge', 'of', 'the', 'election', ',', '``', 'deserves', 'the', 'praise', 'and', 'thanks', 'of', 'the', 'City', 'of', 'Atlanta', \"''\", 'for', 'the', 'manner', 'in', 'which', 'the', 'election', 'was', 'conducted', '.'], ...]"
      ]
     },
     "execution_count": 51,
     "metadata": {},
     "output_type": "execute_result"
    }
   ],
   "source": [
    "brown.sents(categories=['news', 'editorial', 'reviews'])"
   ]
  },
  {
   "cell_type": "code",
   "execution_count": 52,
   "metadata": {},
   "outputs": [
    {
     "name": "stdout",
     "output_type": "stream",
     "text": [
      "can: 94 could: 87 may: 93 might: 38 must: 53 will: 389 "
     ]
    }
   ],
   "source": [
    "from nltk.corpus import brown\n",
    "news_text = brown.words(categories='news')\n",
    "fdist = nltk.FreqDist(w.lower() for w in news_text)\n",
    "modals = ['can', 'could', 'may', 'might', 'must', 'will']\n",
    "for m in modals:\n",
    "     print(m + ':', fdist[m], end=' ')"
   ]
  },
  {
   "cell_type": "code",
   "execution_count": 53,
   "metadata": {},
   "outputs": [
    {
     "name": "stdout",
     "output_type": "stream",
     "text": [
      "                  can could   may might  must  will \n",
      "           news    93    86    66    38    50   389 \n",
      "       religion    82    59    78    12    54    71 \n",
      "        hobbies   268    58   131    22    83   264 \n",
      "science_fiction    16    49     4    12     8    16 \n",
      "        romance    74   193    11    51    45    43 \n",
      "          humor    16    30     8     8     9    13 \n"
     ]
    }
   ],
   "source": [
    "cfd = nltk.ConditionalFreqDist(\n",
    "           (genre, word)\n",
    "           for genre in brown.categories()\n",
    "           for word in brown.words(categories=genre))\n",
    "genres = ['news', 'religion', 'hobbies', 'science_fiction', 'romance', 'humor']\n",
    "modals = ['can', 'could', 'may', 'might', 'must', 'will']\n",
    "cfd.tabulate(conditions=genres, samples=modals)"
   ]
  },
  {
   "cell_type": "code",
   "execution_count": 55,
   "metadata": {},
   "outputs": [
    {
     "data": {
      "text/plain": [
       "'The Adventures of Buster Bear by Thornton W. Burg'"
      ]
     },
     "execution_count": 55,
     "metadata": {},
     "output_type": "execute_result"
    }
   ],
   "source": [
    "raw = gutenberg.raw(\"burgess-busterbrown.txt\")\n",
    "raw[1:50]\n"
   ]
  },
  {
   "cell_type": "markdown",
   "metadata": {},
   "source": [
    "**Count the words inside genres?**"
   ]
  },
  {
   "cell_type": "code",
   "execution_count": 56,
   "metadata": {},
   "outputs": [
    {
     "data": {
      "text/plain": [
       "170576"
      ]
     },
     "execution_count": 56,
     "metadata": {},
     "output_type": "execute_result"
    }
   ],
   "source": [
    "genre_word = [(genre, word) for genre in ['news', 'romance'] for word in brown.words(categories=genre)]\n",
    "len(genre_word)"
   ]
  },
  {
   "cell_type": "markdown",
   "metadata": {},
   "source": [
    "**Lets Make a function for unusual words**"
   ]
  },
  {
   "cell_type": "code",
   "execution_count": 57,
   "metadata": {},
   "outputs": [],
   "source": [
    "def unusual_words(text):\n",
    "    text_vocab = set(w.lower() for w in text if w.isalpha())\n",
    "    english_vocab = set(w.lower() for w in nltk.corpus.words.words())\n",
    "    unusual = text_vocab - english_vocab\n",
    "    return sorted(unusual)"
   ]
  },
  {
   "cell_type": "markdown",
   "metadata": {},
   "source": [
    "**PLAYING WITH THE STOP WORDS**"
   ]
  },
  {
   "cell_type": "markdown",
   "metadata": {},
   "source": [
    "Stop Words: A stop word is a commonly used word (such as “the”, “a”, “an”, “in”) that a search engine has been programmed to ignore, both when indexing entries for searching and when retrieving them as the result of a search query.\n",
    "\n",
    "We would not want these words taking up space in our database, or taking up valuable processing time. For this, we can remove them easily, by storing a list of words that you consider to be stop words.\n"
   ]
  },
  {
   "cell_type": "code",
   "execution_count": 58,
   "metadata": {},
   "outputs": [
    {
     "data": {
      "text/plain": [
       "['i',\n",
       " 'me',\n",
       " 'my',\n",
       " 'myself',\n",
       " 'we',\n",
       " 'our',\n",
       " 'ours',\n",
       " 'ourselves',\n",
       " 'you',\n",
       " \"you're\",\n",
       " \"you've\",\n",
       " \"you'll\",\n",
       " \"you'd\",\n",
       " 'your',\n",
       " 'yours',\n",
       " 'yourself',\n",
       " 'yourselves',\n",
       " 'he',\n",
       " 'him',\n",
       " 'his',\n",
       " 'himself',\n",
       " 'she',\n",
       " \"she's\",\n",
       " 'her',\n",
       " 'hers',\n",
       " 'herself',\n",
       " 'it',\n",
       " \"it's\",\n",
       " 'its',\n",
       " 'itself',\n",
       " 'they',\n",
       " 'them',\n",
       " 'their',\n",
       " 'theirs',\n",
       " 'themselves',\n",
       " 'what',\n",
       " 'which',\n",
       " 'who',\n",
       " 'whom',\n",
       " 'this',\n",
       " 'that',\n",
       " \"that'll\",\n",
       " 'these',\n",
       " 'those',\n",
       " 'am',\n",
       " 'is',\n",
       " 'are',\n",
       " 'was',\n",
       " 'were',\n",
       " 'be',\n",
       " 'been',\n",
       " 'being',\n",
       " 'have',\n",
       " 'has',\n",
       " 'had',\n",
       " 'having',\n",
       " 'do',\n",
       " 'does',\n",
       " 'did',\n",
       " 'doing',\n",
       " 'a',\n",
       " 'an',\n",
       " 'the',\n",
       " 'and',\n",
       " 'but',\n",
       " 'if',\n",
       " 'or',\n",
       " 'because',\n",
       " 'as',\n",
       " 'until',\n",
       " 'while',\n",
       " 'of',\n",
       " 'at',\n",
       " 'by',\n",
       " 'for',\n",
       " 'with',\n",
       " 'about',\n",
       " 'against',\n",
       " 'between',\n",
       " 'into',\n",
       " 'through',\n",
       " 'during',\n",
       " 'before',\n",
       " 'after',\n",
       " 'above',\n",
       " 'below',\n",
       " 'to',\n",
       " 'from',\n",
       " 'up',\n",
       " 'down',\n",
       " 'in',\n",
       " 'out',\n",
       " 'on',\n",
       " 'off',\n",
       " 'over',\n",
       " 'under',\n",
       " 'again',\n",
       " 'further',\n",
       " 'then',\n",
       " 'once',\n",
       " 'here',\n",
       " 'there',\n",
       " 'when',\n",
       " 'where',\n",
       " 'why',\n",
       " 'how',\n",
       " 'all',\n",
       " 'any',\n",
       " 'both',\n",
       " 'each',\n",
       " 'few',\n",
       " 'more',\n",
       " 'most',\n",
       " 'other',\n",
       " 'some',\n",
       " 'such',\n",
       " 'no',\n",
       " 'nor',\n",
       " 'not',\n",
       " 'only',\n",
       " 'own',\n",
       " 'same',\n",
       " 'so',\n",
       " 'than',\n",
       " 'too',\n",
       " 'very',\n",
       " 's',\n",
       " 't',\n",
       " 'can',\n",
       " 'will',\n",
       " 'just',\n",
       " 'don',\n",
       " \"don't\",\n",
       " 'should',\n",
       " \"should've\",\n",
       " 'now',\n",
       " 'd',\n",
       " 'll',\n",
       " 'm',\n",
       " 'o',\n",
       " 're',\n",
       " 've',\n",
       " 'y',\n",
       " 'ain',\n",
       " 'aren',\n",
       " \"aren't\",\n",
       " 'couldn',\n",
       " \"couldn't\",\n",
       " 'didn',\n",
       " \"didn't\",\n",
       " 'doesn',\n",
       " \"doesn't\",\n",
       " 'hadn',\n",
       " \"hadn't\",\n",
       " 'hasn',\n",
       " \"hasn't\",\n",
       " 'haven',\n",
       " \"haven't\",\n",
       " 'isn',\n",
       " \"isn't\",\n",
       " 'ma',\n",
       " 'mightn',\n",
       " \"mightn't\",\n",
       " 'mustn',\n",
       " \"mustn't\",\n",
       " 'needn',\n",
       " \"needn't\",\n",
       " 'shan',\n",
       " \"shan't\",\n",
       " 'shouldn',\n",
       " \"shouldn't\",\n",
       " 'wasn',\n",
       " \"wasn't\",\n",
       " 'weren',\n",
       " \"weren't\",\n",
       " 'won',\n",
       " \"won't\",\n",
       " 'wouldn',\n",
       " \"wouldn't\"]"
      ]
     },
     "execution_count": 58,
     "metadata": {},
     "output_type": "execute_result"
    }
   ],
   "source": [
    "from nltk.corpus import stopwords \n",
    "stopwords.words('english')"
   ]
  },
  {
   "cell_type": "markdown",
   "metadata": {},
   "source": [
    "**Let's define a function to compute what fraction of words in a text are not in the stopwords list:**"
   ]
  },
  {
   "cell_type": "code",
   "execution_count": 59,
   "metadata": {},
   "outputs": [
    {
     "data": {
      "text/plain": [
       "0.735240435097661"
      ]
     },
     "execution_count": 59,
     "metadata": {},
     "output_type": "execute_result"
    }
   ],
   "source": [
    " def content_fraction(text):\n",
    "     stopwords = nltk.corpus.stopwords.words('english')\n",
    "     content = [w for w in text if w.lower() not in stopwords]\n",
    "     return len(content) / len(text)\n",
    "\n",
    "content_fraction(nltk.corpus.reuters.words())\n"
   ]
  },
  {
   "cell_type": "code",
   "execution_count": 60,
   "metadata": {},
   "outputs": [
    {
     "data": {
      "text/plain": [
       "['Abbey',\n",
       " 'Abbie',\n",
       " 'Abby',\n",
       " 'Addie',\n",
       " 'Adrian',\n",
       " 'Adrien',\n",
       " 'Ajay',\n",
       " 'Alex',\n",
       " 'Alexis',\n",
       " 'Alfie',\n",
       " 'Ali',\n",
       " 'Alix',\n",
       " 'Allie',\n",
       " 'Allyn',\n",
       " 'Andie',\n",
       " 'Andrea',\n",
       " 'Andy',\n",
       " 'Angel',\n",
       " 'Angie',\n",
       " 'Ariel',\n",
       " 'Ashley',\n",
       " 'Aubrey',\n",
       " 'Augustine',\n",
       " 'Austin',\n",
       " 'Averil',\n",
       " 'Barrie',\n",
       " 'Barry',\n",
       " 'Beau',\n",
       " 'Bennie',\n",
       " 'Benny',\n",
       " 'Bernie',\n",
       " 'Bert',\n",
       " 'Bertie',\n",
       " 'Bill',\n",
       " 'Billie',\n",
       " 'Billy',\n",
       " 'Blair',\n",
       " 'Blake',\n",
       " 'Bo',\n",
       " 'Bobbie',\n",
       " 'Bobby',\n",
       " 'Brandy',\n",
       " 'Brett',\n",
       " 'Britt',\n",
       " 'Brook',\n",
       " 'Brooke',\n",
       " 'Brooks',\n",
       " 'Bryn',\n",
       " 'Cal',\n",
       " 'Cam',\n",
       " 'Cammy',\n",
       " 'Carey',\n",
       " 'Carlie',\n",
       " 'Carlin',\n",
       " 'Carmine',\n",
       " 'Carroll',\n",
       " 'Cary',\n",
       " 'Caryl',\n",
       " 'Casey',\n",
       " 'Cass',\n",
       " 'Cat',\n",
       " 'Cecil',\n",
       " 'Chad',\n",
       " 'Chris',\n",
       " 'Chrissy',\n",
       " 'Christian',\n",
       " 'Christie',\n",
       " 'Christy',\n",
       " 'Clair',\n",
       " 'Claire',\n",
       " 'Clare',\n",
       " 'Claude',\n",
       " 'Clem',\n",
       " 'Clemmie',\n",
       " 'Cody',\n",
       " 'Connie',\n",
       " 'Constantine',\n",
       " 'Corey',\n",
       " 'Corrie',\n",
       " 'Cory',\n",
       " 'Courtney',\n",
       " 'Cris',\n",
       " 'Daffy',\n",
       " 'Dale',\n",
       " 'Dallas',\n",
       " 'Dana',\n",
       " 'Dani',\n",
       " 'Daniel',\n",
       " 'Dannie',\n",
       " 'Danny',\n",
       " 'Darby',\n",
       " 'Darcy',\n",
       " 'Darryl',\n",
       " 'Daryl',\n",
       " 'Deane',\n",
       " 'Del',\n",
       " 'Dell',\n",
       " 'Demetris',\n",
       " 'Dennie',\n",
       " 'Denny',\n",
       " 'Devin',\n",
       " 'Devon',\n",
       " 'Dion',\n",
       " 'Dionis',\n",
       " 'Dominique',\n",
       " 'Donnie',\n",
       " 'Donny',\n",
       " 'Dorian',\n",
       " 'Dory',\n",
       " 'Drew',\n",
       " 'Eddie',\n",
       " 'Eddy',\n",
       " 'Edie',\n",
       " 'Elisha',\n",
       " 'Emmy',\n",
       " 'Erin',\n",
       " 'Esme',\n",
       " 'Evelyn',\n",
       " 'Felice',\n",
       " 'Fran',\n",
       " 'Francis',\n",
       " 'Frank',\n",
       " 'Frankie',\n",
       " 'Franky',\n",
       " 'Fred',\n",
       " 'Freddie',\n",
       " 'Freddy',\n",
       " 'Gabriel',\n",
       " 'Gabriell',\n",
       " 'Gail',\n",
       " 'Gale',\n",
       " 'Gay',\n",
       " 'Gayle',\n",
       " 'Gene',\n",
       " 'George',\n",
       " 'Georgia',\n",
       " 'Georgie',\n",
       " 'Geri',\n",
       " 'Germaine',\n",
       " 'Gerri',\n",
       " 'Gerry',\n",
       " 'Gill',\n",
       " 'Ginger',\n",
       " 'Glen',\n",
       " 'Glenn',\n",
       " 'Grace',\n",
       " 'Gretchen',\n",
       " 'Gus',\n",
       " 'Haleigh',\n",
       " 'Haley',\n",
       " 'Hannibal',\n",
       " 'Harley',\n",
       " 'Hazel',\n",
       " 'Heath',\n",
       " 'Henrie',\n",
       " 'Hilary',\n",
       " 'Hillary',\n",
       " 'Holly',\n",
       " 'Ike',\n",
       " 'Ikey',\n",
       " 'Ira',\n",
       " 'Isa',\n",
       " 'Isador',\n",
       " 'Isadore',\n",
       " 'Jackie',\n",
       " 'Jaime',\n",
       " 'Jamie',\n",
       " 'Jan',\n",
       " 'Jean',\n",
       " 'Jere',\n",
       " 'Jermaine',\n",
       " 'Jerrie',\n",
       " 'Jerry',\n",
       " 'Jess',\n",
       " 'Jesse',\n",
       " 'Jessie',\n",
       " 'Jo',\n",
       " 'Jodi',\n",
       " 'Jodie',\n",
       " 'Jody',\n",
       " 'Joey',\n",
       " 'Jordan',\n",
       " 'Juanita',\n",
       " 'Jude',\n",
       " 'Judith',\n",
       " 'Judy',\n",
       " 'Julie',\n",
       " 'Justin',\n",
       " 'Karel',\n",
       " 'Kellen',\n",
       " 'Kelley',\n",
       " 'Kelly',\n",
       " 'Kelsey',\n",
       " 'Kerry',\n",
       " 'Kim',\n",
       " 'Kip',\n",
       " 'Kirby',\n",
       " 'Kit',\n",
       " 'Kris',\n",
       " 'Kyle',\n",
       " 'Lane',\n",
       " 'Lanny',\n",
       " 'Lauren',\n",
       " 'Laurie',\n",
       " 'Lee',\n",
       " 'Leigh',\n",
       " 'Leland',\n",
       " 'Lesley',\n",
       " 'Leslie',\n",
       " 'Lin',\n",
       " 'Lind',\n",
       " 'Lindsay',\n",
       " 'Lindsey',\n",
       " 'Lindy',\n",
       " 'Lonnie',\n",
       " 'Loren',\n",
       " 'Lorne',\n",
       " 'Lorrie',\n",
       " 'Lou',\n",
       " 'Luce',\n",
       " 'Lyn',\n",
       " 'Lynn',\n",
       " 'Maddie',\n",
       " 'Maddy',\n",
       " 'Marietta',\n",
       " 'Marion',\n",
       " 'Marlo',\n",
       " 'Martie',\n",
       " 'Marty',\n",
       " 'Mattie',\n",
       " 'Matty',\n",
       " 'Maurise',\n",
       " 'Max',\n",
       " 'Maxie',\n",
       " 'Mead',\n",
       " 'Meade',\n",
       " 'Mel',\n",
       " 'Meredith',\n",
       " 'Merle',\n",
       " 'Merrill',\n",
       " 'Merry',\n",
       " 'Meryl',\n",
       " 'Michal',\n",
       " 'Michel',\n",
       " 'Michele',\n",
       " 'Mickie',\n",
       " 'Micky',\n",
       " 'Millicent',\n",
       " 'Morgan',\n",
       " 'Morlee',\n",
       " 'Muffin',\n",
       " 'Nat',\n",
       " 'Nichole',\n",
       " 'Nickie',\n",
       " 'Nicky',\n",
       " 'Niki',\n",
       " 'Nikki',\n",
       " 'Noel',\n",
       " 'Ollie',\n",
       " 'Page',\n",
       " 'Paige',\n",
       " 'Pat',\n",
       " 'Patrice',\n",
       " 'Patsy',\n",
       " 'Pattie',\n",
       " 'Patty',\n",
       " 'Pen',\n",
       " 'Pennie',\n",
       " 'Penny',\n",
       " 'Perry',\n",
       " 'Phil',\n",
       " 'Pooh',\n",
       " 'Quentin',\n",
       " 'Quinn',\n",
       " 'Randi',\n",
       " 'Randie',\n",
       " 'Randy',\n",
       " 'Ray',\n",
       " 'Regan',\n",
       " 'Reggie',\n",
       " 'Rene',\n",
       " 'Rey',\n",
       " 'Ricki',\n",
       " 'Rickie',\n",
       " 'Ricky',\n",
       " 'Rikki',\n",
       " 'Robbie',\n",
       " 'Robin',\n",
       " 'Ronnie',\n",
       " 'Ronny',\n",
       " 'Rory',\n",
       " 'Ruby',\n",
       " 'Sal',\n",
       " 'Sam',\n",
       " 'Sammy',\n",
       " 'Sandy',\n",
       " 'Sascha',\n",
       " 'Sasha',\n",
       " 'Saundra',\n",
       " 'Sayre',\n",
       " 'Scotty',\n",
       " 'Sean',\n",
       " 'Shaine',\n",
       " 'Shane',\n",
       " 'Shannon',\n",
       " 'Shaun',\n",
       " 'Shawn',\n",
       " 'Shay',\n",
       " 'Shayne',\n",
       " 'Shea',\n",
       " 'Shelby',\n",
       " 'Shell',\n",
       " 'Shelley',\n",
       " 'Sibyl',\n",
       " 'Simone',\n",
       " 'Sonnie',\n",
       " 'Sonny',\n",
       " 'Stacy',\n",
       " 'Sunny',\n",
       " 'Sydney',\n",
       " 'Tabbie',\n",
       " 'Tabby',\n",
       " 'Tallie',\n",
       " 'Tally',\n",
       " 'Tammie',\n",
       " 'Tammy',\n",
       " 'Tate',\n",
       " 'Ted',\n",
       " 'Teddie',\n",
       " 'Teddy',\n",
       " 'Terri',\n",
       " 'Terry',\n",
       " 'Theo',\n",
       " 'Tim',\n",
       " 'Timmie',\n",
       " 'Timmy',\n",
       " 'Tobe',\n",
       " 'Tobie',\n",
       " 'Toby',\n",
       " 'Tommie',\n",
       " 'Tommy',\n",
       " 'Tony',\n",
       " 'Torey',\n",
       " 'Trace',\n",
       " 'Tracey',\n",
       " 'Tracie',\n",
       " 'Tracy',\n",
       " 'Val',\n",
       " 'Vale',\n",
       " 'Valentine',\n",
       " 'Van',\n",
       " 'Vin',\n",
       " 'Vinnie',\n",
       " 'Vinny',\n",
       " 'Virgie',\n",
       " 'Wallie',\n",
       " 'Wallis',\n",
       " 'Wally',\n",
       " 'Whitney',\n",
       " 'Willi',\n",
       " 'Willie',\n",
       " 'Willy',\n",
       " 'Winnie',\n",
       " 'Winny',\n",
       " 'Wynn']"
      ]
     },
     "execution_count": 60,
     "metadata": {},
     "output_type": "execute_result"
    }
   ],
   "source": [
    "names = nltk.corpus.names\n",
    "male_names = names.words('male.txt')\n",
    "female_names = names.words('female.txt')\n",
    "[w for w in male_names if w in female_names]"
   ]
  },
  {
   "cell_type": "code",
   "execution_count": null,
   "metadata": {},
   "outputs": [],
   "source": []
  }
 ],
 "metadata": {
  "kernelspec": {
   "display_name": "Python 3",
   "language": "python",
   "name": "python3"
  },
  "language_info": {
   "codemirror_mode": {
    "name": "ipython",
    "version": 3
   },
   "file_extension": ".py",
   "mimetype": "text/x-python",
   "name": "python",
   "nbconvert_exporter": "python",
   "pygments_lexer": "ipython3",
   "version": "3.6.5"
  }
 },
 "nbformat": 4,
 "nbformat_minor": 2
}
